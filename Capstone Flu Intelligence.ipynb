{
 "cells": [
  {
   "cell_type": "code",
   "execution_count": 6,
   "id": "e4d24a0c-f654-4846-ad01-543b5874cd2d",
   "metadata": {},
   "outputs": [
    {
     "data": {
      "text/html": [
       "<div>\n",
       "<style scoped>\n",
       "    .dataframe tbody tr th:only-of-type {\n",
       "        vertical-align: middle;\n",
       "    }\n",
       "\n",
       "    .dataframe tbody tr th {\n",
       "        vertical-align: top;\n",
       "    }\n",
       "\n",
       "    .dataframe thead th {\n",
       "        text-align: right;\n",
       "    }\n",
       "</style>\n",
       "<table border=\"1\" class=\"dataframe\">\n",
       "  <thead>\n",
       "    <tr style=\"text-align: right;\">\n",
       "      <th></th>\n",
       "      <th>Week Ending (Friday)</th>\n",
       "      <th>State</th>\n",
       "      <th>Age  group</th>\n",
       "      <th>Sex</th>\n",
       "      <th>Indigenous status</th>\n",
       "      <th>Type/Subtype</th>\n",
       "    </tr>\n",
       "  </thead>\n",
       "  <tbody>\n",
       "    <tr>\n",
       "      <th>0</th>\n",
       "      <td>03/01/2014</td>\n",
       "      <td>NSW</td>\n",
       "      <td>35-39</td>\n",
       "      <td>Female</td>\n",
       "      <td>not available</td>\n",
       "      <td>A(H3N2)</td>\n",
       "    </tr>\n",
       "    <tr>\n",
       "      <th>1</th>\n",
       "      <td>03/01/2014</td>\n",
       "      <td>NSW</td>\n",
       "      <td>80-84</td>\n",
       "      <td>Female</td>\n",
       "      <td>not available</td>\n",
       "      <td>A(unsubtyped)</td>\n",
       "    </tr>\n",
       "    <tr>\n",
       "      <th>2</th>\n",
       "      <td>03/01/2014</td>\n",
       "      <td>NSW</td>\n",
       "      <td>80-84</td>\n",
       "      <td>Male</td>\n",
       "      <td>not available</td>\n",
       "      <td>A(unsubtyped)</td>\n",
       "    </tr>\n",
       "    <tr>\n",
       "      <th>3</th>\n",
       "      <td>03/01/2014</td>\n",
       "      <td>NSW</td>\n",
       "      <td>85+</td>\n",
       "      <td>Female</td>\n",
       "      <td>not available</td>\n",
       "      <td>A(H3N2)</td>\n",
       "    </tr>\n",
       "    <tr>\n",
       "      <th>4</th>\n",
       "      <td>03/01/2014</td>\n",
       "      <td>NT</td>\n",
       "      <td>00-04</td>\n",
       "      <td>Male</td>\n",
       "      <td>non-Indigenous</td>\n",
       "      <td>B</td>\n",
       "    </tr>\n",
       "  </tbody>\n",
       "</table>\n",
       "</div>"
      ],
      "text/plain": [
       "  Week Ending (Friday) State Age  group     Sex Indigenous status  \\\n",
       "0           03/01/2014   NSW      35-39  Female     not available   \n",
       "1           03/01/2014   NSW      80-84  Female     not available   \n",
       "2           03/01/2014   NSW      80-84    Male     not available   \n",
       "3           03/01/2014   NSW        85+  Female     not available   \n",
       "4           03/01/2014    NT      00-04    Male    non-Indigenous   \n",
       "\n",
       "    Type/Subtype  \n",
       "0        A(H3N2)  \n",
       "1  A(unsubtyped)  \n",
       "2  A(unsubtyped)  \n",
       "3        A(H3N2)  \n",
       "4              B  "
      ]
     },
     "execution_count": 6,
     "metadata": {},
     "output_type": "execute_result"
    }
   ],
   "source": [
    "import pandas as pd\n",
    "df1=pd.read_csv(\"lab flu confirmed 2008-2013.csv\")\n",
    "df2 =pd.read_csv(\"lab flu confirmed 2014 - 2019.csv\")\n",
    "\n",
    "df1= df1.iloc[:, 0:6]\n",
    "df1.head()"
   ]
  },
  {
   "cell_type": "code",
   "execution_count": 7,
   "id": "a65a76d6-4ced-445f-9af9-481c3412aa7d",
   "metadata": {},
   "outputs": [
    {
     "data": {
      "text/html": [
       "<div>\n",
       "<style scoped>\n",
       "    .dataframe tbody tr th:only-of-type {\n",
       "        vertical-align: middle;\n",
       "    }\n",
       "\n",
       "    .dataframe tbody tr th {\n",
       "        vertical-align: top;\n",
       "    }\n",
       "\n",
       "    .dataframe thead th {\n",
       "        text-align: right;\n",
       "    }\n",
       "</style>\n",
       "<table border=\"1\" class=\"dataframe\">\n",
       "  <thead>\n",
       "    <tr style=\"text-align: right;\">\n",
       "      <th></th>\n",
       "      <th>Week Ending (Friday)</th>\n",
       "      <th>State</th>\n",
       "      <th>Age  group</th>\n",
       "      <th>Sex</th>\n",
       "      <th>Indigenous status</th>\n",
       "      <th>Type/Subtype</th>\n",
       "    </tr>\n",
       "  </thead>\n",
       "  <tbody>\n",
       "    <tr>\n",
       "      <th>0</th>\n",
       "      <td>03/01/2020</td>\n",
       "      <td>NSW</td>\n",
       "      <td>00-04</td>\n",
       "      <td>Female</td>\n",
       "      <td>not available</td>\n",
       "      <td>A(H1N1)pdm09</td>\n",
       "    </tr>\n",
       "    <tr>\n",
       "      <th>1</th>\n",
       "      <td>03/01/2020</td>\n",
       "      <td>NSW</td>\n",
       "      <td>00-04</td>\n",
       "      <td>Female</td>\n",
       "      <td>not available</td>\n",
       "      <td>A(unsubtyped)</td>\n",
       "    </tr>\n",
       "    <tr>\n",
       "      <th>2</th>\n",
       "      <td>03/01/2020</td>\n",
       "      <td>NSW</td>\n",
       "      <td>00-04</td>\n",
       "      <td>Female</td>\n",
       "      <td>not available</td>\n",
       "      <td>A(unsubtyped)</td>\n",
       "    </tr>\n",
       "    <tr>\n",
       "      <th>3</th>\n",
       "      <td>03/01/2020</td>\n",
       "      <td>NSW</td>\n",
       "      <td>00-04</td>\n",
       "      <td>Male</td>\n",
       "      <td>not available</td>\n",
       "      <td>A(unsubtyped)</td>\n",
       "    </tr>\n",
       "    <tr>\n",
       "      <th>4</th>\n",
       "      <td>03/01/2020</td>\n",
       "      <td>NSW</td>\n",
       "      <td>00-04</td>\n",
       "      <td>Male</td>\n",
       "      <td>not available</td>\n",
       "      <td>A(unsubtyped)</td>\n",
       "    </tr>\n",
       "  </tbody>\n",
       "</table>\n",
       "</div>"
      ],
      "text/plain": [
       "  Week Ending (Friday) State Age  group     Sex Indigenous status  \\\n",
       "0           03/01/2020   NSW      00-04  Female     not available   \n",
       "1           03/01/2020   NSW      00-04  Female     not available   \n",
       "2           03/01/2020   NSW      00-04  Female     not available   \n",
       "3           03/01/2020   NSW      00-04    Male     not available   \n",
       "4           03/01/2020   NSW      00-04    Male     not available   \n",
       "\n",
       "    Type/Subtype  \n",
       "0   A(H1N1)pdm09  \n",
       "1  A(unsubtyped)  \n",
       "2  A(unsubtyped)  \n",
       "3  A(unsubtyped)  \n",
       "4  A(unsubtyped)  "
      ]
     },
     "execution_count": 7,
     "metadata": {},
     "output_type": "execute_result"
    }
   ],
   "source": [
    "df2= df2.iloc[:, 0:6]\n",
    "df2.head()"
   ]
  },
  {
   "cell_type": "code",
   "execution_count": 10,
   "id": "cccba0ff-ff4d-4a50-bac8-488c2dd021f5",
   "metadata": {},
   "outputs": [
    {
     "name": "stdout",
     "output_type": "stream",
     "text": [
      "1049869\n",
      "1049869\n"
     ]
    }
   ],
   "source": [
    "#put the two df's together\n",
    "df = pd.concat([df2, df1], axis=0)\n",
    "df.head()\n",
    "print(len(df))"
   ]
  },
  {
   "cell_type": "code",
   "execution_count": 11,
   "id": "0d8b1910-b867-42fe-bff0-c3dca82cbd10",
   "metadata": {},
   "outputs": [
    {
     "name": "stdout",
     "output_type": "stream",
     "text": [
      "['A(H1N1)pdm09' 'A(unsubtyped)' 'B' 'A(H3N2)' 'A and B' 'Untyped' 'C'\n",
      " 'A(H1N1)']\n"
     ]
    }
   ],
   "source": [
    "# create labels\n",
    "flu_types= df['Type/Subtype'].unique()\n",
    "print(flu_types)"
   ]
  },
  {
   "cell_type": "code",
   "execution_count": 14,
   "id": "4aca18f6-4d3b-4851-9889-72ce8c67187d",
   "metadata": {},
   "outputs": [],
   "source": [
    "risk = ['pandemic_H1', 'pandemic_unknown', 'seasonal', 'pandemic_H3', 'seasonal_mixed', 'unknown', 'low_risk', 'pre-pandemic']"
   ]
  },
  {
   "cell_type": "code",
   "execution_count": 15,
   "id": "1a506bd4-80ab-4c95-9dda-4bfb5952f003",
   "metadata": {},
   "outputs": [
    {
     "name": "stdout",
     "output_type": "stream",
     "text": [
      "{'A(H1N1)pdm09': 'pandemic_H1', 'A(unsubtyped)': 'pandemic_unknown', 'B': 'seasonal', 'A(H3N2)': 'pandemic_H3', 'A and B': 'seasonal_mixed', 'Untyped': 'unknown', 'C': 'low_risk', 'A(H1N1)': 'pre-pandemic'}\n"
     ]
    }
   ],
   "source": [
    "#create dictionary\n",
    "risk_dict= dict(zip(flu_types, risk))\n",
    "print(risk_dict)"
   ]
  },
  {
   "cell_type": "code",
   "execution_count": 23,
   "id": "72b82364-74cc-4501-a598-559466c29376",
   "metadata": {},
   "outputs": [
    {
     "data": {
      "text/html": [
       "<div>\n",
       "<style scoped>\n",
       "    .dataframe tbody tr th:only-of-type {\n",
       "        vertical-align: middle;\n",
       "    }\n",
       "\n",
       "    .dataframe tbody tr th {\n",
       "        vertical-align: top;\n",
       "    }\n",
       "\n",
       "    .dataframe thead th {\n",
       "        text-align: right;\n",
       "    }\n",
       "</style>\n",
       "<table border=\"1\" class=\"dataframe\">\n",
       "  <thead>\n",
       "    <tr style=\"text-align: right;\">\n",
       "      <th></th>\n",
       "      <th>Week Ending (Friday)</th>\n",
       "      <th>State</th>\n",
       "      <th>Age  group</th>\n",
       "      <th>Sex</th>\n",
       "      <th>Indigenous status</th>\n",
       "      <th>Type/Subtype</th>\n",
       "      <th>Class</th>\n",
       "    </tr>\n",
       "  </thead>\n",
       "  <tbody>\n",
       "    <tr>\n",
       "      <th>0</th>\n",
       "      <td>03/01/2020</td>\n",
       "      <td>NSW</td>\n",
       "      <td>00-04</td>\n",
       "      <td>Female</td>\n",
       "      <td>not available</td>\n",
       "      <td>A(H1N1)pdm09</td>\n",
       "      <td>pandemic_H1</td>\n",
       "    </tr>\n",
       "    <tr>\n",
       "      <th>1</th>\n",
       "      <td>03/01/2020</td>\n",
       "      <td>NSW</td>\n",
       "      <td>00-04</td>\n",
       "      <td>Female</td>\n",
       "      <td>not available</td>\n",
       "      <td>A(unsubtyped)</td>\n",
       "      <td>pandemic_unknown</td>\n",
       "    </tr>\n",
       "    <tr>\n",
       "      <th>2</th>\n",
       "      <td>03/01/2020</td>\n",
       "      <td>NSW</td>\n",
       "      <td>00-04</td>\n",
       "      <td>Female</td>\n",
       "      <td>not available</td>\n",
       "      <td>A(unsubtyped)</td>\n",
       "      <td>pandemic_unknown</td>\n",
       "    </tr>\n",
       "    <tr>\n",
       "      <th>3</th>\n",
       "      <td>03/01/2020</td>\n",
       "      <td>NSW</td>\n",
       "      <td>00-04</td>\n",
       "      <td>Male</td>\n",
       "      <td>not available</td>\n",
       "      <td>A(unsubtyped)</td>\n",
       "      <td>pandemic_unknown</td>\n",
       "    </tr>\n",
       "    <tr>\n",
       "      <th>4</th>\n",
       "      <td>03/01/2020</td>\n",
       "      <td>NSW</td>\n",
       "      <td>00-04</td>\n",
       "      <td>Male</td>\n",
       "      <td>not available</td>\n",
       "      <td>A(unsubtyped)</td>\n",
       "      <td>pandemic_unknown</td>\n",
       "    </tr>\n",
       "  </tbody>\n",
       "</table>\n",
       "</div>"
      ],
      "text/plain": [
       "  Week Ending (Friday) State Age  group     Sex Indigenous status  \\\n",
       "0           03/01/2020   NSW      00-04  Female     not available   \n",
       "1           03/01/2020   NSW      00-04  Female     not available   \n",
       "2           03/01/2020   NSW      00-04  Female     not available   \n",
       "3           03/01/2020   NSW      00-04    Male     not available   \n",
       "4           03/01/2020   NSW      00-04    Male     not available   \n",
       "\n",
       "    Type/Subtype             Class  \n",
       "0   A(H1N1)pdm09       pandemic_H1  \n",
       "1  A(unsubtyped)  pandemic_unknown  \n",
       "2  A(unsubtyped)  pandemic_unknown  \n",
       "3  A(unsubtyped)  pandemic_unknown  \n",
       "4  A(unsubtyped)  pandemic_unknown  "
      ]
     },
     "execution_count": 23,
     "metadata": {},
     "output_type": "execute_result"
    }
   ],
   "source": [
    "#replace class column with classification\n",
    "df['Class'] = df['Type/Subtype']\n",
    "df.head()\n",
    "flu=df.replace({\"Class\": risk_dict})\n",
    "flu.head()"
   ]
  },
  {
   "cell_type": "code",
   "execution_count": 24,
   "id": "812beead-6da1-4bcd-a341-525c882cc8bf",
   "metadata": {},
   "outputs": [
    {
     "name": "stdout",
     "output_type": "stream",
     "text": [
      "<class 'pandas.core.frame.DataFrame'>\n",
      "Int64Index: 1049869 entries, 0 to 178631\n",
      "Data columns (total 7 columns):\n",
      " #   Column                Non-Null Count    Dtype \n",
      "---  ------                --------------    ----- \n",
      " 0   Week Ending (Friday)  1049869 non-null  object\n",
      " 1   State                 1049869 non-null  object\n",
      " 2   Age  group            1049869 non-null  object\n",
      " 3   Sex                   1049869 non-null  object\n",
      " 4   Indigenous status     1049869 non-null  object\n",
      " 5   Type/Subtype          1049869 non-null  object\n",
      " 6   Class                 1049869 non-null  object\n",
      "dtypes: object(7)\n",
      "memory usage: 64.1+ MB\n"
     ]
    }
   ],
   "source": [
    "flu.info()"
   ]
  },
  {
   "cell_type": "code",
   "execution_count": 68,
   "id": "81eb9d6c-c15d-4084-9ba0-afc3682a5c2e",
   "metadata": {},
   "outputs": [
    {
     "data": {
      "image/png": "[encoded data removed]",
      "text/plain": [
       "<Figure size 432x288 with 1 Axes>"
      ]
     },
     "metadata": {
      "needs_background": "light"
     },
     "output_type": "display_data"
    }
   ],
   "source": [
    "# Label frequency\n",
    "import matplotlib.pyplot as plt\n",
    "fig, ax = plt.subplots()\n",
    "fig.suptitle(\"Class Representation\", fontsize=12)\n",
    "flu[\"Class\"].reset_index().groupby(\"Class\").count().sort_values(by= \n",
    "       \"index\").plot(kind=\"barh\", legend=False, \n",
    "        ax=ax).grid(axis='x')\n",
    "plt.show()"
   ]
  },
  {
   "cell_type": "code",
   "execution_count": null,
   "id": "ff6b2df4-2b2e-4953-9104-9589435c3f10",
   "metadata": {},
   "outputs": [],
   "source": []
  },
  {
   "cell_type": "markdown",
   "id": "d91cca97-4a86-4f61-8b58-e3b05b125cbf",
   "metadata": {},
   "source": [
    "# Pre-processing for Text Classification"
   ]
  },
  {
   "cell_type": "code",
   "execution_count": 31,
   "id": "f4127c80-f689-40de-aedf-44b43d666fb0",
   "metadata": {},
   "outputs": [],
   "source": [
    "from sklearn.feature_extraction.text import CountVectorizer\n",
    "\n",
    "# Initialize and fit CountVectorizer with given text documents\n",
    "vectorizer = CountVectorizer(analyzer='char').fit(flu['Type/Subtype'])\n",
    "\n",
    "# use the vectorizer to transform the document into word count vectors (Sparse)\n",
    "word_mat = vectorizer.transform(flu['Type/Subtype'])"
   ]
  },
  {
   "cell_type": "code",
   "execution_count": 36,
   "id": "a79dbdec-3416-4a5d-8ec1-bcdfdca743af",
   "metadata": {},
   "outputs": [],
   "source": [
    "from sklearn.preprocessing import LabelEncoder\n",
    "\n",
    "# creating mapping from unique label texts to unique integers\n",
    "#encoder = LabelEncoder().fit(flu['Class'])\n",
    "# creating instance of labelencoder\n",
    "labelencoder = LabelEncoder()\n",
    "# using the encoder to encode the entire dataset\n",
    "#y = encoder.transform(encoder)\n",
    "y = labelencoder.fit_transform(flu['Class'])"
   ]
  },
  {
   "cell_type": "markdown",
   "id": "a93d12f3-a55d-4bb9-b0e8-88d190bbbad5",
   "metadata": {},
   "source": [
    "## Split Data"
   ]
  },
  {
   "cell_type": "code",
   "execution_count": 37,
   "id": "1b78b3a5-bacc-460b-9656-2a81a3f334b5",
   "metadata": {},
   "outputs": [],
   "source": [
    "from sklearn.model_selection import train_test_split\n",
    "\n",
    "x_train, x_test, y_train, y_test = train_test_split(word_mat, y, test_size=0.3)"
   ]
  },
  {
   "cell_type": "markdown",
   "id": "d8eb1d45-06c7-40f0-88f4-107ef03efce5",
   "metadata": {},
   "source": [
    "# Modeling\n",
    "### Training"
   ]
  },
  {
   "cell_type": "code",
   "execution_count": 38,
   "id": "aeb3c15a-7a7f-4352-98db-a9806b06d514",
   "metadata": {},
   "outputs": [
    {
     "data": {
      "text/plain": [
       "MultinomialNB()"
      ]
     },
     "execution_count": 38,
     "metadata": {},
     "output_type": "execute_result"
    }
   ],
   "source": [
    "# Model Training\n",
    "from sklearn.naive_bayes import MultinomialNB\n",
    "\n",
    "# instantiate the model as clf(classifier) and train it\n",
    "clf = MultinomialNB()\n",
    "clf.fit(x_train, y_train)"
   ]
  },
  {
   "cell_type": "markdown",
   "id": "c2cca42a-9be5-4dd8-9630-5ef68f14255a",
   "metadata": {},
   "source": [
    "## Prediction / Evaluation"
   ]
  },
  {
   "cell_type": "code",
   "execution_count": 54,
   "id": "426c2061-86ac-43d0-aabf-c4e082edecf7",
   "metadata": {},
   "outputs": [
    {
     "data": {
      "text/plain": [
       "array(['pandemic_unknown', 'pandemic_unknown', 'pandemic_unknown', ...,\n",
       "       'pandemic_unknown', 'pandemic_unknown', 'pandemic_unknown'],\n",
       "      dtype=object)"
      ]
     },
     "execution_count": 54,
     "metadata": {},
     "output_type": "execute_result"
    }
   ],
   "source": [
    "#make class predictions\n",
    "pred = clf.predict(x_test)\n",
    "#transform labels back to text\n",
    "preds = labelencoder.inverse_transform(pred)\n",
    "preds"
   ]
  },
  {
   "cell_type": "code",
   "execution_count": 48,
   "id": "734ffaeb-0749-432c-8879-ca3eb6e3be5f",
   "metadata": {},
   "outputs": [
    {
     "data": {
      "text/plain": [
       "array(['pandemic_unknown', 'pandemic_unknown', 'pandemic_unknown', ...,\n",
       "       'pandemic_unknown', 'pandemic_unknown', 'pandemic_unknown'],\n",
       "      dtype=object)"
      ]
     },
     "execution_count": 48,
     "metadata": {},
     "output_type": "execute_result"
    }
   ],
   "source": [
    "#Transform test target back to text\n",
    "yt= labelencoder.inverse_transform(y_test)\n",
    "yt"
   ]
  },
  {
   "cell_type": "code",
   "execution_count": 55,
   "id": "b291fb80-e559-4d47-ad66-f0e8208cee95",
   "metadata": {},
   "outputs": [],
   "source": [
    "# confusiong matrix\n",
    "# Creating  a confusion matrix,which compares the y_test and y_pred\n",
    "from sklearn.metrics import confusion_matrix\n",
    "cm = confusion_matrix(yt, preds)"
   ]
  },
  {
   "cell_type": "code",
   "execution_count": 57,
   "id": "ddeed379-8418-4815-b085-0e6c21b3720d",
   "metadata": {},
   "outputs": [],
   "source": [
    "# Creating a dataframe for a array-formatted Confusion matrix,so it will be easy for plotting.\n",
    "cm_df = pd.DataFrame(cm,\n",
    "                     index = ['pandemic_H1', 'pandemic_unknown', 'seasonal', 'pandemic_H3', 'seasonal_mixed', 'unknown', 'low_risk', 'pre-pandemic'], \n",
    "                     columns = ['pandemic_H1', 'pandemic_unknown', 'seasonal', 'pandemic_H3', 'seasonal_mixed', 'unknown', 'low_risk', 'pre-pandemic'])"
   ]
  },
  {
   "cell_type": "code",
   "execution_count": 67,
   "id": "f33d3349-88ef-4fe2-af2e-45ecb8501598",
   "metadata": {},
   "outputs": [
    {
     "data": {
      "image/png": "[encoded data removed]",
      "text/plain": [
       "<Figure size 720x432 with 2 Axes>"
      ]
     },
     "metadata": {
      "needs_background": "light"
     },
     "output_type": "display_data"
    }
   ],
   "source": [
    "import seaborn as sns\n",
    "import numpy as np\n",
    "#Plotting the confusion matrix\n",
    "plt.figure(figsize=(10,6))\n",
    "sns.heatmap(cm_df/np.sum(cm_df), annot=True, cmap='Blues', fmt='.2%')\n",
    "plt.title('Confusion Matrix')\n",
    "plt.ylabel('Actal Values')\n",
    "plt.xlabel('Predicted Values')\n",
    "plt.show()"
   ]
  },
  {
   "cell_type": "markdown",
   "id": "04198fb7-9cb0-45a9-93a4-1aa0bce41d57",
   "metadata": {},
   "source": [
    "### Resources/ References\n",
    "* Data: [Australian Government](https://www1.health.gov.au/internet/main/publishing.nsf/Content/ohp-pub-datasets.htm)"
   ]
  }
 ],
 "metadata": {
  "kernelspec": {
   "display_name": "Python 3 (ipykernel)",
   "language": "python",
   "name": "python3"
  },
  "language_info": {
   "codemirror_mode": {
    "name": "ipython",
    "version": 3
   },
   "file_extension": ".py",
   "mimetype": "text/x-python",
   "name": "python",
   "nbconvert_exporter": "python",
   "pygments_lexer": "ipython3",
   "version": "3.9.7"
  }
 },
 "nbformat": 4,
 "nbformat_minor": 5
}
