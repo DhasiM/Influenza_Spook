{
 "cells": [
  {
   "cell_type": "markdown",
   "metadata": {},
   "source": [
    "# Import Libraries"
   ]
  },
  {
   "cell_type": "code",
   "execution_count": 1,
   "metadata": {},
   "outputs": [],
   "source": [
    "import warnings\n",
    "import pickle\n",
    "warnings.filterwarnings(action='ignore')\n",
    "import seaborn as sns\n",
    "import pandas as pd\n",
    "import matplotlib.pyplot as plt"
   ]
  },
  {
   "cell_type": "markdown",
   "metadata": {},
   "source": [
    "# Load Data"
   ]
  },
  {
   "cell_type": "code",
   "execution_count": 2,
   "metadata": {},
   "outputs": [
    {
     "data": {
      "text/html": [
       "<div>\n",
       "<style scoped>\n",
       "    .dataframe tbody tr th:only-of-type {\n",
       "        vertical-align: middle;\n",
       "    }\n",
       "\n",
       "    .dataframe tbody tr th {\n",
       "        vertical-align: top;\n",
       "    }\n",
       "\n",
       "    .dataframe thead th {\n",
       "        text-align: right;\n",
       "    }\n",
       "</style>\n",
       "<table border=\"1\" class=\"dataframe\">\n",
       "  <thead>\n",
       "    <tr style=\"text-align: right;\">\n",
       "      <th></th>\n",
       "      <th>Country</th>\n",
       "      <th>WHOREGION</th>\n",
       "      <th>FLUREGION</th>\n",
       "      <th>Year</th>\n",
       "      <th>Week</th>\n",
       "      <th>SDATE</th>\n",
       "      <th>SPEC_RECEIVED_NB</th>\n",
       "      <th>SPEC_PROCESSED_NB</th>\n",
       "      <th>AH1</th>\n",
       "      <th>AH1N12009</th>\n",
       "      <th>...</th>\n",
       "      <th>AH5</th>\n",
       "      <th>ANOTSUBTYPED</th>\n",
       "      <th>INF_A</th>\n",
       "      <th>BYAMAGATA</th>\n",
       "      <th>BVICTORIA</th>\n",
       "      <th>BNOTDETERMINED</th>\n",
       "      <th>INF_B</th>\n",
       "      <th>ALL_INF</th>\n",
       "      <th>ALL_INF2</th>\n",
       "      <th>TITLE</th>\n",
       "    </tr>\n",
       "    <tr>\n",
       "      <th>EDATE</th>\n",
       "      <th></th>\n",
       "      <th></th>\n",
       "      <th></th>\n",
       "      <th></th>\n",
       "      <th></th>\n",
       "      <th></th>\n",
       "      <th></th>\n",
       "      <th></th>\n",
       "      <th></th>\n",
       "      <th></th>\n",
       "      <th></th>\n",
       "      <th></th>\n",
       "      <th></th>\n",
       "      <th></th>\n",
       "      <th></th>\n",
       "      <th></th>\n",
       "      <th></th>\n",
       "      <th></th>\n",
       "      <th></th>\n",
       "      <th></th>\n",
       "      <th></th>\n",
       "    </tr>\n",
       "  </thead>\n",
       "  <tbody>\n",
       "    <tr>\n",
       "      <th>2022-03-27</th>\n",
       "      <td>Viet Nam</td>\n",
       "      <td>Western Pacific Region of WHO</td>\n",
       "      <td>South-East Asia</td>\n",
       "      <td>2022</td>\n",
       "      <td>12</td>\n",
       "      <td>2022-03-21</td>\n",
       "      <td>0.0</td>\n",
       "      <td>0.0</td>\n",
       "      <td>NaN</td>\n",
       "      <td>0.0</td>\n",
       "      <td>...</td>\n",
       "      <td>0.0</td>\n",
       "      <td>0.0</td>\n",
       "      <td>0.0</td>\n",
       "      <td>0.0</td>\n",
       "      <td>0.0</td>\n",
       "      <td>0.0</td>\n",
       "      <td>0.0</td>\n",
       "      <td>0.0</td>\n",
       "      <td>NaN</td>\n",
       "      <td>Sporadic</td>\n",
       "    </tr>\n",
       "  </tbody>\n",
       "</table>\n",
       "<p>1 rows × 21 columns</p>\n",
       "</div>"
      ],
      "text/plain": [
       "             Country                      WHOREGION        FLUREGION  Year  \\\n",
       "EDATE                                                                        \n",
       "2022-03-27  Viet Nam  Western Pacific Region of WHO  South-East Asia  2022   \n",
       "\n",
       "            Week       SDATE  SPEC_RECEIVED_NB  SPEC_PROCESSED_NB  AH1  \\\n",
       "EDATE                                                                    \n",
       "2022-03-27    12  2022-03-21               0.0                0.0  NaN   \n",
       "\n",
       "            AH1N12009  ...  AH5  ANOTSUBTYPED  INF_A  BYAMAGATA  BVICTORIA  \\\n",
       "EDATE                  ...                                                   \n",
       "2022-03-27        0.0  ...  0.0           0.0    0.0        0.0        0.0   \n",
       "\n",
       "            BNOTDETERMINED  INF_B  ALL_INF  ALL_INF2     TITLE  \n",
       "EDATE                                                           \n",
       "2022-03-27             0.0    0.0      0.0       NaN  Sporadic  \n",
       "\n",
       "[1 rows x 21 columns]"
      ]
     },
     "execution_count": 2,
     "metadata": {},
     "output_type": "execute_result"
    }
   ],
   "source": [
    "#load data\n",
    "#df2=pd.read_csv(\"../input/flureports/FluNetInteractiveReport.csv\")\n",
    "#df2.head(1)\n",
    "data=pd.read_csv(\"~/DSI-Work/DSI Capstone Project/Flu/WPOFluNetInteractiveReport.csv\", parse_dates=['EDATE'], index_col='EDATE', skiprows=3)\n",
    "data.tail(1)"
   ]
  },
  {
   "cell_type": "markdown",
   "metadata": {},
   "source": [
    "# EDA and Data Pre-processing"
   ]
  },
  {
   "cell_type": "code",
   "execution_count": 6,
   "metadata": {},
   "outputs": [
    {
     "name": "stdout",
     "output_type": "stream",
     "text": [
      "Country              False\n",
      "WHOREGION            False\n",
      "FLUREGION            False\n",
      "Year                 False\n",
      "Week                 False\n",
      "SDATE                False\n",
      "SPEC_RECEIVED_NB      True\n",
      "SPEC_PROCESSED_NB     True\n",
      "AH1                   True\n",
      "AH1N12009             True\n",
      "AH3                   True\n",
      "AH5                   True\n",
      "ANOTSUBTYPED          True\n",
      "INF_A                 True\n",
      "BYAMAGATA             True\n",
      "BVICTORIA             True\n",
      "BNOTDETERMINED        True\n",
      "INF_B                 True\n",
      "ALL_INF               True\n",
      "ALL_INF2              True\n",
      "TITLE                False\n",
      "dtype: bool\n"
     ]
    }
   ],
   "source": [
    "nan_values= data.isna()\n",
    "nan_columns = nan_values.any()\n",
    "#columns_with_nan = df.columns[nan_columns].tolist()\n",
    "print(nan_columns)"
   ]
  },
  {
   "cell_type": "code",
   "execution_count": null,
   "metadata": {},
   "outputs": [],
   "source": [
    "data.dtypes"
   ]
  },
  {
   "cell_type": "code",
   "execution_count": 3,
   "metadata": {},
   "outputs": [
    {
     "data": {
      "text/html": [
       "<div>\n",
       "<style scoped>\n",
       "    .dataframe tbody tr th:only-of-type {\n",
       "        vertical-align: middle;\n",
       "    }\n",
       "\n",
       "    .dataframe tbody tr th {\n",
       "        vertical-align: top;\n",
       "    }\n",
       "\n",
       "    .dataframe thead th {\n",
       "        text-align: right;\n",
       "    }\n",
       "</style>\n",
       "<table border=\"1\" class=\"dataframe\">\n",
       "  <thead>\n",
       "    <tr style=\"text-align: right;\">\n",
       "      <th></th>\n",
       "      <th>Country</th>\n",
       "      <th>WHOREGION</th>\n",
       "      <th>FLUREGION</th>\n",
       "      <th>Year</th>\n",
       "      <th>Week</th>\n",
       "      <th>SDATE</th>\n",
       "      <th>AH1</th>\n",
       "      <th>AH1N12009</th>\n",
       "      <th>AH3</th>\n",
       "      <th>AH5</th>\n",
       "      <th>ANOTSUBTYPED</th>\n",
       "      <th>INF_A</th>\n",
       "      <th>BYAMAGATA</th>\n",
       "      <th>BVICTORIA</th>\n",
       "      <th>BNOTDETERMINED</th>\n",
       "      <th>INF_B</th>\n",
       "      <th>ALL_INF</th>\n",
       "      <th>ALL_INF2</th>\n",
       "      <th>TITLE</th>\n",
       "    </tr>\n",
       "    <tr>\n",
       "      <th>EDATE</th>\n",
       "      <th></th>\n",
       "      <th></th>\n",
       "      <th></th>\n",
       "      <th></th>\n",
       "      <th></th>\n",
       "      <th></th>\n",
       "      <th></th>\n",
       "      <th></th>\n",
       "      <th></th>\n",
       "      <th></th>\n",
       "      <th></th>\n",
       "      <th></th>\n",
       "      <th></th>\n",
       "      <th></th>\n",
       "      <th></th>\n",
       "      <th></th>\n",
       "      <th></th>\n",
       "      <th></th>\n",
       "      <th></th>\n",
       "    </tr>\n",
       "  </thead>\n",
       "  <tbody>\n",
       "    <tr>\n",
       "      <th>2000-01-09</th>\n",
       "      <td>Australia</td>\n",
       "      <td>Western Pacific Region of WHO</td>\n",
       "      <td>Oceania Melanesia Polynesia</td>\n",
       "      <td>2000</td>\n",
       "      <td>1</td>\n",
       "      <td>2000-01-03</td>\n",
       "      <td>0.0</td>\n",
       "      <td>0.0</td>\n",
       "      <td>1.0</td>\n",
       "      <td>0.0</td>\n",
       "      <td>0.0</td>\n",
       "      <td>1.0</td>\n",
       "      <td>0.0</td>\n",
       "      <td>0.0</td>\n",
       "      <td>0.0</td>\n",
       "      <td>0.0</td>\n",
       "      <td>1.0</td>\n",
       "      <td>0.0</td>\n",
       "      <td>Sporadic</td>\n",
       "    </tr>\n",
       "    <tr>\n",
       "      <th>2000-01-16</th>\n",
       "      <td>Australia</td>\n",
       "      <td>Western Pacific Region of WHO</td>\n",
       "      <td>Oceania Melanesia Polynesia</td>\n",
       "      <td>2000</td>\n",
       "      <td>2</td>\n",
       "      <td>2000-01-10</td>\n",
       "      <td>0.0</td>\n",
       "      <td>0.0</td>\n",
       "      <td>0.0</td>\n",
       "      <td>0.0</td>\n",
       "      <td>1.0</td>\n",
       "      <td>1.0</td>\n",
       "      <td>0.0</td>\n",
       "      <td>0.0</td>\n",
       "      <td>0.0</td>\n",
       "      <td>0.0</td>\n",
       "      <td>1.0</td>\n",
       "      <td>0.0</td>\n",
       "      <td>Sporadic</td>\n",
       "    </tr>\n",
       "    <tr>\n",
       "      <th>2000-01-23</th>\n",
       "      <td>Australia</td>\n",
       "      <td>Western Pacific Region of WHO</td>\n",
       "      <td>Oceania Melanesia Polynesia</td>\n",
       "      <td>2000</td>\n",
       "      <td>3</td>\n",
       "      <td>2000-01-17</td>\n",
       "      <td>0.0</td>\n",
       "      <td>0.0</td>\n",
       "      <td>0.0</td>\n",
       "      <td>0.0</td>\n",
       "      <td>2.0</td>\n",
       "      <td>2.0</td>\n",
       "      <td>0.0</td>\n",
       "      <td>0.0</td>\n",
       "      <td>0.0</td>\n",
       "      <td>0.0</td>\n",
       "      <td>2.0</td>\n",
       "      <td>0.0</td>\n",
       "      <td>Sporadic</td>\n",
       "    </tr>\n",
       "    <tr>\n",
       "      <th>2000-01-30</th>\n",
       "      <td>Australia</td>\n",
       "      <td>Western Pacific Region of WHO</td>\n",
       "      <td>Oceania Melanesia Polynesia</td>\n",
       "      <td>2000</td>\n",
       "      <td>4</td>\n",
       "      <td>2000-01-24</td>\n",
       "      <td>0.0</td>\n",
       "      <td>0.0</td>\n",
       "      <td>0.0</td>\n",
       "      <td>0.0</td>\n",
       "      <td>1.0</td>\n",
       "      <td>1.0</td>\n",
       "      <td>0.0</td>\n",
       "      <td>0.0</td>\n",
       "      <td>0.0</td>\n",
       "      <td>0.0</td>\n",
       "      <td>1.0</td>\n",
       "      <td>0.0</td>\n",
       "      <td>No Activity</td>\n",
       "    </tr>\n",
       "    <tr>\n",
       "      <th>2000-02-06</th>\n",
       "      <td>Australia</td>\n",
       "      <td>Western Pacific Region of WHO</td>\n",
       "      <td>Oceania Melanesia Polynesia</td>\n",
       "      <td>2000</td>\n",
       "      <td>5</td>\n",
       "      <td>2000-01-31</td>\n",
       "      <td>0.0</td>\n",
       "      <td>0.0</td>\n",
       "      <td>0.0</td>\n",
       "      <td>0.0</td>\n",
       "      <td>1.0</td>\n",
       "      <td>1.0</td>\n",
       "      <td>0.0</td>\n",
       "      <td>0.0</td>\n",
       "      <td>0.0</td>\n",
       "      <td>0.0</td>\n",
       "      <td>1.0</td>\n",
       "      <td>0.0</td>\n",
       "      <td>Sporadic</td>\n",
       "    </tr>\n",
       "  </tbody>\n",
       "</table>\n",
       "</div>"
      ],
      "text/plain": [
       "              Country                      WHOREGION  \\\n",
       "EDATE                                                  \n",
       "2000-01-09  Australia  Western Pacific Region of WHO   \n",
       "2000-01-16  Australia  Western Pacific Region of WHO   \n",
       "2000-01-23  Australia  Western Pacific Region of WHO   \n",
       "2000-01-30  Australia  Western Pacific Region of WHO   \n",
       "2000-02-06  Australia  Western Pacific Region of WHO   \n",
       "\n",
       "                              FLUREGION  Year  Week      SDATE  AH1  \\\n",
       "EDATE                                                                 \n",
       "2000-01-09  Oceania Melanesia Polynesia  2000     1 2000-01-03  0.0   \n",
       "2000-01-16  Oceania Melanesia Polynesia  2000     2 2000-01-10  0.0   \n",
       "2000-01-23  Oceania Melanesia Polynesia  2000     3 2000-01-17  0.0   \n",
       "2000-01-30  Oceania Melanesia Polynesia  2000     4 2000-01-24  0.0   \n",
       "2000-02-06  Oceania Melanesia Polynesia  2000     5 2000-01-31  0.0   \n",
       "\n",
       "            AH1N12009  AH3  AH5  ANOTSUBTYPED  INF_A  BYAMAGATA  BVICTORIA  \\\n",
       "EDATE                                                                        \n",
       "2000-01-09        0.0  1.0  0.0           0.0    1.0        0.0        0.0   \n",
       "2000-01-16        0.0  0.0  0.0           1.0    1.0        0.0        0.0   \n",
       "2000-01-23        0.0  0.0  0.0           2.0    2.0        0.0        0.0   \n",
       "2000-01-30        0.0  0.0  0.0           1.0    1.0        0.0        0.0   \n",
       "2000-02-06        0.0  0.0  0.0           1.0    1.0        0.0        0.0   \n",
       "\n",
       "            BNOTDETERMINED  INF_B  ALL_INF  ALL_INF2        TITLE  \n",
       "EDATE                                                              \n",
       "2000-01-09             0.0    0.0      1.0       0.0     Sporadic  \n",
       "2000-01-16             0.0    0.0      1.0       0.0     Sporadic  \n",
       "2000-01-23             0.0    0.0      2.0       0.0     Sporadic  \n",
       "2000-01-30             0.0    0.0      1.0       0.0  No Activity  \n",
       "2000-02-06             0.0    0.0      1.0       0.0     Sporadic  "
      ]
     },
     "execution_count": 3,
     "metadata": {},
     "output_type": "execute_result"
    }
   ],
   "source": [
    "data = data.fillna(0) #fill any remaining gaps with 0\n",
    "_=data.pop('SPEC_RECEIVED_NB') #remove the number of specimen received\n",
    "_=data.pop('SPEC_PROCESSED_NB') #remove the number of specimen processed\n",
    "data['SDATE'] = pd.to_datetime(data['SDATE']) #from object to datetime\n",
    "data.head()"
   ]
  },
  {
   "cell_type": "markdown",
   "metadata": {},
   "source": [
    "### Plotting time-series"
   ]
  },
  {
   "cell_type": "code",
   "execution_count": 4,
   "metadata": {},
   "outputs": [
    {
     "data": {
      "text/plain": [
       "[Text(0.5, 1.0, 'Raw Data'), Text(0.5, 0, 'date'), Text(0, 0.5, '')]"
      ]
     },
     "execution_count": 4,
     "metadata": {},
     "output_type": "execute_result"
    },
    {
     "data": {
      "image/png": "[encoded data removed]",
      "text/plain": [
       "<Figure size 720x432 with 1 Axes>"
      ]
     },
     "metadata": {
      "needs_background": "light"
     },
     "output_type": "display_data"
    }
   ],
   "source": [
    "#plot the total column for all influenza cases\n",
    "fig, ax = plt.subplots(figsize=(10,6))\n",
    "df=data.groupby('EDATE').sum()\n",
    "sns.lineplot(x='EDATE', y='ALL_INF', label='ALL_INF', data=df, ax=ax)\n",
    "ax.legend(loc='upper left')\n",
    "ax.set(title='WHO Flunet Reported Influenza Cases', xlabel='date', ylabel='')"
   ]
  },
  {
   "cell_type": "code",
   "execution_count": 13,
   "metadata": {},
   "outputs": [
    {
     "data": {
      "text/plain": [
       "[Text(0.5, 1.0, 'WHO Flunet Influenza A and B confirmed cases 2000-2021'),\n",
       " Text(0.5, 0, 'date'),\n",
       " Text(0, 0.5, '')]"
      ]
     },
     "execution_count": 13,
     "metadata": {},
     "output_type": "execute_result"
    },
    {
     "data": {
      "image/png": "[encoded data removed]",
      "text/plain": [
       "<Figure size 1080x432 with 1 Axes>"
      ]
     },
     "metadata": {
      "needs_background": "light"
     },
     "output_type": "display_data"
    }
   ],
   "source": [
    "#Compare plots of Influenza A over B\n",
    "fig, ax = plt.subplots(figsize=(15,6))\n",
    "df=data.groupby('EDATE').sum()\n",
    "sns.lineplot(x='EDATE', y='INF_A', label='Influenza A cases', data=df, ax=ax)\n",
    "sns.lineplot(x='EDATE', y='INF_B', label='Influenza B cases', data=df, ax=ax)\n",
    "\n",
    "ax.legend(loc='upper left')\n",
    "ax.set(title='WHO Flunet Influenza A and B confirmed cases 2000-2021', xlabel='date', ylabel='')"
   ]
  },
  {
   "cell_type": "code",
   "execution_count": 14,
   "metadata": {},
   "outputs": [
    {
     "data": {
      "text/plain": [
       "[Text(0.5, 1.0, 'WHO Flunet Influenza A confirmed cases by subtype 2000-2021'),\n",
       " Text(0.5, 0, 'date'),\n",
       " Text(0, 0.5, '')]"
      ]
     },
     "execution_count": 14,
     "metadata": {},
     "output_type": "execute_result"
    },
    {
     "data": {
      "image/png": "[encoded data removed]",
      "text/plain": [
       "<Figure size 1080x432 with 1 Axes>"
      ]
     },
     "metadata": {
      "needs_background": "light"
     },
     "output_type": "display_data"
    }
   ],
   "source": [
    "#plot the raw data\n",
    "fig, ax = plt.subplots(figsize=(15,6))\n",
    "df=data.groupby('EDATE').sum()\n",
    "sns.lineplot(x='EDATE', y='INF_A', label='Influenza A cases', data=df, ax=ax)\n",
    "sns.lineplot(x='EDATE', y='AH1N12009', label='2009 Swine Flue', data=df, ax=ax)\n",
    "sns.lineplot(x='EDATE', y='AH1', label='Influenza AH1 cases', data=df, ax=ax)\n",
    "sns.lineplot(x='EDATE', y='AH3', label='Influenza AH3 cases', data=df, ax=ax)\n",
    "sns.lineplot(x='EDATE', y='ANOTSUBTYPED', label='Untyped Influenza A cases', data=df, ax=ax)\n",
    "\n",
    "ax.legend(loc='upper left')\n",
    "ax.set(title='WHO Flunet Influenza A confirmed cases by subtype 2000-2021', xlabel='date', ylabel='')"
   ]
  },
  {
   "cell_type": "code",
   "execution_count": null,
   "metadata": {},
   "outputs": [],
   "source": [
    "# data = data.fillna(0)\n",
    "# nan_values= data.isna()\n",
    "# nan_columns = nan_values.any()\n",
    "# #columns_with_nan = df.columns[nan_columns].tolist()\n",
    "# print(nan_columns)"
   ]
  },
  {
   "cell_type": "code",
   "execution_count": 4,
   "metadata": {},
   "outputs": [
    {
     "data": {
      "text/html": [
       "<div>\n",
       "<style scoped>\n",
       "    .dataframe tbody tr th:only-of-type {\n",
       "        vertical-align: middle;\n",
       "    }\n",
       "\n",
       "    .dataframe tbody tr th {\n",
       "        vertical-align: top;\n",
       "    }\n",
       "\n",
       "    .dataframe thead th {\n",
       "        text-align: right;\n",
       "    }\n",
       "</style>\n",
       "<table border=\"1\" class=\"dataframe\">\n",
       "  <thead>\n",
       "    <tr style=\"text-align: right;\">\n",
       "      <th></th>\n",
       "      <th>Year</th>\n",
       "      <th>Week</th>\n",
       "      <th>SDATE</th>\n",
       "      <th>AH1</th>\n",
       "      <th>AH1N12009</th>\n",
       "      <th>AH3</th>\n",
       "      <th>AH5</th>\n",
       "      <th>ANOTSUBTYPED</th>\n",
       "      <th>INF_A</th>\n",
       "      <th>BYAMAGATA</th>\n",
       "      <th>...</th>\n",
       "      <th>Country_New Zealand</th>\n",
       "      <th>Country_Papua New Guinea</th>\n",
       "      <th>Country_Philippines</th>\n",
       "      <th>Country_Republic of Korea</th>\n",
       "      <th>Country_Singapore</th>\n",
       "      <th>Country_Viet Nam</th>\n",
       "      <th>WHOREGION_Western Pacific Region of WHO</th>\n",
       "      <th>FLUREGION_Eastern Asia</th>\n",
       "      <th>FLUREGION_Oceania Melanesia Polynesia</th>\n",
       "      <th>FLUREGION_South-East Asia</th>\n",
       "    </tr>\n",
       "    <tr>\n",
       "      <th>EDATE</th>\n",
       "      <th></th>\n",
       "      <th></th>\n",
       "      <th></th>\n",
       "      <th></th>\n",
       "      <th></th>\n",
       "      <th></th>\n",
       "      <th></th>\n",
       "      <th></th>\n",
       "      <th></th>\n",
       "      <th></th>\n",
       "      <th></th>\n",
       "      <th></th>\n",
       "      <th></th>\n",
       "      <th></th>\n",
       "      <th></th>\n",
       "      <th></th>\n",
       "      <th></th>\n",
       "      <th></th>\n",
       "      <th></th>\n",
       "      <th></th>\n",
       "      <th></th>\n",
       "    </tr>\n",
       "  </thead>\n",
       "  <tbody>\n",
       "    <tr>\n",
       "      <th>2022-02-27</th>\n",
       "      <td>2022</td>\n",
       "      <td>8</td>\n",
       "      <td>2022-02-21</td>\n",
       "      <td>0.0</td>\n",
       "      <td>0.0</td>\n",
       "      <td>0.0</td>\n",
       "      <td>0.0</td>\n",
       "      <td>0.0</td>\n",
       "      <td>0.0</td>\n",
       "      <td>0.0</td>\n",
       "      <td>...</td>\n",
       "      <td>0</td>\n",
       "      <td>0</td>\n",
       "      <td>0</td>\n",
       "      <td>0</td>\n",
       "      <td>0</td>\n",
       "      <td>1</td>\n",
       "      <td>1</td>\n",
       "      <td>0</td>\n",
       "      <td>0</td>\n",
       "      <td>1</td>\n",
       "    </tr>\n",
       "    <tr>\n",
       "      <th>2022-03-06</th>\n",
       "      <td>2022</td>\n",
       "      <td>9</td>\n",
       "      <td>2022-02-28</td>\n",
       "      <td>0.0</td>\n",
       "      <td>0.0</td>\n",
       "      <td>0.0</td>\n",
       "      <td>0.0</td>\n",
       "      <td>0.0</td>\n",
       "      <td>0.0</td>\n",
       "      <td>0.0</td>\n",
       "      <td>...</td>\n",
       "      <td>0</td>\n",
       "      <td>0</td>\n",
       "      <td>0</td>\n",
       "      <td>0</td>\n",
       "      <td>0</td>\n",
       "      <td>1</td>\n",
       "      <td>1</td>\n",
       "      <td>0</td>\n",
       "      <td>0</td>\n",
       "      <td>1</td>\n",
       "    </tr>\n",
       "    <tr>\n",
       "      <th>2022-03-13</th>\n",
       "      <td>2022</td>\n",
       "      <td>10</td>\n",
       "      <td>2022-03-07</td>\n",
       "      <td>0.0</td>\n",
       "      <td>0.0</td>\n",
       "      <td>0.0</td>\n",
       "      <td>0.0</td>\n",
       "      <td>0.0</td>\n",
       "      <td>0.0</td>\n",
       "      <td>0.0</td>\n",
       "      <td>...</td>\n",
       "      <td>0</td>\n",
       "      <td>0</td>\n",
       "      <td>0</td>\n",
       "      <td>0</td>\n",
       "      <td>0</td>\n",
       "      <td>1</td>\n",
       "      <td>1</td>\n",
       "      <td>0</td>\n",
       "      <td>0</td>\n",
       "      <td>1</td>\n",
       "    </tr>\n",
       "    <tr>\n",
       "      <th>2022-03-20</th>\n",
       "      <td>2022</td>\n",
       "      <td>11</td>\n",
       "      <td>2022-03-14</td>\n",
       "      <td>0.0</td>\n",
       "      <td>0.0</td>\n",
       "      <td>0.0</td>\n",
       "      <td>0.0</td>\n",
       "      <td>0.0</td>\n",
       "      <td>0.0</td>\n",
       "      <td>0.0</td>\n",
       "      <td>...</td>\n",
       "      <td>0</td>\n",
       "      <td>0</td>\n",
       "      <td>0</td>\n",
       "      <td>0</td>\n",
       "      <td>0</td>\n",
       "      <td>1</td>\n",
       "      <td>1</td>\n",
       "      <td>0</td>\n",
       "      <td>0</td>\n",
       "      <td>1</td>\n",
       "    </tr>\n",
       "    <tr>\n",
       "      <th>2022-03-27</th>\n",
       "      <td>2022</td>\n",
       "      <td>12</td>\n",
       "      <td>2022-03-21</td>\n",
       "      <td>0.0</td>\n",
       "      <td>0.0</td>\n",
       "      <td>0.0</td>\n",
       "      <td>0.0</td>\n",
       "      <td>0.0</td>\n",
       "      <td>0.0</td>\n",
       "      <td>0.0</td>\n",
       "      <td>...</td>\n",
       "      <td>0</td>\n",
       "      <td>0</td>\n",
       "      <td>0</td>\n",
       "      <td>0</td>\n",
       "      <td>0</td>\n",
       "      <td>1</td>\n",
       "      <td>1</td>\n",
       "      <td>0</td>\n",
       "      <td>0</td>\n",
       "      <td>1</td>\n",
       "    </tr>\n",
       "  </tbody>\n",
       "</table>\n",
       "<p>5 rows × 34 columns</p>\n",
       "</div>"
      ],
      "text/plain": [
       "            Year  Week      SDATE  AH1  AH1N12009  AH3  AH5  ANOTSUBTYPED  \\\n",
       "EDATE                                                                       \n",
       "2022-02-27  2022     8 2022-02-21  0.0        0.0  0.0  0.0           0.0   \n",
       "2022-03-06  2022     9 2022-02-28  0.0        0.0  0.0  0.0           0.0   \n",
       "2022-03-13  2022    10 2022-03-07  0.0        0.0  0.0  0.0           0.0   \n",
       "2022-03-20  2022    11 2022-03-14  0.0        0.0  0.0  0.0           0.0   \n",
       "2022-03-27  2022    12 2022-03-21  0.0        0.0  0.0  0.0           0.0   \n",
       "\n",
       "            INF_A  BYAMAGATA  ...  Country_New Zealand  \\\n",
       "EDATE                         ...                        \n",
       "2022-02-27    0.0        0.0  ...                    0   \n",
       "2022-03-06    0.0        0.0  ...                    0   \n",
       "2022-03-13    0.0        0.0  ...                    0   \n",
       "2022-03-20    0.0        0.0  ...                    0   \n",
       "2022-03-27    0.0        0.0  ...                    0   \n",
       "\n",
       "            Country_Papua New Guinea  Country_Philippines  \\\n",
       "EDATE                                                       \n",
       "2022-02-27                         0                    0   \n",
       "2022-03-06                         0                    0   \n",
       "2022-03-13                         0                    0   \n",
       "2022-03-20                         0                    0   \n",
       "2022-03-27                         0                    0   \n",
       "\n",
       "            Country_Republic of Korea  Country_Singapore  Country_Viet Nam  \\\n",
       "EDATE                                                                        \n",
       "2022-02-27                          0                  0                 1   \n",
       "2022-03-06                          0                  0                 1   \n",
       "2022-03-13                          0                  0                 1   \n",
       "2022-03-20                          0                  0                 1   \n",
       "2022-03-27                          0                  0                 1   \n",
       "\n",
       "            WHOREGION_Western Pacific Region of WHO  FLUREGION_Eastern Asia  \\\n",
       "EDATE                                                                         \n",
       "2022-02-27                                        1                       0   \n",
       "2022-03-06                                        1                       0   \n",
       "2022-03-13                                        1                       0   \n",
       "2022-03-20                                        1                       0   \n",
       "2022-03-27                                        1                       0   \n",
       "\n",
       "            FLUREGION_Oceania Melanesia Polynesia  FLUREGION_South-East Asia  \n",
       "EDATE                                                                         \n",
       "2022-02-27                                      0                          1  \n",
       "2022-03-06                                      0                          1  \n",
       "2022-03-13                                      0                          1  \n",
       "2022-03-20                                      0                          1  \n",
       "2022-03-27                                      0                          1  \n",
       "\n",
       "[5 rows x 34 columns]"
      ]
     },
     "execution_count": 4,
     "metadata": {},
     "output_type": "execute_result"
    }
   ],
   "source": [
    "target=data.pop('TITLE')\n",
    "one_hot_encoded_data = pd.get_dummies(data)\n",
    "one_hot_encoded_data.tail()"
   ]
  },
  {
   "cell_type": "code",
   "execution_count": 11,
   "metadata": {},
   "outputs": [
    {
     "data": {
      "text/plain": [
       "Index(['Year', 'Week', 'SDATE', 'AH1', 'AH1N12009', 'AH3', 'AH5',\n",
       "       'ANOTSUBTYPED', 'INF_A', 'BYAMAGATA', 'BVICTORIA', 'BNOTDETERMINED',\n",
       "       'INF_B', 'ALL_INF', 'ALL_INF2', 'Country_Australia', 'Country_Cambodia',\n",
       "       'Country_China', 'Country_Fiji', 'Country_Japan',\n",
       "       'Country_Lao People's Democratic Republic', 'Country_Malaysia',\n",
       "       'Country_Mongolia', 'Country_New Caledonia', 'Country_New Zealand',\n",
       "       'Country_Papua New Guinea', 'Country_Philippines',\n",
       "       'Country_Republic of Korea', 'Country_Singapore', 'Country_Viet Nam',\n",
       "       'WHOREGION_Western Pacific Region of WHO', 'FLUREGION_Eastern Asia',\n",
       "       'FLUREGION_Oceania Melanesia Polynesia', 'FLUREGION_South-East Asia'],\n",
       "      dtype='object')"
      ]
     },
     "execution_count": 11,
     "metadata": {},
     "output_type": "execute_result"
    }
   ],
   "source": [
    "one_hot_encoded_data.columns"
   ]
  },
  {
   "cell_type": "code",
   "execution_count": 5,
   "metadata": {},
   "outputs": [
    {
     "data": {
      "text/plain": [
       "<AxesSubplot:title={'center':'Influenza trend'}, xlabel='EDATE'>"
      ]
     },
     "execution_count": 5,
     "metadata": {},
     "output_type": "execute_result"
    },
    {
     "data": {
      "image/png": "[encoded data removed]",
      "text/plain": [
       "<Figure size 2000x400 with 3 Axes>"
      ]
     },
     "metadata": {
      "needs_background": "light"
     },
     "output_type": "display_data"
    }
   ],
   "source": [
    "cat_data=one_hot_encoded_data\n",
    "df_inf=cat_data.resample('1m').mean()\n",
    "df2_inf=cat_data.resample('1y').mean()\n",
    "#check for seasonality, trend, \n",
    "fig, axes = plt.subplots(1,3, figsize=(20,4), dpi=100)\n",
    "cat_data.plot(title='All influenza', legend=False, ax=axes[0])\n",
    "df_inf.plot(title='Influenza seasonality', legend=False, ax=axes[1])\n",
    "df2_inf.plot(title='Influenza trend', legend=False, ax=axes[2])\n",
    "#data['AH5'].pl"
   ]
  },
  {
   "cell_type": "code",
   "execution_count": null,
   "metadata": {},
   "outputs": [],
   "source": [
    "#Check if data is non-stationary using ADF\n",
    "cols= cat_data.columns[3:]\n",
    "from statsmodels.tsa.stattools import adfuller\n",
    "print(\"Observations of Dickey-fuller test\")\n",
    "for col in cols:\n",
    "    dftest = adfuller(cat_data[col], autolag='AIC')\n",
    "    #print(f'Results for the predictor values in {col}')\n",
    "    #print(\"Test statistic = {:.3f}\".format(dftest[0]))\n",
    "    #print(\"P-value = {:.3f}\".format(dftest[1]))\n",
    "    #print(\"Critical values :\")\n",
    "    for k, v in dftest[4].items():\n",
    "        if v<dftest[0]:\n",
    "            print(f'The {col} data in not stationary with {100-int(k[:-1])}% confidence')\n",
    "        #print(\"\\t{}: {} - The data is {} stationary with {}% confidence\".format(k, v, \"not\" if v<dftest[0] else \"\", 100-int(k[:-1])))\n",
    "\n",
    "    #dfoutput=pd.Series(dftest[0:4],index=['Test Statistic','p-value','#lags used','number of observations used'])\n",
    "    #for key,value in dftest[4].items():\n",
    "     #   dfoutput['critical value (%s)'%key]= value\n",
    "    #print(dfoutput)\n"
   ]
  },
  {
   "cell_type": "markdown",
   "metadata": {},
   "source": [
    " "
   ]
  },
  {
   "cell_type": "markdown",
   "metadata": {},
   "source": [
    "### Except for the one-hot encoded data, the rest of the relevant features are stationary"
   ]
  },
  {
   "cell_type": "markdown",
   "metadata": {},
   "source": [
    "## Transfrom text target to numerical"
   ]
  },
  {
   "cell_type": "markdown",
   "metadata": {},
   "source": [
    "## Time series prediction with prophet"
   ]
  },
  {
   "cell_type": "code",
   "execution_count": null,
   "metadata": {},
   "outputs": [],
   "source": [
    "#!sudo pip install fbprophet"
   ]
  },
  {
   "cell_type": "code",
   "execution_count": 6,
   "metadata": {},
   "outputs": [
    {
     "name": "stdout",
     "output_type": "stream",
     "text": [
      "Prophet 0.7.1\n"
     ]
    }
   ],
   "source": [
    "# check prophet version\n",
    "import fbprophet\n",
    "# print version number\n",
    "print('Prophet %s' % fbprophet.__version__)"
   ]
  },
  {
   "cell_type": "code",
   "execution_count": 12,
   "metadata": {},
   "outputs": [
    {
     "name": "stderr",
     "output_type": "stream",
     "text": [
      "INFO:fbprophet:Disabling weekly seasonality. Run prophet with weekly_seasonality=True to override this.\n",
      "INFO:fbprophet:Disabling daily seasonality. Run prophet with daily_seasonality=True to override this.\n"
     ]
    },
    {
     "name": "stdout",
     "output_type": "stream",
     "text": [
      "Initial log joint probability = -16.1904\n",
      "    Iter      log prob        ||dx||      ||grad||       alpha      alpha0  # evals  Notes \n",
      "      99       31236.1    0.00189074          1504      0.2223      0.2223      123   \n",
      "    Iter      log prob        ||dx||      ||grad||       alpha      alpha0  # evals  Notes \n",
      "     199       31240.8    0.00119307       137.099      0.8375      0.8375      238   \n",
      "    Iter      log prob        ||dx||      ||grad||       alpha      alpha0  # evals  Notes \n",
      "     299       31243.5   0.000138887       87.7633      0.8294      0.8294      365   \n",
      "    Iter      log prob        ||dx||      ||grad||       alpha      alpha0  # evals  Notes \n",
      "     346         31244   1.87339e-05       166.978   8.156e-08       0.001      474  LS failed, Hessian reset \n",
      "     399       31244.7   0.000126704       120.249       0.811       0.811      544   \n",
      "    Iter      log prob        ||dx||      ||grad||       alpha      alpha0  # evals  Notes \n",
      "     499       31245.1       0.00105       343.893      0.4509      0.4509      661   \n",
      "    Iter      log prob        ||dx||      ||grad||       alpha      alpha0  # evals  Notes \n",
      "     599       31246.1   0.000200666       92.8733      0.3192           1      793   \n",
      "    Iter      log prob        ||dx||      ||grad||       alpha      alpha0  # evals  Notes \n",
      "     630       31246.4   3.70225e-05       172.727     5.6e-08       0.001      874  LS failed, Hessian reset \n",
      "     699       31246.8   7.52978e-05       113.123      0.3971           1      965   \n",
      "    Iter      log prob        ||dx||      ||grad||       alpha      alpha0  # evals  Notes \n",
      "     755       31246.8   2.03377e-06       68.6572      0.7194      0.7194     1035   \n",
      "Optimization terminated normally: \n",
      "  Convergence detected: relative gradient magnitude is below tolerance\n"
     ]
    }
   ],
   "source": [
    "from pandas import read_csv\n",
    "from pandas import to_datetime\n",
    "from fbprophet import Prophet\n",
    "\n",
    "# load data\n",
    "#path = 'https://raw.githubusercontent.com/jbrownlee/Datasets/master/monthly-car-sales.csv'\n",
    "#prophet_df = read_csv('../input/flureports/WPOFluNetInteractiveReport.csv', skiprows=3)\n",
    "cat_data=one_hot_encoded_data\n",
    "prophet_df=cat_data.reset_index()\n",
    "prophet_df.rename(columns = {'EDATE':'ds', 'ALL_INF':'y'}, inplace = True)\n",
    "\n",
    "\n",
    "# prepare expected column names\n",
    "df= prophet_df[['ds', 'y']]\n",
    "\n",
    "#df= [ds, y]\n",
    "df.columns = ['ds', 'y']\n",
    "df['ds']= to_datetime(df['ds'])\n",
    "\n",
    "#split data\n",
    "from sklearn.model_selection import train_test_split\n",
    "\n",
    "x_train, x_test= train_test_split(df, test_size=0.3)\n",
    "x_train.sort_values(by='ds', axis=0, ascending=True, inplace=True)\n",
    "x_test.sort_values(by='ds', axis=0, ascending=True, inplace=True)\n",
    "# define the model\n",
    "model1 = Prophet()\n",
    "# fit the model\n",
    "model1.fit(x_train)\n",
    "filename = 'prophet.sav'\n",
    "pickle. dump(model1, open(filename, 'wb'))"
   ]
  },
  {
   "cell_type": "code",
   "execution_count": null,
   "metadata": {},
   "outputs": [],
   "source": []
  },
  {
   "cell_type": "code",
   "execution_count": 8,
   "metadata": {},
   "outputs": [
    {
     "data": {
      "text/html": [
       "<div>\n",
       "<style scoped>\n",
       "    .dataframe tbody tr th:only-of-type {\n",
       "        vertical-align: middle;\n",
       "    }\n",
       "\n",
       "    .dataframe tbody tr th {\n",
       "        vertical-align: top;\n",
       "    }\n",
       "\n",
       "    .dataframe thead th {\n",
       "        text-align: right;\n",
       "    }\n",
       "</style>\n",
       "<table border=\"1\" class=\"dataframe\">\n",
       "  <thead>\n",
       "    <tr style=\"text-align: right;\">\n",
       "      <th></th>\n",
       "      <th>ds</th>\n",
       "      <th>y</th>\n",
       "    </tr>\n",
       "  </thead>\n",
       "  <tbody>\n",
       "    <tr>\n",
       "      <th>0</th>\n",
       "      <td>2000-01-09</td>\n",
       "      <td>1.0</td>\n",
       "    </tr>\n",
       "    <tr>\n",
       "      <th>1</th>\n",
       "      <td>2000-01-16</td>\n",
       "      <td>1.0</td>\n",
       "    </tr>\n",
       "    <tr>\n",
       "      <th>2</th>\n",
       "      <td>2000-01-23</td>\n",
       "      <td>2.0</td>\n",
       "    </tr>\n",
       "    <tr>\n",
       "      <th>3</th>\n",
       "      <td>2000-01-30</td>\n",
       "      <td>1.0</td>\n",
       "    </tr>\n",
       "    <tr>\n",
       "      <th>4</th>\n",
       "      <td>2000-02-06</td>\n",
       "      <td>1.0</td>\n",
       "    </tr>\n",
       "  </tbody>\n",
       "</table>\n",
       "</div>"
      ],
      "text/plain": [
       "          ds    y\n",
       "0 2000-01-09  1.0\n",
       "1 2000-01-16  1.0\n",
       "2 2000-01-23  2.0\n",
       "3 2000-01-30  1.0\n",
       "4 2000-02-06  1.0"
      ]
     },
     "execution_count": 8,
     "metadata": {},
     "output_type": "execute_result"
    }
   ],
   "source": [
    "df.head()"
   ]
  },
  {
   "cell_type": "code",
   "execution_count": null,
   "metadata": {},
   "outputs": [],
   "source": [
    "future= model.make_future_dataframe(periods=14)\n",
    "forecast=model.predict(future)"
   ]
  },
  {
   "cell_type": "code",
   "execution_count": null,
   "metadata": {},
   "outputs": [],
   "source": [
    "fig1 =model.plot(forecast)"
   ]
  },
  {
   "cell_type": "code",
   "execution_count": 15,
   "metadata": {},
   "outputs": [],
   "source": [
    "regs=['Year', 'Week', 'SDATE', 'AH1', 'AH1N12009', 'AH3', 'AH5',\n",
    "       'ANOTSUBTYPED', 'INF_A', 'BYAMAGATA', 'BVICTORIA', 'BNOTDETERMINED',\n",
    "       'INF_B', 'ALL_INF2']"
   ]
  },
  {
   "cell_type": "code",
   "execution_count": 22,
   "metadata": {},
   "outputs": [
    {
     "data": {
      "text/html": [
       "<div>\n",
       "<style scoped>\n",
       "    .dataframe tbody tr th:only-of-type {\n",
       "        vertical-align: middle;\n",
       "    }\n",
       "\n",
       "    .dataframe tbody tr th {\n",
       "        vertical-align: top;\n",
       "    }\n",
       "\n",
       "    .dataframe thead th {\n",
       "        text-align: right;\n",
       "    }\n",
       "</style>\n",
       "<table border=\"1\" class=\"dataframe\">\n",
       "  <thead>\n",
       "    <tr style=\"text-align: right;\">\n",
       "      <th></th>\n",
       "      <th>ds</th>\n",
       "      <th>Year</th>\n",
       "      <th>Week</th>\n",
       "      <th>SDATE</th>\n",
       "      <th>AH1</th>\n",
       "      <th>AH1N12009</th>\n",
       "      <th>AH3</th>\n",
       "      <th>AH5</th>\n",
       "      <th>ANOTSUBTYPED</th>\n",
       "      <th>INF_A</th>\n",
       "      <th>...</th>\n",
       "      <th>Country_New Zealand</th>\n",
       "      <th>Country_Papua New Guinea</th>\n",
       "      <th>Country_Philippines</th>\n",
       "      <th>Country_Republic of Korea</th>\n",
       "      <th>Country_Singapore</th>\n",
       "      <th>Country_Viet Nam</th>\n",
       "      <th>WHOREGION_Western Pacific Region of WHO</th>\n",
       "      <th>FLUREGION_Eastern Asia</th>\n",
       "      <th>FLUREGION_Oceania Melanesia Polynesia</th>\n",
       "      <th>FLUREGION_South-East Asia</th>\n",
       "    </tr>\n",
       "  </thead>\n",
       "  <tbody>\n",
       "    <tr>\n",
       "      <th>0</th>\n",
       "      <td>2000-01-09</td>\n",
       "      <td>2000</td>\n",
       "      <td>1</td>\n",
       "      <td>2000-01-03</td>\n",
       "      <td>0.0</td>\n",
       "      <td>0.0</td>\n",
       "      <td>1.0</td>\n",
       "      <td>0.0</td>\n",
       "      <td>0.0</td>\n",
       "      <td>1.0</td>\n",
       "      <td>...</td>\n",
       "      <td>0</td>\n",
       "      <td>0</td>\n",
       "      <td>0</td>\n",
       "      <td>0</td>\n",
       "      <td>0</td>\n",
       "      <td>0</td>\n",
       "      <td>1</td>\n",
       "      <td>0</td>\n",
       "      <td>1</td>\n",
       "      <td>0</td>\n",
       "    </tr>\n",
       "  </tbody>\n",
       "</table>\n",
       "<p>1 rows × 35 columns</p>\n",
       "</div>"
      ],
      "text/plain": [
       "          ds  Year  Week      SDATE  AH1  AH1N12009  AH3  AH5  ANOTSUBTYPED  \\\n",
       "0 2000-01-09  2000     1 2000-01-03  0.0        0.0  1.0  0.0           0.0   \n",
       "\n",
       "   INF_A  ...  Country_New Zealand  Country_Papua New Guinea  \\\n",
       "0    1.0  ...                    0                         0   \n",
       "\n",
       "   Country_Philippines  Country_Republic of Korea  Country_Singapore  \\\n",
       "0                    0                          0                  0   \n",
       "\n",
       "   Country_Viet Nam  WHOREGION_Western Pacific Region of WHO  \\\n",
       "0                 0                                        1   \n",
       "\n",
       "   FLUREGION_Eastern Asia  FLUREGION_Oceania Melanesia Polynesia  \\\n",
       "0                       0                                      1   \n",
       "\n",
       "   FLUREGION_South-East Asia  \n",
       "0                          0  \n",
       "\n",
       "[1 rows x 35 columns]"
      ]
     },
     "execution_count": 22,
     "metadata": {},
     "output_type": "execute_result"
    }
   ],
   "source": [
    "prophet_df.head(1)"
   ]
  },
  {
   "cell_type": "code",
   "execution_count": null,
   "metadata": {},
   "outputs": [],
   "source": [
    "#split data\n",
    "from sklearn.model_selection import train_test_split\n",
    "\n",
    "x_train, x_test= train_test_split(prophet_df, test_size=0.3)\n",
    "x_train.sort_values(by='ds', axis=0, ascending=True, inplace=True)\n",
    "x_test.sort_values(by='ds', axis=0, ascending=True, inplace=True)\n",
    "#Additional Regressor\n",
    "pro_regressor= Prophet()\n",
    "for r in regs:\n",
    "    pro_regressor.add_regressor(r)\n",
    "#Fitting the data\n",
    "pro_regressor.fit(x_train)\n",
    "#serialise prophet regressor\n",
    "filename = 'prophet.sav'\n",
    "pickle. dump(pro_regressor, open(filename, 'wb'))"
   ]
  },
  {
   "cell_type": "code",
   "execution_count": null,
   "metadata": {},
   "outputs": [],
   "source": [
    "future_data = pro_regressor.make_future_dataframe(periods=14)\n",
    "#forecast the data for Test  data\n",
    "forecast_data = pro_regressor.predict(x_test)\n",
    "pro_regressor.plot(forecast_data)"
   ]
  },
  {
   "cell_type": "code",
   "execution_count": null,
   "metadata": {},
   "outputs": [],
   "source": [
    "plt.scatter(x=x_test.Year, y=x_test.y, s=5)"
   ]
  },
  {
   "cell_type": "code",
   "execution_count": null,
   "metadata": {},
   "outputs": [],
   "source": [
    "#compare 14day forecast with test data\n",
    "x=x_test.iloc[-15:,:]\n",
    "plt.scatter(x=x.ds, y=x.y, s=50)\n",
    "forecast=forecast_data.iloc[-15:,:]\n",
    "plt.scatter(x=forecast.ds, y=forecast.yhat, s=5)"
   ]
  },
  {
   "cell_type": "code",
   "execution_count": null,
   "metadata": {},
   "outputs": [],
   "source": []
  },
  {
   "cell_type": "code",
   "execution_count": 46,
   "metadata": {},
   "outputs": [
    {
     "data": {
      "text/plain": [
       "22"
      ]
     },
     "execution_count": 46,
     "metadata": {},
     "output_type": "execute_result"
    }
   ],
   "source": [
    "len(models)"
   ]
  },
  {
   "cell_type": "code",
   "execution_count": 41,
   "metadata": {},
   "outputs": [],
   "source": [
    "time_series=['AH1', 'AH1N12009', 'AH3', 'AH5',\n",
    "       'ANOTSUBTYPED', 'INF_A', 'BYAMAGATA', 'BVICTORIA', 'BNOTDETERMINED',\n",
    "       'INF_B', 'ALL_INF2']"
   ]
  },
  {
   "cell_type": "code",
   "execution_count": 47,
   "metadata": {},
   "outputs": [
    {
     "name": "stderr",
     "output_type": "stream",
     "text": [
      "INFO:fbprophet:Disabling weekly seasonality. Run prophet with weekly_seasonality=True to override this.\n",
      "INFO:fbprophet:Disabling daily seasonality. Run prophet with daily_seasonality=True to override this.\n"
     ]
    },
    {
     "name": "stdout",
     "output_type": "stream",
     "text": [
      "Initial log joint probability = -16.3848\n",
      "    Iter      log prob        ||dx||      ||grad||       alpha      alpha0  # evals  Notes \n",
      "      99       31109.1   0.000854376       299.242           1           1      121   \n",
      "    Iter      log prob        ||dx||      ||grad||       alpha      alpha0  # evals  Notes \n",
      "     199         31116   0.000606057       237.455      0.9526      0.9526      243   \n",
      "    Iter      log prob        ||dx||      ||grad||       alpha      alpha0  # evals  Notes \n",
      "     251       31116.9   1.58512e-05        139.75   1.379e-07       0.001      353  LS failed, Hessian reset \n",
      "     299       31117.2   0.000154035       96.2971           1           1      410   \n",
      "    Iter      log prob        ||dx||      ||grad||       alpha      alpha0  # evals  Notes \n",
      "     399       31117.9     0.0015267        106.49           1           1      525   \n",
      "    Iter      log prob        ||dx||      ||grad||       alpha      alpha0  # evals  Notes \n",
      "     477       31118.6   9.43059e-06       84.5315   8.558e-08       0.001      662  LS failed, Hessian reset \n",
      "     499       31118.7   0.000331293       285.719      0.6689      0.6689      695   \n",
      "    Iter      log prob        ||dx||      ||grad||       alpha      alpha0  # evals  Notes \n",
      "     553       31118.9   4.45676e-05       193.637    4.96e-07       0.001      804  LS failed, Hessian reset \n",
      "     576       31118.9   5.41988e-07        62.815       0.233       0.233      835   \n",
      "Optimization terminated normally: \n",
      "  Convergence detected: relative gradient magnitude is below tolerance\n"
     ]
    },
    {
     "name": "stderr",
     "output_type": "stream",
     "text": [
      "INFO:fbprophet:Disabling weekly seasonality. Run prophet with weekly_seasonality=True to override this.\n",
      "INFO:fbprophet:Disabling daily seasonality. Run prophet with daily_seasonality=True to override this.\n",
      "INFO:fbprophet:Disabling weekly seasonality. Run prophet with weekly_seasonality=True to override this.\n",
      "INFO:fbprophet:Disabling daily seasonality. Run prophet with daily_seasonality=True to override this.\n"
     ]
    },
    {
     "name": "stdout",
     "output_type": "stream",
     "text": [
      "Initial log joint probability = -16.3848\n",
      "    Iter      log prob        ||dx||      ||grad||       alpha      alpha0  # evals  Notes \n",
      "      99       31109.1   0.000854376       299.242           1           1      121   \n",
      "    Iter      log prob        ||dx||      ||grad||       alpha      alpha0  # evals  Notes \n",
      "     199         31116   0.000606057       237.455      0.9526      0.9526      243   \n",
      "    Iter      log prob        ||dx||      ||grad||       alpha      alpha0  # evals  Notes \n",
      "     251       31116.9   1.58512e-05        139.75   1.379e-07       0.001      353  LS failed, Hessian reset \n",
      "     299       31117.2   0.000154035       96.2971           1           1      410   \n",
      "    Iter      log prob        ||dx||      ||grad||       alpha      alpha0  # evals  Notes \n",
      "     399       31117.9     0.0015267        106.49           1           1      525   \n",
      "    Iter      log prob        ||dx||      ||grad||       alpha      alpha0  # evals  Notes \n",
      "     477       31118.6   9.43059e-06       84.5315   8.558e-08       0.001      662  LS failed, Hessian reset \n",
      "     499       31118.7   0.000331293       285.719      0.6689      0.6689      695   \n",
      "    Iter      log prob        ||dx||      ||grad||       alpha      alpha0  # evals  Notes \n",
      "     553       31118.9   4.45676e-05       193.637    4.96e-07       0.001      804  LS failed, Hessian reset \n",
      "     576       31118.9   5.41988e-07        62.815       0.233       0.233      835   \n",
      "Optimization terminated normally: \n",
      "  Convergence detected: relative gradient magnitude is below tolerance\n"
     ]
    },
    {
     "name": "stderr",
     "output_type": "stream",
     "text": [
      "INFO:fbprophet:Disabling weekly seasonality. Run prophet with weekly_seasonality=True to override this.\n",
      "INFO:fbprophet:Disabling daily seasonality. Run prophet with daily_seasonality=True to override this.\n"
     ]
    },
    {
     "name": "stdout",
     "output_type": "stream",
     "text": [
      "Initial log joint probability = -16.3848\n",
      "    Iter      log prob        ||dx||      ||grad||       alpha      alpha0  # evals  Notes \n",
      "      99       31109.1   0.000854376       299.242           1           1      121   \n",
      "    Iter      log prob        ||dx||      ||grad||       alpha      alpha0  # evals  Notes \n",
      "     199         31116   0.000606057       237.455      0.9526      0.9526      243   \n",
      "    Iter      log prob        ||dx||      ||grad||       alpha      alpha0  # evals  Notes \n",
      "     251       31116.9   1.58512e-05        139.75   1.379e-07       0.001      353  LS failed, Hessian reset \n",
      "     299       31117.2   0.000154035       96.2971           1           1      410   \n",
      "    Iter      log prob        ||dx||      ||grad||       alpha      alpha0  # evals  Notes \n",
      "     399       31117.9     0.0015267        106.49           1           1      525   \n",
      "    Iter      log prob        ||dx||      ||grad||       alpha      alpha0  # evals  Notes \n",
      "     477       31118.6   9.43059e-06       84.5315   8.558e-08       0.001      662  LS failed, Hessian reset \n",
      "     499       31118.7   0.000331293       285.719      0.6689      0.6689      695   \n",
      "    Iter      log prob        ||dx||      ||grad||       alpha      alpha0  # evals  Notes \n",
      "     553       31118.9   4.45676e-05       193.637    4.96e-07       0.001      804  LS failed, Hessian reset \n",
      "     576       31118.9   5.41988e-07        62.815       0.233       0.233      835   \n",
      "Optimization terminated normally: \n",
      "  Convergence detected: relative gradient magnitude is below tolerance\n"
     ]
    },
    {
     "name": "stderr",
     "output_type": "stream",
     "text": [
      "INFO:fbprophet:Disabling weekly seasonality. Run prophet with weekly_seasonality=True to override this.\n",
      "INFO:fbprophet:Disabling daily seasonality. Run prophet with daily_seasonality=True to override this.\n"
     ]
    },
    {
     "name": "stdout",
     "output_type": "stream",
     "text": [
      "Initial log joint probability = -16.3848\n",
      "    Iter      log prob        ||dx||      ||grad||       alpha      alpha0  # evals  Notes \n",
      "      99       31109.1   0.000854376       299.242           1           1      121   \n",
      "    Iter      log prob        ||dx||      ||grad||       alpha      alpha0  # evals  Notes \n",
      "     199         31116   0.000606057       237.455      0.9526      0.9526      243   \n",
      "    Iter      log prob        ||dx||      ||grad||       alpha      alpha0  # evals  Notes \n",
      "     251       31116.9   1.58512e-05        139.75   1.379e-07       0.001      353  LS failed, Hessian reset \n",
      "     299       31117.2   0.000154035       96.2971           1           1      410   \n",
      "    Iter      log prob        ||dx||      ||grad||       alpha      alpha0  # evals  Notes \n",
      "     399       31117.9     0.0015267        106.49           1           1      525   \n",
      "    Iter      log prob        ||dx||      ||grad||       alpha      alpha0  # evals  Notes \n",
      "     477       31118.6   9.43059e-06       84.5315   8.558e-08       0.001      662  LS failed, Hessian reset \n",
      "     499       31118.7   0.000331293       285.719      0.6689      0.6689      695   \n",
      "    Iter      log prob        ||dx||      ||grad||       alpha      alpha0  # evals  Notes \n",
      "     553       31118.9   4.45676e-05       193.637    4.96e-07       0.001      804  LS failed, Hessian reset \n",
      "     576       31118.9   5.41988e-07        62.815       0.233       0.233      835   \n",
      "Optimization terminated normally: \n",
      "  Convergence detected: relative gradient magnitude is below tolerance\n"
     ]
    },
    {
     "name": "stderr",
     "output_type": "stream",
     "text": [
      "INFO:fbprophet:Disabling weekly seasonality. Run prophet with weekly_seasonality=True to override this.\n",
      "INFO:fbprophet:Disabling daily seasonality. Run prophet with daily_seasonality=True to override this.\n"
     ]
    },
    {
     "name": "stdout",
     "output_type": "stream",
     "text": [
      "Initial log joint probability = -16.3848\n",
      "    Iter      log prob        ||dx||      ||grad||       alpha      alpha0  # evals  Notes \n",
      "      99       31109.1   0.000854376       299.242           1           1      121   \n",
      "    Iter      log prob        ||dx||      ||grad||       alpha      alpha0  # evals  Notes \n",
      "     199         31116   0.000606057       237.455      0.9526      0.9526      243   \n",
      "    Iter      log prob        ||dx||      ||grad||       alpha      alpha0  # evals  Notes \n",
      "     251       31116.9   1.58512e-05        139.75   1.379e-07       0.001      353  LS failed, Hessian reset \n",
      "     299       31117.2   0.000154035       96.2971           1           1      410   \n",
      "    Iter      log prob        ||dx||      ||grad||       alpha      alpha0  # evals  Notes \n",
      "     399       31117.9     0.0015267        106.49           1           1      525   \n",
      "    Iter      log prob        ||dx||      ||grad||       alpha      alpha0  # evals  Notes \n",
      "     477       31118.6   9.43059e-06       84.5315   8.558e-08       0.001      662  LS failed, Hessian reset \n",
      "     499       31118.7   0.000331293       285.719      0.6689      0.6689      695   \n",
      "    Iter      log prob        ||dx||      ||grad||       alpha      alpha0  # evals  Notes \n",
      "     553       31118.9   4.45676e-05       193.637    4.96e-07       0.001      804  LS failed, Hessian reset \n",
      "     576       31118.9   5.41988e-07        62.815       0.233       0.233      835   \n",
      "Optimization terminated normally: \n",
      "  Convergence detected: relative gradient magnitude is below tolerance\n"
     ]
    },
    {
     "name": "stderr",
     "output_type": "stream",
     "text": [
      "INFO:fbprophet:Disabling weekly seasonality. Run prophet with weekly_seasonality=True to override this.\n",
      "INFO:fbprophet:Disabling daily seasonality. Run prophet with daily_seasonality=True to override this.\n"
     ]
    },
    {
     "name": "stdout",
     "output_type": "stream",
     "text": [
      "Initial log joint probability = -16.3848\n",
      "    Iter      log prob        ||dx||      ||grad||       alpha      alpha0  # evals  Notes \n",
      "      99       31109.1   0.000854376       299.242           1           1      121   \n",
      "    Iter      log prob        ||dx||      ||grad||       alpha      alpha0  # evals  Notes \n",
      "     199         31116   0.000606057       237.455      0.9526      0.9526      243   \n",
      "    Iter      log prob        ||dx||      ||grad||       alpha      alpha0  # evals  Notes \n",
      "     251       31116.9   1.58512e-05        139.75   1.379e-07       0.001      353  LS failed, Hessian reset \n",
      "     299       31117.2   0.000154035       96.2971           1           1      410   \n",
      "    Iter      log prob        ||dx||      ||grad||       alpha      alpha0  # evals  Notes \n",
      "     399       31117.9     0.0015267        106.49           1           1      525   \n",
      "    Iter      log prob        ||dx||      ||grad||       alpha      alpha0  # evals  Notes \n",
      "     477       31118.6   9.43059e-06       84.5315   8.558e-08       0.001      662  LS failed, Hessian reset \n",
      "     499       31118.7   0.000331293       285.719      0.6689      0.6689      695   \n",
      "    Iter      log prob        ||dx||      ||grad||       alpha      alpha0  # evals  Notes \n",
      "     553       31118.9   4.45676e-05       193.637    4.96e-07       0.001      804  LS failed, Hessian reset \n",
      "     576       31118.9   5.41988e-07        62.815       0.233       0.233      835   \n",
      "Optimization terminated normally: \n",
      "  Convergence detected: relative gradient magnitude is below tolerance\n"
     ]
    },
    {
     "name": "stderr",
     "output_type": "stream",
     "text": [
      "INFO:fbprophet:Disabling weekly seasonality. Run prophet with weekly_seasonality=True to override this.\n",
      "INFO:fbprophet:Disabling daily seasonality. Run prophet with daily_seasonality=True to override this.\n"
     ]
    },
    {
     "name": "stdout",
     "output_type": "stream",
     "text": [
      "Initial log joint probability = -16.3848\n",
      "    Iter      log prob        ||dx||      ||grad||       alpha      alpha0  # evals  Notes \n",
      "      99       31109.1   0.000854376       299.242           1           1      121   \n",
      "    Iter      log prob        ||dx||      ||grad||       alpha      alpha0  # evals  Notes \n",
      "     199         31116   0.000606057       237.455      0.9526      0.9526      243   \n",
      "    Iter      log prob        ||dx||      ||grad||       alpha      alpha0  # evals  Notes \n",
      "     251       31116.9   1.58512e-05        139.75   1.379e-07       0.001      353  LS failed, Hessian reset \n",
      "     299       31117.2   0.000154035       96.2971           1           1      410   \n",
      "    Iter      log prob        ||dx||      ||grad||       alpha      alpha0  # evals  Notes \n",
      "     399       31117.9     0.0015267        106.49           1           1      525   \n",
      "    Iter      log prob        ||dx||      ||grad||       alpha      alpha0  # evals  Notes \n",
      "     477       31118.6   9.43059e-06       84.5315   8.558e-08       0.001      662  LS failed, Hessian reset \n",
      "     499       31118.7   0.000331293       285.719      0.6689      0.6689      695   \n",
      "    Iter      log prob        ||dx||      ||grad||       alpha      alpha0  # evals  Notes \n",
      "     553       31118.9   4.45676e-05       193.637    4.96e-07       0.001      804  LS failed, Hessian reset \n",
      "     576       31118.9   5.41988e-07        62.815       0.233       0.233      835   \n",
      "Optimization terminated normally: \n",
      "  Convergence detected: relative gradient magnitude is below tolerance\n"
     ]
    },
    {
     "name": "stderr",
     "output_type": "stream",
     "text": [
      "INFO:fbprophet:Disabling weekly seasonality. Run prophet with weekly_seasonality=True to override this.\n",
      "INFO:fbprophet:Disabling daily seasonality. Run prophet with daily_seasonality=True to override this.\n"
     ]
    },
    {
     "name": "stdout",
     "output_type": "stream",
     "text": [
      "Initial log joint probability = -16.3848\n",
      "    Iter      log prob        ||dx||      ||grad||       alpha      alpha0  # evals  Notes \n",
      "      99       31109.1   0.000854376       299.242           1           1      121   \n",
      "    Iter      log prob        ||dx||      ||grad||       alpha      alpha0  # evals  Notes \n",
      "     199         31116   0.000606057       237.455      0.9526      0.9526      243   \n",
      "    Iter      log prob        ||dx||      ||grad||       alpha      alpha0  # evals  Notes \n",
      "     251       31116.9   1.58512e-05        139.75   1.379e-07       0.001      353  LS failed, Hessian reset \n",
      "     299       31117.2   0.000154035       96.2971           1           1      410   \n",
      "    Iter      log prob        ||dx||      ||grad||       alpha      alpha0  # evals  Notes \n",
      "     399       31117.9     0.0015267        106.49           1           1      525   \n",
      "    Iter      log prob        ||dx||      ||grad||       alpha      alpha0  # evals  Notes \n",
      "     477       31118.6   9.43059e-06       84.5315   8.558e-08       0.001      662  LS failed, Hessian reset \n",
      "     499       31118.7   0.000331293       285.719      0.6689      0.6689      695   \n",
      "    Iter      log prob        ||dx||      ||grad||       alpha      alpha0  # evals  Notes \n",
      "     553       31118.9   4.45676e-05       193.637    4.96e-07       0.001      804  LS failed, Hessian reset \n",
      "     576       31118.9   5.41988e-07        62.815       0.233       0.233      835   \n",
      "Optimization terminated normally: \n",
      "  Convergence detected: relative gradient magnitude is below tolerance\n"
     ]
    },
    {
     "name": "stderr",
     "output_type": "stream",
     "text": [
      "INFO:fbprophet:Disabling weekly seasonality. Run prophet with weekly_seasonality=True to override this.\n",
      "INFO:fbprophet:Disabling daily seasonality. Run prophet with daily_seasonality=True to override this.\n"
     ]
    },
    {
     "name": "stdout",
     "output_type": "stream",
     "text": [
      "Initial log joint probability = -16.3848\n",
      "    Iter      log prob        ||dx||      ||grad||       alpha      alpha0  # evals  Notes \n",
      "      99       31109.1   0.000854376       299.242           1           1      121   \n",
      "    Iter      log prob        ||dx||      ||grad||       alpha      alpha0  # evals  Notes \n",
      "     199         31116   0.000606057       237.455      0.9526      0.9526      243   \n",
      "    Iter      log prob        ||dx||      ||grad||       alpha      alpha0  # evals  Notes \n",
      "     251       31116.9   1.58512e-05        139.75   1.379e-07       0.001      353  LS failed, Hessian reset \n",
      "     299       31117.2   0.000154035       96.2971           1           1      410   \n",
      "    Iter      log prob        ||dx||      ||grad||       alpha      alpha0  # evals  Notes \n",
      "     399       31117.9     0.0015267        106.49           1           1      525   \n",
      "    Iter      log prob        ||dx||      ||grad||       alpha      alpha0  # evals  Notes \n",
      "     477       31118.6   9.43059e-06       84.5315   8.558e-08       0.001      662  LS failed, Hessian reset \n",
      "     499       31118.7   0.000331293       285.719      0.6689      0.6689      695   \n",
      "    Iter      log prob        ||dx||      ||grad||       alpha      alpha0  # evals  Notes \n",
      "     553       31118.9   4.45676e-05       193.637    4.96e-07       0.001      804  LS failed, Hessian reset \n",
      "     576       31118.9   5.41988e-07        62.815       0.233       0.233      835   \n",
      "Optimization terminated normally: \n",
      "  Convergence detected: relative gradient magnitude is below tolerance\n"
     ]
    },
    {
     "name": "stderr",
     "output_type": "stream",
     "text": [
      "INFO:fbprophet:Disabling weekly seasonality. Run prophet with weekly_seasonality=True to override this.\n",
      "INFO:fbprophet:Disabling daily seasonality. Run prophet with daily_seasonality=True to override this.\n"
     ]
    },
    {
     "name": "stdout",
     "output_type": "stream",
     "text": [
      "Initial log joint probability = -16.3848\n",
      "    Iter      log prob        ||dx||      ||grad||       alpha      alpha0  # evals  Notes \n",
      "      99       31109.1   0.000854376       299.242           1           1      121   \n",
      "    Iter      log prob        ||dx||      ||grad||       alpha      alpha0  # evals  Notes \n",
      "     199         31116   0.000606057       237.455      0.9526      0.9526      243   \n",
      "    Iter      log prob        ||dx||      ||grad||       alpha      alpha0  # evals  Notes \n",
      "     251       31116.9   1.58512e-05        139.75   1.379e-07       0.001      353  LS failed, Hessian reset \n",
      "     299       31117.2   0.000154035       96.2971           1           1      410   \n",
      "    Iter      log prob        ||dx||      ||grad||       alpha      alpha0  # evals  Notes \n",
      "     399       31117.9     0.0015267        106.49           1           1      525   \n",
      "    Iter      log prob        ||dx||      ||grad||       alpha      alpha0  # evals  Notes \n",
      "     477       31118.6   9.43059e-06       84.5315   8.558e-08       0.001      662  LS failed, Hessian reset \n",
      "     499       31118.7   0.000331293       285.719      0.6689      0.6689      695   \n",
      "    Iter      log prob        ||dx||      ||grad||       alpha      alpha0  # evals  Notes \n",
      "     553       31118.9   4.45676e-05       193.637    4.96e-07       0.001      804  LS failed, Hessian reset \n",
      "     576       31118.9   5.41988e-07        62.815       0.233       0.233      835   \n",
      "Optimization terminated normally: \n",
      "  Convergence detected: relative gradient magnitude is below tolerance\n",
      "Initial log joint probability = -16.3848\n",
      "    Iter      log prob        ||dx||      ||grad||       alpha      alpha0  # evals  Notes \n",
      "      99       31109.1   0.000854376       299.242           1           1      121   \n",
      "    Iter      log prob        ||dx||      ||grad||       alpha      alpha0  # evals  Notes \n",
      "     199         31116   0.000606057       237.455      0.9526      0.9526      243   \n",
      "    Iter      log prob        ||dx||      ||grad||       alpha      alpha0  # evals  Notes \n",
      "     251       31116.9   1.58512e-05        139.75   1.379e-07       0.001      353  LS failed, Hessian reset \n",
      "     299       31117.2   0.000154035       96.2971           1           1      410   \n",
      "    Iter      log prob        ||dx||      ||grad||       alpha      alpha0  # evals  Notes \n",
      "     399       31117.9     0.0015267        106.49           1           1      525   \n",
      "    Iter      log prob        ||dx||      ||grad||       alpha      alpha0  # evals  Notes \n",
      "     477       31118.6   9.43059e-06       84.5315   8.558e-08       0.001      662  LS failed, Hessian reset \n",
      "     499       31118.7   0.000331293       285.719      0.6689      0.6689      695   \n",
      "    Iter      log prob        ||dx||      ||grad||       alpha      alpha0  # evals  Notes \n",
      "     553       31118.9   4.45676e-05       193.637    4.96e-07       0.001      804  LS failed, Hessian reset \n",
      "     576       31118.9   5.41988e-07        62.815       0.233       0.233      835   \n",
      "Optimization terminated normally: \n",
      "  Convergence detected: relative gradient magnitude is below tolerance\n"
     ]
    }
   ],
   "source": [
    "#split data\n",
    "from sklearn.model_selection import train_test_split\n",
    "\n",
    "x_train, x_test= train_test_split(prophet_df, test_size=0.3)\n",
    "x_train.sort_values(by='ds', axis=0, ascending=True, inplace=True)\n",
    "x_test.sort_values(by='ds', axis=0, ascending=True, inplace=True)\n",
    "\n",
    "for idx, r in enumerate(time_series):\n",
    "    df=pd.concat([x_train[['ds', 'y']], x_train.iloc[idx]], axis=1)\n",
    "    multi_regressor= Prophet()\n",
    "    r=multi_regressor.fit(df)\n",
    "    models.append(r)\n",
    "    del(df)\n",
    "    \n",
    "    #Fitting the data\n",
    "#multi_regressor.fit(x_train)\n",
    "#serialise prophet regressor\n",
    "filename = 'multi_prophet.sav'\n",
    "pickle. dump(models, open(filename, 'wb'))"
   ]
  },
  {
   "cell_type": "code",
   "execution_count": 43,
   "metadata": {},
   "outputs": [
    {
     "name": "stdout",
     "output_type": "stream",
     "text": [
      "'Capstone Flu Intelligence.ipynb'      multi_prophet.sav\n",
      " data\t\t\t\t       README.md\n",
      " Epidemic+Intelligence+Framework.jpg   requirements.txt\n",
      " flu-spook-backend.py\t\t      'wild guess.webp.crdownload'\n",
      " influenza-spook.ipynb\n"
     ]
    }
   ],
   "source": [
    "!ls"
   ]
  },
  {
   "cell_type": "code",
   "execution_count": null,
   "metadata": {},
   "outputs": [],
   "source": [
    "import os\n",
    "import pandas as pd\n",
    "import numpy as np\n",
    "import gc\n",
    "import matplotlib.pyplot as plt\n",
    "import tensorflow as tf\n",
    "from tensorflow.keras import layers\n",
    "from tensorflow import keras\n",
    "from scipy import stats\n",
    "import seaborn as sns"
   ]
  },
  {
   "cell_type": "markdown",
   "metadata": {},
   "source": [
    "# Epidemic Classifier \n",
    "> Now that can predict future trends, we need to know if we are predicting an epidemic or not. We build a classification model for that"
   ]
  },
  {
   "cell_type": "code",
   "execution_count": null,
   "metadata": {},
   "outputs": [],
   "source": [
    "cat_data.dtypes"
   ]
  },
  {
   "cell_type": "markdown",
   "metadata": {},
   "source": [
    "### Transform categorical columns"
   ]
  },
  {
   "cell_type": "code",
   "execution_count": null,
   "metadata": {},
   "outputs": [],
   "source": [
    "## Label encode the text\n",
    "from sklearn.preprocessing import LabelEncoder\n",
    "# creating instance of labelencoder\n",
    "labelencoder = LabelEncoder()#one hot encode the categores from label encoder\n",
    "# using the encoder to encode the categorical columns\n",
    "Y= labelencoder.fit_transform(target)\n",
    "Y\n",
    "#y=y.reshape(-1, 1) \n"
   ]
  },
  {
   "cell_type": "code",
   "execution_count": null,
   "metadata": {},
   "outputs": [],
   "source": [
    "data2=cat_data\n",
    "_=data2.pop('SDATE')\n",
    "data2.head(1)"
   ]
  },
  {
   "cell_type": "code",
   "execution_count": null,
   "metadata": {},
   "outputs": [],
   "source": [
    "from sklearn.model_selection import train_test_split\n",
    "\n",
    "X_train, X_test, Y_train, Y_test = train_test_split(data2.iloc[:,3:], Y, test_size=0.3)"
   ]
  },
  {
   "cell_type": "code",
   "execution_count": null,
   "metadata": {},
   "outputs": [],
   "source": [
    "# Model Training\n",
    "\n",
    "from sklearn.linear_model import LogisticRegression\n",
    "# instantiate the model as clf(classifier) and train it\n",
    "\n",
    "outbreak= LogisticRegression()\n",
    "outbreak.fit(X_train.ALL_INF.array.reshape(-1, 1), Y_train)\n",
    "\n",
    "#serialise outbreak regressor\n",
    "filename = 'outbreak.sav'\n",
    "pickle. dump(outbreak, open(filename, 'wb'))"
   ]
  },
  {
   "cell_type": "code",
   "execution_count": null,
   "metadata": {},
   "outputs": [],
   "source": [
    "pred=outbreak.predict(X_test.ALL_INF.array.reshape(-1, 1))\n",
    "# confusiong matrix\n",
    "\n",
    "# Creating  a confusion matrix,which compares the y_test and y_pred\n",
    "from sklearn.metrics import confusion_matrix\n",
    "cmr = confusion_matrix(Y_test, pred)\n",
    "\n",
    "\n",
    "# Creating a dataframe for a array-formatted Confusion matrix,so it will be easy for plotting.\n",
    "cm_dfr = pd.DataFrame(cmr)\n",
    "\n",
    "import seaborn as sns\n",
    "import numpy as np\n",
    "#Plotting the confusion matrix\n",
    "plt.figure(figsize=(10,6))\n",
    "sns.heatmap(cm_dfr/np.sum(cm_dfr), annot=True, cmap='Blues', fmt='.2%')\n",
    "plt.title('Confusion Matrix')\n",
    "plt.ylabel('Actual Values')\n",
    "plt.xlabel('Predicted Values')\n",
    "plt.show()"
   ]
  },
  {
   "cell_type": "markdown",
   "metadata": {},
   "source": [
    "## Classifying the outbreak category of our forecasted data\n",
    "> Now that we have a model that classifies outbreaks, we run it on the forecasts from prophet to classify them"
   ]
  },
  {
   "cell_type": "code",
   "execution_count": 4,
   "metadata": {},
   "outputs": [
    {
     "ename": "NameError",
     "evalue": "name 'outbreak' is not defined",
     "output_type": "error",
     "traceback": [
      "\u001b[0;31m---------------------------------------------------------------------------\u001b[0m",
      "\u001b[0;31mNameError\u001b[0m                                 Traceback (most recent call last)",
      "\u001b[0;32m/tmp/ipykernel_30915/1273310502.py\u001b[0m in \u001b[0;36m<module>\u001b[0;34m\u001b[0m\n\u001b[0;32m----> 1\u001b[0;31m \u001b[0mpreds\u001b[0m \u001b[0;34m=\u001b[0m \u001b[0moutbreak\u001b[0m\u001b[0;34m.\u001b[0m\u001b[0mpredict\u001b[0m\u001b[0;34m(\u001b[0m\u001b[0mforecast_data\u001b[0m\u001b[0;34m.\u001b[0m\u001b[0myhat\u001b[0m\u001b[0;34m.\u001b[0m\u001b[0marray\u001b[0m\u001b[0;34m.\u001b[0m\u001b[0mreshape\u001b[0m\u001b[0;34m(\u001b[0m\u001b[0;34m-\u001b[0m\u001b[0;36m1\u001b[0m\u001b[0;34m,\u001b[0m \u001b[0;36m1\u001b[0m\u001b[0;34m)\u001b[0m\u001b[0;34m)\u001b[0m\u001b[0;34m\u001b[0m\u001b[0;34m\u001b[0m\u001b[0m\n\u001b[0m\u001b[1;32m      2\u001b[0m \u001b[0my2\u001b[0m\u001b[0;34m=\u001b[0m\u001b[0mlabelencoder\u001b[0m\u001b[0;34m.\u001b[0m\u001b[0minverse_transform\u001b[0m\u001b[0;34m(\u001b[0m\u001b[0mpreds\u001b[0m\u001b[0;34m)\u001b[0m\u001b[0;34m\u001b[0m\u001b[0;34m\u001b[0m\u001b[0m\n\u001b[1;32m      3\u001b[0m \u001b[0my2\u001b[0m\u001b[0;34m\u001b[0m\u001b[0;34m\u001b[0m\u001b[0m\n",
      "\u001b[0;31mNameError\u001b[0m: name 'outbreak' is not defined"
     ]
    }
   ],
   "source": [
    "preds = outbreak.predict(forecast_data.yhat.array.reshape(-1, 1))\n",
    "y2=labelencoder.inverse_transform(preds)\n",
    "y2"
   ]
  },
  {
   "cell_type": "markdown",
   "metadata": {},
   "source": [
    "### Let's check how the outbreak classes of the prophet forecat compares against the test data by plotting a confusion matrix"
   ]
  },
  {
   "cell_type": "code",
   "execution_count": null,
   "metadata": {},
   "outputs": [],
   "source": [
    "from sklearn.metrics import confusion_matrix\n",
    "mr = confusion_matrix(pred, preds)\n",
    "# Creating a dataframe for a array-formatted Confusion matrix,so it will be easy for plotting.\n",
    "cm_dr = pd.DataFrame(mr)\n",
    "import seaborn as sns\n",
    "import numpy as np\n",
    "#Plotting the confusion matrix\n",
    "plt.figure(figsize=(10,6))\n",
    "sns.heatmap(cm_dr/np.sum(cm_dr), annot=True, cmap='Greens', fmt='.2%')\n",
    "plt.title('Confusion Matrix')\n",
    "plt.ylabel('Actual Values')\n",
    "plt.xlabel('Predicted Values')\n",
    "plt.show()"
   ]
  },
  {
   "cell_type": "code",
   "execution_count": null,
   "metadata": {},
   "outputs": [],
   "source": [
    "#cat_data=cat_data.reset_index()\n",
    "#cat_data_=cat_data.pop('EDATE')"
   ]
  },
  {
   "cell_type": "code",
   "execution_count": null,
   "metadata": {},
   "outputs": [],
   "source": [
    "flus=cat_data.iloc[:,2:12]\n",
    "#flus=flus.reset_index()\n",
    "flus.head()\n",
    "#ndf = pd.DataFrame(flus.values / cat_data.ALL_INF.values, columns=flus.columns)\n",
    "#ndf = ndf.assign(Total=ndf.sum(1)).fillna(0)\n"
   ]
  },
  {
   "cell_type": "code",
   "execution_count": null,
   "metadata": {},
   "outputs": [],
   "source": [
    "\n",
    "# for f in flus.index:\n",
    "#         if cat_data['ALL_INF'][f] !=0:\n",
    "#             d=cat_data['ALL_INF'][f]\n",
    "#             #print(flus.loc[f])\n",
    "#             flus.loc[f] = flus.loc[f] > 0.7\n",
    "# #\n",
    "# flus['type'] = flus.INF_A == True"
   ]
  },
  {
   "cell_type": "code",
   "execution_count": null,
   "metadata": {},
   "outputs": [],
   "source": [
    "#flus.head()"
   ]
  },
  {
   "cell_type": "code",
   "execution_count": null,
   "metadata": {},
   "outputs": [],
   "source": [
    "#flus[\"type\"]=flus.apply(lambda x: np.where(x, x.name, 0)) #maps trues to values\n",
    "#flus['type']=flus.type.apply(lambda x: np.where(x, 'pandemic', 0)) "
   ]
  },
  {
   "cell_type": "code",
   "execution_count": null,
   "metadata": {},
   "outputs": [],
   "source": [
    "#flus.head"
   ]
  },
  {
   "cell_type": "code",
   "execution_count": null,
   "metadata": {},
   "outputs": [],
   "source": []
  },
  {
   "cell_type": "code",
   "execution_count": null,
   "metadata": {},
   "outputs": [],
   "source": []
  },
  {
   "cell_type": "code",
   "execution_count": null,
   "metadata": {},
   "outputs": [],
   "source": [
    "# from sklearn.feature_extraction.text import CountVectorizer\n",
    "\n",
    "# # Initialize and fit CountVectorizer with given text documents\n",
    "# vectorizer = CountVectorizer(analyzer='char').fit(flu['Type/Subtype'])\n",
    "\n",
    "# # use the vectorizer to transform the document into word count vectors (Sparse)\n",
    "# words = vectorizer.transform(trial)"
   ]
  },
  {
   "cell_type": "code",
   "execution_count": null,
   "metadata": {},
   "outputs": [],
   "source": [
    "# ps=mod.predict(words)\n",
    "\n",
    "# #transform labels back to text\n",
    "# preS= labelencoderF.inverse_transform(ps)\n",
    "# # preS"
   ]
  },
  {
   "cell_type": "code",
   "execution_count": null,
   "metadata": {},
   "outputs": [],
   "source": [
    "# from sklearn.metrics import confusion_matrix\n",
    "# mrS = confusion_matrix(words, ps)\n",
    "# # Creating a dataframe for a array-formatted Confusion matrix,so it will be easy for plotting.\n",
    "# cmS = pd.DataFrame(mrS)\n",
    "# import seaborn as sns\n",
    "# import numpy as np\n",
    "# #Plotting the confusion matrix\n",
    "# plt.figure(figsize=(10,6))\n",
    "# sns.heatmap(cmS/np.sum(cmS), annot=True, cmap='Greens', fmt='.2%')\n",
    "# plt.title('Confusion Matrix')\n",
    "# plt.ylabel('Actual Values')\n",
    "# plt.xlabel('Predicted Values')\n",
    "# plt.show()"
   ]
  },
  {
   "cell_type": "markdown",
   "metadata": {},
   "source": [
    "#make class predictions\n",
    "predm = mod.predict(x_test)### Resources/ References\n",
    "* Data: [Australian Government](https://www1.health.gov.au/internet/main/publishing.nsf/Content/ohp-pub-datasets.htm)"
   ]
  },
  {
   "cell_type": "code",
   "execution_count": null,
   "metadata": {},
   "outputs": [],
   "source": []
  }
 ],
 "metadata": {
  "kernelspec": {
   "display_name": "Python 3 (ipykernel)",
   "language": "python",
   "name": "python3"
  },
  "language_info": {
   "codemirror_mode": {
    "name": "ipython",
    "version": 3
   },
   "file_extension": ".py",
   "mimetype": "text/x-python",
   "name": "python",
   "nbconvert_exporter": "python",
   "pygments_lexer": "ipython3",
   "version": "3.9.7"
  }
 },
 "nbformat": 4,
 "nbformat_minor": 4
}
