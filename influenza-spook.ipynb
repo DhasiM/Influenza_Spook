{
 "cells": [
  {
   "cell_type": "code",
   "execution_count": 1,
   "id": "765bd74d",
   "metadata": {
    "execution": {
     "iopub.execute_input": "2022-05-01T18:40:12.081457Z",
     "iopub.status.busy": "2022-05-01T18:40:12.080875Z",
     "iopub.status.idle": "2022-05-01T18:40:12.090729Z",
     "shell.execute_reply": "2022-05-01T18:40:12.089787Z"
    },
    "papermill": {
     "duration": 0.088921,
     "end_time": "2022-05-01T18:40:12.093385",
     "exception": false,
     "start_time": "2022-05-01T18:40:12.004464",
     "status": "completed"
    },
    "tags": []
   },
   "outputs": [],
   "source": [
    "import warnings\n",
    "import pickle\n",
    "warnings.filterwarnings(action='ignore')"
   ]
  },
  {
   "cell_type": "markdown",
   "id": "e990197e",
   "metadata": {
    "papermill": {
     "duration": 0.069,
     "end_time": "2022-05-01T18:40:12.232555",
     "exception": false,
     "start_time": "2022-05-01T18:40:12.163555",
     "status": "completed"
    },
    "tags": []
   },
   "source": [
    "# Influenza Type Classifer"
   ]
  },
  {
   "cell_type": "code",
   "execution_count": 2,
   "id": "d7f1fcfd",
   "metadata": {
    "execution": {
     "iopub.execute_input": "2022-05-01T18:40:12.374411Z",
     "iopub.status.busy": "2022-05-01T18:40:12.374095Z",
     "iopub.status.idle": "2022-05-01T18:40:13.844380Z",
     "shell.execute_reply": "2022-05-01T18:40:13.843649Z"
    },
    "papermill": {
     "duration": 1.543433,
     "end_time": "2022-05-01T18:40:13.846461",
     "exception": false,
     "start_time": "2022-05-01T18:40:12.303028",
     "status": "completed"
    },
    "tags": []
   },
   "outputs": [
    {
     "data": {
      "text/html": [
       "<div>\n",
       "<style scoped>\n",
       "    .dataframe tbody tr th:only-of-type {\n",
       "        vertical-align: middle;\n",
       "    }\n",
       "\n",
       "    .dataframe tbody tr th {\n",
       "        vertical-align: top;\n",
       "    }\n",
       "\n",
       "    .dataframe thead th {\n",
       "        text-align: right;\n",
       "    }\n",
       "</style>\n",
       "<table border=\"1\" class=\"dataframe\">\n",
       "  <thead>\n",
       "    <tr style=\"text-align: right;\">\n",
       "      <th></th>\n",
       "      <th>Week Ending (Friday)</th>\n",
       "      <th>State</th>\n",
       "      <th>Age  group</th>\n",
       "      <th>Sex</th>\n",
       "      <th>Indigenous status</th>\n",
       "      <th>Type/Subtype</th>\n",
       "    </tr>\n",
       "  </thead>\n",
       "  <tbody>\n",
       "    <tr>\n",
       "      <th>0</th>\n",
       "      <td>03/01/2014</td>\n",
       "      <td>NSW</td>\n",
       "      <td>35-39</td>\n",
       "      <td>Female</td>\n",
       "      <td>not available</td>\n",
       "      <td>A(H3N2)</td>\n",
       "    </tr>\n",
       "    <tr>\n",
       "      <th>1</th>\n",
       "      <td>03/01/2014</td>\n",
       "      <td>NSW</td>\n",
       "      <td>80-84</td>\n",
       "      <td>Female</td>\n",
       "      <td>not available</td>\n",
       "      <td>A(unsubtyped)</td>\n",
       "    </tr>\n",
       "    <tr>\n",
       "      <th>2</th>\n",
       "      <td>03/01/2014</td>\n",
       "      <td>NSW</td>\n",
       "      <td>80-84</td>\n",
       "      <td>Male</td>\n",
       "      <td>not available</td>\n",
       "      <td>A(unsubtyped)</td>\n",
       "    </tr>\n",
       "    <tr>\n",
       "      <th>3</th>\n",
       "      <td>03/01/2014</td>\n",
       "      <td>NSW</td>\n",
       "      <td>85+</td>\n",
       "      <td>Female</td>\n",
       "      <td>not available</td>\n",
       "      <td>A(H3N2)</td>\n",
       "    </tr>\n",
       "    <tr>\n",
       "      <th>4</th>\n",
       "      <td>03/01/2014</td>\n",
       "      <td>NT</td>\n",
       "      <td>00-04</td>\n",
       "      <td>Male</td>\n",
       "      <td>non-Indigenous</td>\n",
       "      <td>B</td>\n",
       "    </tr>\n",
       "  </tbody>\n",
       "</table>\n",
       "</div>"
      ],
      "text/plain": [
       "  Week Ending (Friday) State Age  group     Sex Indigenous status  \\\n",
       "0           03/01/2014   NSW      35-39  Female     not available   \n",
       "1           03/01/2014   NSW      80-84  Female     not available   \n",
       "2           03/01/2014   NSW      80-84    Male     not available   \n",
       "3           03/01/2014   NSW        85+  Female     not available   \n",
       "4           03/01/2014    NT      00-04    Male    non-Indigenous   \n",
       "\n",
       "    Type/Subtype  \n",
       "0        A(H3N2)  \n",
       "1  A(unsubtyped)  \n",
       "2  A(unsubtyped)  \n",
       "3        A(H3N2)  \n",
       "4              B  "
      ]
     },
     "execution_count": 2,
     "metadata": {},
     "output_type": "execute_result"
    }
   ],
   "source": [
    "import pandas as pd\n",
    "df1=pd.read_csv(\"../input/flureports/lab flu confirmed 2008-2013.csv\")\n",
    "df2 =pd.read_csv(\"../input/flureports/lab flu confirmed 2014 - 2019.csv\")\n",
    "\n",
    "df1= df1.iloc[:, 0:6]\n",
    "df1.head()"
   ]
  },
  {
   "cell_type": "code",
   "execution_count": 3,
   "id": "62cc1572",
   "metadata": {
    "execution": {
     "iopub.execute_input": "2022-05-01T18:40:13.991410Z",
     "iopub.status.busy": "2022-05-01T18:40:13.991103Z",
     "iopub.status.idle": "2022-05-01T18:40:14.061061Z",
     "shell.execute_reply": "2022-05-01T18:40:14.060366Z"
    },
    "papermill": {
     "duration": 0.144776,
     "end_time": "2022-05-01T18:40:14.063115",
     "exception": false,
     "start_time": "2022-05-01T18:40:13.918339",
     "status": "completed"
    },
    "tags": []
   },
   "outputs": [
    {
     "data": {
      "text/html": [
       "<div>\n",
       "<style scoped>\n",
       "    .dataframe tbody tr th:only-of-type {\n",
       "        vertical-align: middle;\n",
       "    }\n",
       "\n",
       "    .dataframe tbody tr th {\n",
       "        vertical-align: top;\n",
       "    }\n",
       "\n",
       "    .dataframe thead th {\n",
       "        text-align: right;\n",
       "    }\n",
       "</style>\n",
       "<table border=\"1\" class=\"dataframe\">\n",
       "  <thead>\n",
       "    <tr style=\"text-align: right;\">\n",
       "      <th></th>\n",
       "      <th>Week Ending (Friday)</th>\n",
       "      <th>State</th>\n",
       "      <th>Age  group</th>\n",
       "      <th>Sex</th>\n",
       "      <th>Indigenous status</th>\n",
       "      <th>Type/Subtype</th>\n",
       "    </tr>\n",
       "  </thead>\n",
       "  <tbody>\n",
       "    <tr>\n",
       "      <th>0</th>\n",
       "      <td>03/01/2020</td>\n",
       "      <td>NSW</td>\n",
       "      <td>00-04</td>\n",
       "      <td>Female</td>\n",
       "      <td>not available</td>\n",
       "      <td>A(H1N1)pdm09</td>\n",
       "    </tr>\n",
       "    <tr>\n",
       "      <th>1</th>\n",
       "      <td>03/01/2020</td>\n",
       "      <td>NSW</td>\n",
       "      <td>00-04</td>\n",
       "      <td>Female</td>\n",
       "      <td>not available</td>\n",
       "      <td>A(unsubtyped)</td>\n",
       "    </tr>\n",
       "    <tr>\n",
       "      <th>2</th>\n",
       "      <td>03/01/2020</td>\n",
       "      <td>NSW</td>\n",
       "      <td>00-04</td>\n",
       "      <td>Female</td>\n",
       "      <td>not available</td>\n",
       "      <td>A(unsubtyped)</td>\n",
       "    </tr>\n",
       "    <tr>\n",
       "      <th>3</th>\n",
       "      <td>03/01/2020</td>\n",
       "      <td>NSW</td>\n",
       "      <td>00-04</td>\n",
       "      <td>Male</td>\n",
       "      <td>not available</td>\n",
       "      <td>A(unsubtyped)</td>\n",
       "    </tr>\n",
       "    <tr>\n",
       "      <th>4</th>\n",
       "      <td>03/01/2020</td>\n",
       "      <td>NSW</td>\n",
       "      <td>00-04</td>\n",
       "      <td>Male</td>\n",
       "      <td>not available</td>\n",
       "      <td>A(unsubtyped)</td>\n",
       "    </tr>\n",
       "  </tbody>\n",
       "</table>\n",
       "</div>"
      ],
      "text/plain": [
       "  Week Ending (Friday) State Age  group     Sex Indigenous status  \\\n",
       "0           03/01/2020   NSW      00-04  Female     not available   \n",
       "1           03/01/2020   NSW      00-04  Female     not available   \n",
       "2           03/01/2020   NSW      00-04  Female     not available   \n",
       "3           03/01/2020   NSW      00-04    Male     not available   \n",
       "4           03/01/2020   NSW      00-04    Male     not available   \n",
       "\n",
       "    Type/Subtype  \n",
       "0   A(H1N1)pdm09  \n",
       "1  A(unsubtyped)  \n",
       "2  A(unsubtyped)  \n",
       "3  A(unsubtyped)  \n",
       "4  A(unsubtyped)  "
      ]
     },
     "execution_count": 3,
     "metadata": {},
     "output_type": "execute_result"
    }
   ],
   "source": [
    "df2= df2.iloc[:, 0:6]\n",
    "df2.head()"
   ]
  },
  {
   "cell_type": "code",
   "execution_count": 4,
   "id": "88164369",
   "metadata": {
    "execution": {
     "iopub.execute_input": "2022-05-01T18:40:14.208847Z",
     "iopub.status.busy": "2022-05-01T18:40:14.208324Z",
     "iopub.status.idle": "2022-05-01T18:40:14.310310Z",
     "shell.execute_reply": "2022-05-01T18:40:14.309748Z"
    },
    "papermill": {
     "duration": 0.177485,
     "end_time": "2022-05-01T18:40:14.312804",
     "exception": false,
     "start_time": "2022-05-01T18:40:14.135319",
     "status": "completed"
    },
    "tags": []
   },
   "outputs": [
    {
     "name": "stdout",
     "output_type": "stream",
     "text": [
      "1049869\n"
     ]
    }
   ],
   "source": [
    "#put the two df's together\n",
    "df = pd.concat([df2, df1], axis=0)\n",
    "df.head()\n",
    "print(len(df))"
   ]
  },
  {
   "cell_type": "code",
   "execution_count": 5,
   "id": "fccb8ff9",
   "metadata": {
    "execution": {
     "iopub.execute_input": "2022-05-01T18:40:14.459829Z",
     "iopub.status.busy": "2022-05-01T18:40:14.459303Z",
     "iopub.status.idle": "2022-05-01T18:40:14.557613Z",
     "shell.execute_reply": "2022-05-01T18:40:14.556720Z"
    },
    "papermill": {
     "duration": 0.174748,
     "end_time": "2022-05-01T18:40:14.559820",
     "exception": false,
     "start_time": "2022-05-01T18:40:14.385072",
     "status": "completed"
    },
    "tags": []
   },
   "outputs": [
    {
     "name": "stdout",
     "output_type": "stream",
     "text": [
      "['A(H1N1)pdm09' 'A(unsubtyped)' 'B' 'A(H3N2)' 'A and B' 'Untyped' 'C'\n",
      " 'A(H1N1)']\n"
     ]
    }
   ],
   "source": [
    "# create labels\n",
    "flu_types= df['Type/Subtype'].unique()\n",
    "print(flu_types)"
   ]
  },
  {
   "cell_type": "code",
   "execution_count": 6,
   "id": "b0bd1d5b",
   "metadata": {
    "execution": {
     "iopub.execute_input": "2022-05-01T18:40:14.708744Z",
     "iopub.status.busy": "2022-05-01T18:40:14.708450Z",
     "iopub.status.idle": "2022-05-01T18:40:14.712636Z",
     "shell.execute_reply": "2022-05-01T18:40:14.711965Z"
    },
    "papermill": {
     "duration": 0.08024,
     "end_time": "2022-05-01T18:40:14.714460",
     "exception": false,
     "start_time": "2022-05-01T18:40:14.634220",
     "status": "completed"
    },
    "tags": []
   },
   "outputs": [],
   "source": [
    "risk = ['pandemic_H1', 'pandemic_unknown', 'seasonal', 'pandemic_H3', 'seasonal_mixed', 'unknown', 'low_risk', 'pre-pandemic']"
   ]
  },
  {
   "cell_type": "code",
   "execution_count": 7,
   "id": "ece8e4b9",
   "metadata": {
    "execution": {
     "iopub.execute_input": "2022-05-01T18:40:14.860011Z",
     "iopub.status.busy": "2022-05-01T18:40:14.859469Z",
     "iopub.status.idle": "2022-05-01T18:40:14.864508Z",
     "shell.execute_reply": "2022-05-01T18:40:14.863127Z"
    },
    "papermill": {
     "duration": 0.079832,
     "end_time": "2022-05-01T18:40:14.866579",
     "exception": false,
     "start_time": "2022-05-01T18:40:14.786747",
     "status": "completed"
    },
    "tags": []
   },
   "outputs": [
    {
     "name": "stdout",
     "output_type": "stream",
     "text": [
      "{'A(H1N1)pdm09': 'pandemic_H1', 'A(unsubtyped)': 'pandemic_unknown', 'B': 'seasonal', 'A(H3N2)': 'pandemic_H3', 'A and B': 'seasonal_mixed', 'Untyped': 'unknown', 'C': 'low_risk', 'A(H1N1)': 'pre-pandemic'}\n"
     ]
    }
   ],
   "source": [
    "#create dictionary\n",
    "risk_dict= dict(zip(flu_types, risk))\n",
    "print(risk_dict)"
   ]
  },
  {
   "cell_type": "code",
   "execution_count": 8,
   "id": "b248c055",
   "metadata": {
    "execution": {
     "iopub.execute_input": "2022-05-01T18:40:15.015061Z",
     "iopub.status.busy": "2022-05-01T18:40:15.014314Z",
     "iopub.status.idle": "2022-05-01T18:40:15.893069Z",
     "shell.execute_reply": "2022-05-01T18:40:15.892150Z"
    },
    "papermill": {
     "duration": 0.955275,
     "end_time": "2022-05-01T18:40:15.895148",
     "exception": false,
     "start_time": "2022-05-01T18:40:14.939873",
     "status": "completed"
    },
    "tags": []
   },
   "outputs": [
    {
     "data": {
      "text/html": [
       "<div>\n",
       "<style scoped>\n",
       "    .dataframe tbody tr th:only-of-type {\n",
       "        vertical-align: middle;\n",
       "    }\n",
       "\n",
       "    .dataframe tbody tr th {\n",
       "        vertical-align: top;\n",
       "    }\n",
       "\n",
       "    .dataframe thead th {\n",
       "        text-align: right;\n",
       "    }\n",
       "</style>\n",
       "<table border=\"1\" class=\"dataframe\">\n",
       "  <thead>\n",
       "    <tr style=\"text-align: right;\">\n",
       "      <th></th>\n",
       "      <th>Week Ending (Friday)</th>\n",
       "      <th>State</th>\n",
       "      <th>Age  group</th>\n",
       "      <th>Sex</th>\n",
       "      <th>Indigenous status</th>\n",
       "      <th>Type/Subtype</th>\n",
       "      <th>Class</th>\n",
       "    </tr>\n",
       "  </thead>\n",
       "  <tbody>\n",
       "    <tr>\n",
       "      <th>0</th>\n",
       "      <td>03/01/2020</td>\n",
       "      <td>NSW</td>\n",
       "      <td>00-04</td>\n",
       "      <td>Female</td>\n",
       "      <td>not available</td>\n",
       "      <td>A(H1N1)pdm09</td>\n",
       "      <td>pandemic_H1</td>\n",
       "    </tr>\n",
       "    <tr>\n",
       "      <th>1</th>\n",
       "      <td>03/01/2020</td>\n",
       "      <td>NSW</td>\n",
       "      <td>00-04</td>\n",
       "      <td>Female</td>\n",
       "      <td>not available</td>\n",
       "      <td>A(unsubtyped)</td>\n",
       "      <td>pandemic_unknown</td>\n",
       "    </tr>\n",
       "    <tr>\n",
       "      <th>2</th>\n",
       "      <td>03/01/2020</td>\n",
       "      <td>NSW</td>\n",
       "      <td>00-04</td>\n",
       "      <td>Female</td>\n",
       "      <td>not available</td>\n",
       "      <td>A(unsubtyped)</td>\n",
       "      <td>pandemic_unknown</td>\n",
       "    </tr>\n",
       "    <tr>\n",
       "      <th>3</th>\n",
       "      <td>03/01/2020</td>\n",
       "      <td>NSW</td>\n",
       "      <td>00-04</td>\n",
       "      <td>Male</td>\n",
       "      <td>not available</td>\n",
       "      <td>A(unsubtyped)</td>\n",
       "      <td>pandemic_unknown</td>\n",
       "    </tr>\n",
       "    <tr>\n",
       "      <th>4</th>\n",
       "      <td>03/01/2020</td>\n",
       "      <td>NSW</td>\n",
       "      <td>00-04</td>\n",
       "      <td>Male</td>\n",
       "      <td>not available</td>\n",
       "      <td>A(unsubtyped)</td>\n",
       "      <td>pandemic_unknown</td>\n",
       "    </tr>\n",
       "  </tbody>\n",
       "</table>\n",
       "</div>"
      ],
      "text/plain": [
       "  Week Ending (Friday) State Age  group     Sex Indigenous status  \\\n",
       "0           03/01/2020   NSW      00-04  Female     not available   \n",
       "1           03/01/2020   NSW      00-04  Female     not available   \n",
       "2           03/01/2020   NSW      00-04  Female     not available   \n",
       "3           03/01/2020   NSW      00-04    Male     not available   \n",
       "4           03/01/2020   NSW      00-04    Male     not available   \n",
       "\n",
       "    Type/Subtype             Class  \n",
       "0   A(H1N1)pdm09       pandemic_H1  \n",
       "1  A(unsubtyped)  pandemic_unknown  \n",
       "2  A(unsubtyped)  pandemic_unknown  \n",
       "3  A(unsubtyped)  pandemic_unknown  \n",
       "4  A(unsubtyped)  pandemic_unknown  "
      ]
     },
     "execution_count": 8,
     "metadata": {},
     "output_type": "execute_result"
    }
   ],
   "source": [
    "#replace class column with classification\n",
    "df['Class'] = df['Type/Subtype']\n",
    "df.head()\n",
    "flu=df.replace({\"Class\": risk_dict})\n",
    "flu.head()"
   ]
  },
  {
   "cell_type": "code",
   "execution_count": 9,
   "id": "bc3628a3",
   "metadata": {
    "execution": {
     "iopub.execute_input": "2022-05-01T18:40:16.044630Z",
     "iopub.status.busy": "2022-05-01T18:40:16.044341Z",
     "iopub.status.idle": "2022-05-01T18:40:16.828342Z",
     "shell.execute_reply": "2022-05-01T18:40:16.827445Z"
    },
    "papermill": {
     "duration": 0.861736,
     "end_time": "2022-05-01T18:40:16.830607",
     "exception": false,
     "start_time": "2022-05-01T18:40:15.968871",
     "status": "completed"
    },
    "tags": []
   },
   "outputs": [
    {
     "name": "stdout",
     "output_type": "stream",
     "text": [
      "<class 'pandas.core.frame.DataFrame'>\n",
      "Int64Index: 1049869 entries, 0 to 178631\n",
      "Data columns (total 7 columns):\n",
      " #   Column                Non-Null Count    Dtype \n",
      "---  ------                --------------    ----- \n",
      " 0   Week Ending (Friday)  1049869 non-null  object\n",
      " 1   State                 1049869 non-null  object\n",
      " 2   Age  group            1049869 non-null  object\n",
      " 3   Sex                   1049869 non-null  object\n",
      " 4   Indigenous status     1049869 non-null  object\n",
      " 5   Type/Subtype          1049869 non-null  object\n",
      " 6   Class                 1049869 non-null  object\n",
      "dtypes: object(7)\n",
      "memory usage: 64.1+ MB\n"
     ]
    }
   ],
   "source": [
    "flu.info()"
   ]
  },
  {
   "cell_type": "code",
   "execution_count": 10,
   "id": "c4772358",
   "metadata": {
    "execution": {
     "iopub.execute_input": "2022-05-01T18:40:16.986325Z",
     "iopub.status.busy": "2022-05-01T18:40:16.986055Z",
     "iopub.status.idle": "2022-05-01T18:40:17.470755Z",
     "shell.execute_reply": "2022-05-01T18:40:17.470159Z"
    },
    "papermill": {
     "duration": 0.564008,
     "end_time": "2022-05-01T18:40:17.472614",
     "exception": false,
     "start_time": "2022-05-01T18:40:16.908606",
     "status": "completed"
    },
    "tags": []
   },
   "outputs": [
    {
     "data": {
      "image/png": "[encoded data removed]",
      "text/plain": [
       "<Figure size 432x288 with 1 Axes>"
      ]
     },
     "metadata": {
      "needs_background": "light"
     },
     "output_type": "display_data"
    }
   ],
   "source": [
    "# Label frequency\n",
    "import matplotlib.pyplot as plt\n",
    "fig, ax = plt.subplots()\n",
    "fig.suptitle(\"Class Representation\", fontsize=12)\n",
    "flu[\"Class\"].reset_index().groupby(\"Class\").count().sort_values(by= \n",
    "       \"index\").plot(kind=\"barh\", legend=False, \n",
    "        ax=ax).grid(axis='x')\n",
    "plt.show()"
   ]
  },
  {
   "cell_type": "code",
   "execution_count": null,
   "id": "c31f3b2e",
   "metadata": {
    "papermill": {
     "duration": 0.073846,
     "end_time": "2022-05-01T18:40:17.620264",
     "exception": false,
     "start_time": "2022-05-01T18:40:17.546418",
     "status": "completed"
    },
    "tags": []
   },
   "outputs": [],
   "source": []
  },
  {
   "cell_type": "markdown",
   "id": "50f30f60",
   "metadata": {
    "papermill": {
     "duration": 0.073851,
     "end_time": "2022-05-01T18:40:17.768561",
     "exception": false,
     "start_time": "2022-05-01T18:40:17.694710",
     "status": "completed"
    },
    "tags": []
   },
   "source": [
    "# Pre-processing for Text Classification"
   ]
  },
  {
   "cell_type": "code",
   "execution_count": 11,
   "id": "cde7c1f3",
   "metadata": {
    "execution": {
     "iopub.execute_input": "2022-05-01T18:40:17.920027Z",
     "iopub.status.busy": "2022-05-01T18:40:17.919251Z",
     "iopub.status.idle": "2022-05-01T18:40:38.565684Z",
     "shell.execute_reply": "2022-05-01T18:40:38.565026Z"
    },
    "papermill": {
     "duration": 20.724835,
     "end_time": "2022-05-01T18:40:38.568026",
     "exception": false,
     "start_time": "2022-05-01T18:40:17.843191",
     "status": "completed"
    },
    "tags": []
   },
   "outputs": [],
   "source": [
    "from sklearn.feature_extraction.text import CountVectorizer\n",
    "\n",
    "# Initialize and fit CountVectorizer with given text documents\n",
    "vectorizer = CountVectorizer(analyzer='char').fit(flu['Type/Subtype'])\n",
    "\n",
    "# use the vectorizer to transform the document into word count vectors (Sparse)\n",
    "word_mat = vectorizer.transform(flu['Type/Subtype'])"
   ]
  },
  {
   "cell_type": "code",
   "execution_count": 12,
   "id": "125b5984",
   "metadata": {
    "execution": {
     "iopub.execute_input": "2022-05-01T18:40:38.724279Z",
     "iopub.status.busy": "2022-05-01T18:40:38.723392Z",
     "iopub.status.idle": "2022-05-01T18:40:39.008752Z",
     "shell.execute_reply": "2022-05-01T18:40:39.007798Z"
    },
    "papermill": {
     "duration": 0.362812,
     "end_time": "2022-05-01T18:40:39.011358",
     "exception": false,
     "start_time": "2022-05-01T18:40:38.648546",
     "status": "completed"
    },
    "tags": []
   },
   "outputs": [],
   "source": [
    "from sklearn.preprocessing import LabelEncoder\n",
    "# creating instance of labelencoder\n",
    "labelencoderF = LabelEncoder()\n",
    "# using the encoder to encode the categorical columns\n",
    "y = labelencoderF.fit_transform(flu['Class'])"
   ]
  },
  {
   "cell_type": "markdown",
   "id": "ac940ed0",
   "metadata": {
    "papermill": {
     "duration": 0.073453,
     "end_time": "2022-05-01T18:40:39.159197",
     "exception": false,
     "start_time": "2022-05-01T18:40:39.085744",
     "status": "completed"
    },
    "tags": []
   },
   "source": [
    "## Split Data"
   ]
  },
  {
   "cell_type": "code",
   "execution_count": 13,
   "id": "86a54686",
   "metadata": {
    "execution": {
     "iopub.execute_input": "2022-05-01T18:40:39.311526Z",
     "iopub.status.busy": "2022-05-01T18:40:39.311209Z",
     "iopub.status.idle": "2022-05-01T18:40:39.569416Z",
     "shell.execute_reply": "2022-05-01T18:40:39.568534Z"
    },
    "papermill": {
     "duration": 0.336434,
     "end_time": "2022-05-01T18:40:39.571825",
     "exception": false,
     "start_time": "2022-05-01T18:40:39.235391",
     "status": "completed"
    },
    "tags": []
   },
   "outputs": [],
   "source": [
    "from sklearn.model_selection import train_test_split\n",
    "\n",
    "x_train, x_test, y_train, y_test = train_test_split(word_mat, y, test_size=0.3)"
   ]
  },
  {
   "cell_type": "markdown",
   "id": "4cb237ec",
   "metadata": {
    "papermill": {
     "duration": 0.073451,
     "end_time": "2022-05-01T18:40:39.719814",
     "exception": false,
     "start_time": "2022-05-01T18:40:39.646363",
     "status": "completed"
    },
    "tags": []
   },
   "source": [
    "# Modeling\n",
    "### Training"
   ]
  },
  {
   "cell_type": "code",
   "execution_count": 14,
   "id": "895df469",
   "metadata": {
    "execution": {
     "iopub.execute_input": "2022-05-01T18:40:39.870458Z",
     "iopub.status.busy": "2022-05-01T18:40:39.869770Z",
     "iopub.status.idle": "2022-05-01T18:41:26.456576Z",
     "shell.execute_reply": "2022-05-01T18:41:26.455631Z"
    },
    "papermill": {
     "duration": 46.735839,
     "end_time": "2022-05-01T18:41:26.530679",
     "exception": false,
     "start_time": "2022-05-01T18:40:39.794840",
     "status": "completed"
    },
    "tags": []
   },
   "outputs": [
    {
     "data": {
      "text/plain": [
       "LogisticRegression()"
      ]
     },
     "execution_count": 14,
     "metadata": {},
     "output_type": "execute_result"
    }
   ],
   "source": [
    "# Model Training\n",
    "from sklearn.naive_bayes import MultinomialNB\n",
    "\n",
    "from sklearn.linear_model import LogisticRegression\n",
    "# instantiate the model as clf(classifier) and train it\n",
    "clf = MultinomialNB()\n",
    "clf.fit(x_train, y_train)\n",
    "\n",
    "mod = LogisticRegression()\n",
    "mod.fit(x_train, y_train)\n"
   ]
  },
  {
   "cell_type": "markdown",
   "id": "290fe5a5",
   "metadata": {
    "papermill": {
     "duration": 0.076584,
     "end_time": "2022-05-01T18:41:26.681156",
     "exception": false,
     "start_time": "2022-05-01T18:41:26.604572",
     "status": "completed"
    },
    "tags": []
   },
   "source": [
    "## Prediction / Evaluation"
   ]
  },
  {
   "cell_type": "code",
   "execution_count": 15,
   "id": "d2066db8",
   "metadata": {
    "execution": {
     "iopub.execute_input": "2022-05-01T18:41:26.832841Z",
     "iopub.status.busy": "2022-05-01T18:41:26.832238Z",
     "iopub.status.idle": "2022-05-01T18:41:26.941105Z",
     "shell.execute_reply": "2022-05-01T18:41:26.940289Z"
    },
    "papermill": {
     "duration": 0.187733,
     "end_time": "2022-05-01T18:41:26.943223",
     "exception": false,
     "start_time": "2022-05-01T18:41:26.755490",
     "status": "completed"
    },
    "tags": []
   },
   "outputs": [
    {
     "data": {
      "text/plain": [
       "array(['pandemic_unknown', 'seasonal', 'pandemic_H3', ...,\n",
       "       'pandemic_unknown', 'seasonal', 'seasonal'], dtype=object)"
      ]
     },
     "execution_count": 15,
     "metadata": {},
     "output_type": "execute_result"
    }
   ],
   "source": [
    "#make class predictions\n",
    "pred = clf.predict(x_test)\n",
    "#transform labels back to text\n",
    "preds = labelencoderF.inverse_transform(pred)\n",
    "preds\n",
    "\n",
    "#make class predictions\n",
    "predm = mod.predict(x_test)\n",
    "#transform labels back to text\n",
    "predsm = labelencoderF.inverse_transform(predm)\n",
    "predsm"
   ]
  },
  {
   "cell_type": "code",
   "execution_count": 16,
   "id": "0b0ebf65",
   "metadata": {
    "execution": {
     "iopub.execute_input": "2022-05-01T18:41:27.095536Z",
     "iopub.status.busy": "2022-05-01T18:41:27.094976Z",
     "iopub.status.idle": "2022-05-01T18:41:27.122598Z",
     "shell.execute_reply": "2022-05-01T18:41:27.121720Z"
    },
    "papermill": {
     "duration": 0.1055,
     "end_time": "2022-05-01T18:41:27.124676",
     "exception": false,
     "start_time": "2022-05-01T18:41:27.019176",
     "status": "completed"
    },
    "tags": []
   },
   "outputs": [
    {
     "data": {
      "text/plain": [
       "array(['pandemic_unknown', 'seasonal', 'pandemic_H3', ...,\n",
       "       'pandemic_unknown', 'seasonal', 'seasonal'], dtype=object)"
      ]
     },
     "execution_count": 16,
     "metadata": {},
     "output_type": "execute_result"
    }
   ],
   "source": [
    "#Transform test target back to text\n",
    "yt= labelencoderF.inverse_transform(y_test)\n",
    "yt\n",
    "ytm= labelencoderF.inverse_transform(y_test)\n",
    "yt"
   ]
  },
  {
   "cell_type": "code",
   "execution_count": 17,
   "id": "e6da9d96",
   "metadata": {
    "execution": {
     "iopub.execute_input": "2022-05-01T18:41:27.275899Z",
     "iopub.status.busy": "2022-05-01T18:41:27.275334Z",
     "iopub.status.idle": "2022-05-01T18:41:31.786244Z",
     "shell.execute_reply": "2022-05-01T18:41:31.785336Z"
    },
    "papermill": {
     "duration": 4.589393,
     "end_time": "2022-05-01T18:41:31.788644",
     "exception": false,
     "start_time": "2022-05-01T18:41:27.199251",
     "status": "completed"
    },
    "tags": []
   },
   "outputs": [],
   "source": [
    "# confusiong matrix\n",
    "# Creating  a confusion matrix,which compares the y_test and y_pred\n",
    "from sklearn.metrics import confusion_matrix\n",
    "cm = confusion_matrix(yt, preds)\n",
    "\n",
    "cm2 = confusion_matrix(ytm, predsm)\n"
   ]
  },
  {
   "cell_type": "code",
   "execution_count": 18,
   "id": "134cc56f",
   "metadata": {
    "execution": {
     "iopub.execute_input": "2022-05-01T18:41:31.944587Z",
     "iopub.status.busy": "2022-05-01T18:41:31.944260Z",
     "iopub.status.idle": "2022-05-01T18:41:31.951310Z",
     "shell.execute_reply": "2022-05-01T18:41:31.950427Z"
    },
    "papermill": {
     "duration": 0.086139,
     "end_time": "2022-05-01T18:41:31.953172",
     "exception": false,
     "start_time": "2022-05-01T18:41:31.867033",
     "status": "completed"
    },
    "tags": []
   },
   "outputs": [],
   "source": [
    "# Creating a dataframe for a array-formatted Confusion matrix,so it will be easy for plotting.\n",
    "cm_df = pd.DataFrame(cm,\n",
    "                     index = ['pandemic_H1', 'pandemic_unknown', 'seasonal', 'pandemic_H3', 'seasonal_mixed', 'unknown', 'low_risk', 'pre-pandemic'], \n",
    "                     columns = ['pandemic_H1', 'pandemic_unknown', 'seasonal', 'pandemic_H3', 'seasonal_mixed', 'unknown', 'low_risk', 'pre-pandemic'])\n",
    "\n",
    "\n",
    "cm_df2 = pd.DataFrame(cm2,\n",
    "                     index = ['pandemic_H1', 'pandemic_unknown', 'seasonal', 'pandemic_H3', 'seasonal_mixed', 'unknown', 'low_risk', 'pre-pandemic'], \n",
    "                     columns = ['pandemic_H1', 'pandemic_unknown', 'seasonal', 'pandemic_H3', 'seasonal_mixed', 'unknown', 'low_risk', 'pre-pandemic'])"
   ]
  },
  {
   "cell_type": "code",
   "execution_count": 19,
   "id": "52555dd8",
   "metadata": {
    "execution": {
     "iopub.execute_input": "2022-05-01T18:41:32.108293Z",
     "iopub.status.busy": "2022-05-01T18:41:32.108033Z",
     "iopub.status.idle": "2022-05-01T18:41:32.818479Z",
     "shell.execute_reply": "2022-05-01T18:41:32.817792Z"
    },
    "papermill": {
     "duration": 0.790178,
     "end_time": "2022-05-01T18:41:32.820558",
     "exception": false,
     "start_time": "2022-05-01T18:41:32.030380",
     "status": "completed"
    },
    "tags": []
   },
   "outputs": [
    {
     "data": {
      "image/png": "[encoded data removed]",
      "text/plain": [
       "<Figure size 720x432 with 2 Axes>"
      ]
     },
     "metadata": {
      "needs_background": "light"
     },
     "output_type": "display_data"
    }
   ],
   "source": [
    "import seaborn as sns\n",
    "import numpy as np\n",
    "#Plotting the confusion matrix of Multinomial Bayes\n",
    "plt.figure(figsize=(10,6))\n",
    "sns.heatmap(cm_df/np.sum(cm_df), annot=True, cmap='Blues', fmt='.2%')\n",
    "plt.title('Confusion Matrix')\n",
    "plt.ylabel('Actal Values')\n",
    "plt.xlabel('Predicted Values')\n",
    "plt.show()"
   ]
  },
  {
   "cell_type": "code",
   "execution_count": 20,
   "id": "73d68ce6",
   "metadata": {
    "execution": {
     "iopub.execute_input": "2022-05-01T18:41:32.976824Z",
     "iopub.status.busy": "2022-05-01T18:41:32.975916Z",
     "iopub.status.idle": "2022-05-01T18:41:33.539607Z",
     "shell.execute_reply": "2022-05-01T18:41:33.538741Z"
    },
    "papermill": {
     "duration": 0.644285,
     "end_time": "2022-05-01T18:41:33.541700",
     "exception": false,
     "start_time": "2022-05-01T18:41:32.897415",
     "status": "completed"
    },
    "tags": []
   },
   "outputs": [
    {
     "data": {
      "image/png": "[encoded data removed]",
      "text/plain": [
       "<Figure size 720x432 with 2 Axes>"
      ]
     },
     "metadata": {
      "needs_background": "light"
     },
     "output_type": "display_data"
    }
   ],
   "source": [
    "import seaborn as sns\n",
    "import numpy as np\n",
    "#Plotting the confusion matrix of Logistic Regesssor\n",
    "plt.figure(figsize=(10,6))\n",
    "sns.heatmap(cm_df2/np.sum(cm_df2), annot=True, cmap='Reds', fmt='.2%')\n",
    "plt.title('Confusion Matrix')\n",
    "plt.ylabel('Actal Values')\n",
    "plt.xlabel('Predicted Values')\n",
    "plt.show()"
   ]
  },
  {
   "cell_type": "code",
   "execution_count": 21,
   "id": "0547f27a",
   "metadata": {
    "execution": {
     "iopub.execute_input": "2022-05-01T18:41:33.702341Z",
     "iopub.status.busy": "2022-05-01T18:41:33.701566Z",
     "iopub.status.idle": "2022-05-01T18:41:33.706096Z",
     "shell.execute_reply": "2022-05-01T18:41:33.705488Z"
    },
    "papermill": {
     "duration": 0.088327,
     "end_time": "2022-05-01T18:41:33.707921",
     "exception": false,
     "start_time": "2022-05-01T18:41:33.619594",
     "status": "completed"
    },
    "tags": []
   },
   "outputs": [],
   "source": [
    "#serialise logistic regressor\n",
    "filename = 'flu_class.sav'\n",
    "pickle. dump(mod, open(filename, 'wb'))"
   ]
  },
  {
   "cell_type": "markdown",
   "id": "8b1f1cc8",
   "metadata": {
    "papermill": {
     "duration": 0.079226,
     "end_time": "2022-05-01T18:41:33.865968",
     "exception": false,
     "start_time": "2022-05-01T18:41:33.786742",
     "status": "completed"
    },
    "tags": []
   },
   "source": [
    "# Epidemic Predictor"
   ]
  },
  {
   "cell_type": "code",
   "execution_count": 22,
   "id": "bde87d98",
   "metadata": {
    "execution": {
     "iopub.execute_input": "2022-05-01T18:41:34.023647Z",
     "iopub.status.busy": "2022-05-01T18:41:34.023203Z",
     "iopub.status.idle": "2022-05-01T18:41:34.131586Z",
     "shell.execute_reply": "2022-05-01T18:41:34.130720Z"
    },
    "papermill": {
     "duration": 0.189608,
     "end_time": "2022-05-01T18:41:34.134009",
     "exception": false,
     "start_time": "2022-05-01T18:41:33.944401",
     "status": "completed"
    },
    "tags": []
   },
   "outputs": [
    {
     "data": {
      "text/html": [
       "<div>\n",
       "<style scoped>\n",
       "    .dataframe tbody tr th:only-of-type {\n",
       "        vertical-align: middle;\n",
       "    }\n",
       "\n",
       "    .dataframe tbody tr th {\n",
       "        vertical-align: top;\n",
       "    }\n",
       "\n",
       "    .dataframe thead th {\n",
       "        text-align: right;\n",
       "    }\n",
       "</style>\n",
       "<table border=\"1\" class=\"dataframe\">\n",
       "  <thead>\n",
       "    <tr style=\"text-align: right;\">\n",
       "      <th></th>\n",
       "      <th>Country</th>\n",
       "      <th>WHOREGION</th>\n",
       "      <th>FLUREGION</th>\n",
       "      <th>Year</th>\n",
       "      <th>Week</th>\n",
       "      <th>SDATE</th>\n",
       "      <th>SPEC_RECEIVED_NB</th>\n",
       "      <th>SPEC_PROCESSED_NB</th>\n",
       "      <th>AH1</th>\n",
       "      <th>AH1N12009</th>\n",
       "      <th>...</th>\n",
       "      <th>AH5</th>\n",
       "      <th>ANOTSUBTYPED</th>\n",
       "      <th>INF_A</th>\n",
       "      <th>BYAMAGATA</th>\n",
       "      <th>BVICTORIA</th>\n",
       "      <th>BNOTDETERMINED</th>\n",
       "      <th>INF_B</th>\n",
       "      <th>ALL_INF</th>\n",
       "      <th>ALL_INF2</th>\n",
       "      <th>TITLE</th>\n",
       "    </tr>\n",
       "    <tr>\n",
       "      <th>EDATE</th>\n",
       "      <th></th>\n",
       "      <th></th>\n",
       "      <th></th>\n",
       "      <th></th>\n",
       "      <th></th>\n",
       "      <th></th>\n",
       "      <th></th>\n",
       "      <th></th>\n",
       "      <th></th>\n",
       "      <th></th>\n",
       "      <th></th>\n",
       "      <th></th>\n",
       "      <th></th>\n",
       "      <th></th>\n",
       "      <th></th>\n",
       "      <th></th>\n",
       "      <th></th>\n",
       "      <th></th>\n",
       "      <th></th>\n",
       "      <th></th>\n",
       "      <th></th>\n",
       "    </tr>\n",
       "  </thead>\n",
       "  <tbody>\n",
       "    <tr>\n",
       "      <th>2022-03-27</th>\n",
       "      <td>Viet Nam</td>\n",
       "      <td>Western Pacific Region of WHO</td>\n",
       "      <td>South-East Asia</td>\n",
       "      <td>2022</td>\n",
       "      <td>12</td>\n",
       "      <td>2022-03-21</td>\n",
       "      <td>0.0</td>\n",
       "      <td>0.0</td>\n",
       "      <td>NaN</td>\n",
       "      <td>0.0</td>\n",
       "      <td>...</td>\n",
       "      <td>0.0</td>\n",
       "      <td>0.0</td>\n",
       "      <td>0.0</td>\n",
       "      <td>0.0</td>\n",
       "      <td>0.0</td>\n",
       "      <td>0.0</td>\n",
       "      <td>0.0</td>\n",
       "      <td>0.0</td>\n",
       "      <td>NaN</td>\n",
       "      <td>Sporadic</td>\n",
       "    </tr>\n",
       "  </tbody>\n",
       "</table>\n",
       "<p>1 rows × 21 columns</p>\n",
       "</div>"
      ],
      "text/plain": [
       "             Country                      WHOREGION        FLUREGION  Year  \\\n",
       "EDATE                                                                        \n",
       "2022-03-27  Viet Nam  Western Pacific Region of WHO  South-East Asia  2022   \n",
       "\n",
       "            Week       SDATE  SPEC_RECEIVED_NB  SPEC_PROCESSED_NB  AH1  \\\n",
       "EDATE                                                                    \n",
       "2022-03-27    12  2022-03-21               0.0                0.0  NaN   \n",
       "\n",
       "            AH1N12009  ...  AH5  ANOTSUBTYPED  INF_A  BYAMAGATA  BVICTORIA  \\\n",
       "EDATE                  ...                                                   \n",
       "2022-03-27        0.0  ...  0.0           0.0    0.0        0.0        0.0   \n",
       "\n",
       "            BNOTDETERMINED  INF_B  ALL_INF  ALL_INF2     TITLE  \n",
       "EDATE                                                           \n",
       "2022-03-27             0.0    0.0      0.0       NaN  Sporadic  \n",
       "\n",
       "[1 rows x 21 columns]"
      ]
     },
     "execution_count": 22,
     "metadata": {},
     "output_type": "execute_result"
    }
   ],
   "source": [
    "#load data\n",
    "#df2=pd.read_csv(\"../input/flureports/FluNetInteractiveReport.csv\")\n",
    "#df2.head(1)\n",
    "data=pd.read_csv(\"../input/flureports/WPOFluNetInteractiveReport.csv\", parse_dates=['EDATE'], index_col='EDATE', skiprows=3)\n",
    "data.tail(1)"
   ]
  },
  {
   "cell_type": "markdown",
   "id": "6b9e4f94",
   "metadata": {
    "papermill": {
     "duration": 0.079961,
     "end_time": "2022-05-01T18:41:34.294577",
     "exception": false,
     "start_time": "2022-05-01T18:41:34.214616",
     "status": "completed"
    },
    "tags": []
   },
   "source": [
    "## EDA"
   ]
  },
  {
   "cell_type": "code",
   "execution_count": 23,
   "id": "8f677fc2",
   "metadata": {
    "execution": {
     "iopub.execute_input": "2022-05-01T18:41:34.456343Z",
     "iopub.status.busy": "2022-05-01T18:41:34.455904Z",
     "iopub.status.idle": "2022-05-01T18:41:34.473210Z",
     "shell.execute_reply": "2022-05-01T18:41:34.472321Z"
    },
    "papermill": {
     "duration": 0.099735,
     "end_time": "2022-05-01T18:41:34.475395",
     "exception": false,
     "start_time": "2022-05-01T18:41:34.375660",
     "status": "completed"
    },
    "tags": []
   },
   "outputs": [
    {
     "name": "stdout",
     "output_type": "stream",
     "text": [
      "Country              False\n",
      "WHOREGION            False\n",
      "FLUREGION            False\n",
      "Year                 False\n",
      "Week                 False\n",
      "SDATE                False\n",
      "SPEC_RECEIVED_NB      True\n",
      "SPEC_PROCESSED_NB     True\n",
      "AH1                   True\n",
      "AH1N12009             True\n",
      "AH3                   True\n",
      "AH5                   True\n",
      "ANOTSUBTYPED          True\n",
      "INF_A                 True\n",
      "BYAMAGATA             True\n",
      "BVICTORIA             True\n",
      "BNOTDETERMINED        True\n",
      "INF_B                 True\n",
      "ALL_INF               True\n",
      "ALL_INF2              True\n",
      "TITLE                False\n",
      "dtype: bool\n"
     ]
    }
   ],
   "source": [
    "nan_values= data.isna()\n",
    "nan_columns = nan_values.any()\n",
    "#columns_with_nan = df.columns[nan_columns].tolist()\n",
    "print(nan_columns)"
   ]
  },
  {
   "cell_type": "code",
   "execution_count": 24,
   "id": "eac87be1",
   "metadata": {
    "execution": {
     "iopub.execute_input": "2022-05-01T18:41:34.638191Z",
     "iopub.status.busy": "2022-05-01T18:41:34.637605Z",
     "iopub.status.idle": "2022-05-01T18:41:34.644561Z",
     "shell.execute_reply": "2022-05-01T18:41:34.643941Z"
    },
    "papermill": {
     "duration": 0.092014,
     "end_time": "2022-05-01T18:41:34.646603",
     "exception": false,
     "start_time": "2022-05-01T18:41:34.554589",
     "status": "completed"
    },
    "tags": []
   },
   "outputs": [
    {
     "data": {
      "text/plain": [
       "Country               object\n",
       "WHOREGION             object\n",
       "FLUREGION             object\n",
       "Year                   int64\n",
       "Week                   int64\n",
       "SDATE                 object\n",
       "SPEC_RECEIVED_NB     float64\n",
       "SPEC_PROCESSED_NB    float64\n",
       "AH1                  float64\n",
       "AH1N12009            float64\n",
       "AH3                  float64\n",
       "AH5                  float64\n",
       "ANOTSUBTYPED         float64\n",
       "INF_A                float64\n",
       "BYAMAGATA            float64\n",
       "BVICTORIA            float64\n",
       "BNOTDETERMINED       float64\n",
       "INF_B                float64\n",
       "ALL_INF              float64\n",
       "ALL_INF2             float64\n",
       "TITLE                 object\n",
       "dtype: object"
      ]
     },
     "execution_count": 24,
     "metadata": {},
     "output_type": "execute_result"
    }
   ],
   "source": [
    "data.dtypes"
   ]
  },
  {
   "cell_type": "code",
   "execution_count": 25,
   "id": "f5fe435e",
   "metadata": {
    "execution": {
     "iopub.execute_input": "2022-05-01T18:41:34.813196Z",
     "iopub.status.busy": "2022-05-01T18:41:34.812396Z",
     "iopub.status.idle": "2022-05-01T18:41:34.860084Z",
     "shell.execute_reply": "2022-05-01T18:41:34.859461Z"
    },
    "papermill": {
     "duration": 0.134427,
     "end_time": "2022-05-01T18:41:34.861994",
     "exception": false,
     "start_time": "2022-05-01T18:41:34.727567",
     "status": "completed"
    },
    "tags": []
   },
   "outputs": [
    {
     "data": {
      "text/html": [
       "<div>\n",
       "<style scoped>\n",
       "    .dataframe tbody tr th:only-of-type {\n",
       "        vertical-align: middle;\n",
       "    }\n",
       "\n",
       "    .dataframe tbody tr th {\n",
       "        vertical-align: top;\n",
       "    }\n",
       "\n",
       "    .dataframe thead th {\n",
       "        text-align: right;\n",
       "    }\n",
       "</style>\n",
       "<table border=\"1\" class=\"dataframe\">\n",
       "  <thead>\n",
       "    <tr style=\"text-align: right;\">\n",
       "      <th></th>\n",
       "      <th>Country</th>\n",
       "      <th>WHOREGION</th>\n",
       "      <th>FLUREGION</th>\n",
       "      <th>Year</th>\n",
       "      <th>Week</th>\n",
       "      <th>SDATE</th>\n",
       "      <th>AH1</th>\n",
       "      <th>AH1N12009</th>\n",
       "      <th>AH3</th>\n",
       "      <th>AH5</th>\n",
       "      <th>ANOTSUBTYPED</th>\n",
       "      <th>INF_A</th>\n",
       "      <th>BYAMAGATA</th>\n",
       "      <th>BVICTORIA</th>\n",
       "      <th>BNOTDETERMINED</th>\n",
       "      <th>INF_B</th>\n",
       "      <th>ALL_INF</th>\n",
       "      <th>ALL_INF2</th>\n",
       "      <th>TITLE</th>\n",
       "    </tr>\n",
       "    <tr>\n",
       "      <th>EDATE</th>\n",
       "      <th></th>\n",
       "      <th></th>\n",
       "      <th></th>\n",
       "      <th></th>\n",
       "      <th></th>\n",
       "      <th></th>\n",
       "      <th></th>\n",
       "      <th></th>\n",
       "      <th></th>\n",
       "      <th></th>\n",
       "      <th></th>\n",
       "      <th></th>\n",
       "      <th></th>\n",
       "      <th></th>\n",
       "      <th></th>\n",
       "      <th></th>\n",
       "      <th></th>\n",
       "      <th></th>\n",
       "      <th></th>\n",
       "    </tr>\n",
       "  </thead>\n",
       "  <tbody>\n",
       "    <tr>\n",
       "      <th>2000-01-09</th>\n",
       "      <td>Australia</td>\n",
       "      <td>Western Pacific Region of WHO</td>\n",
       "      <td>Oceania Melanesia Polynesia</td>\n",
       "      <td>2000</td>\n",
       "      <td>1</td>\n",
       "      <td>2000-01-03</td>\n",
       "      <td>0.0</td>\n",
       "      <td>0.0</td>\n",
       "      <td>1.0</td>\n",
       "      <td>0.0</td>\n",
       "      <td>0.0</td>\n",
       "      <td>1.0</td>\n",
       "      <td>0.0</td>\n",
       "      <td>0.0</td>\n",
       "      <td>0.0</td>\n",
       "      <td>0.0</td>\n",
       "      <td>1.0</td>\n",
       "      <td>0.0</td>\n",
       "      <td>Sporadic</td>\n",
       "    </tr>\n",
       "    <tr>\n",
       "      <th>2000-01-16</th>\n",
       "      <td>Australia</td>\n",
       "      <td>Western Pacific Region of WHO</td>\n",
       "      <td>Oceania Melanesia Polynesia</td>\n",
       "      <td>2000</td>\n",
       "      <td>2</td>\n",
       "      <td>2000-01-10</td>\n",
       "      <td>0.0</td>\n",
       "      <td>0.0</td>\n",
       "      <td>0.0</td>\n",
       "      <td>0.0</td>\n",
       "      <td>1.0</td>\n",
       "      <td>1.0</td>\n",
       "      <td>0.0</td>\n",
       "      <td>0.0</td>\n",
       "      <td>0.0</td>\n",
       "      <td>0.0</td>\n",
       "      <td>1.0</td>\n",
       "      <td>0.0</td>\n",
       "      <td>Sporadic</td>\n",
       "    </tr>\n",
       "    <tr>\n",
       "      <th>2000-01-23</th>\n",
       "      <td>Australia</td>\n",
       "      <td>Western Pacific Region of WHO</td>\n",
       "      <td>Oceania Melanesia Polynesia</td>\n",
       "      <td>2000</td>\n",
       "      <td>3</td>\n",
       "      <td>2000-01-17</td>\n",
       "      <td>0.0</td>\n",
       "      <td>0.0</td>\n",
       "      <td>0.0</td>\n",
       "      <td>0.0</td>\n",
       "      <td>2.0</td>\n",
       "      <td>2.0</td>\n",
       "      <td>0.0</td>\n",
       "      <td>0.0</td>\n",
       "      <td>0.0</td>\n",
       "      <td>0.0</td>\n",
       "      <td>2.0</td>\n",
       "      <td>0.0</td>\n",
       "      <td>Sporadic</td>\n",
       "    </tr>\n",
       "    <tr>\n",
       "      <th>2000-01-30</th>\n",
       "      <td>Australia</td>\n",
       "      <td>Western Pacific Region of WHO</td>\n",
       "      <td>Oceania Melanesia Polynesia</td>\n",
       "      <td>2000</td>\n",
       "      <td>4</td>\n",
       "      <td>2000-01-24</td>\n",
       "      <td>0.0</td>\n",
       "      <td>0.0</td>\n",
       "      <td>0.0</td>\n",
       "      <td>0.0</td>\n",
       "      <td>1.0</td>\n",
       "      <td>1.0</td>\n",
       "      <td>0.0</td>\n",
       "      <td>0.0</td>\n",
       "      <td>0.0</td>\n",
       "      <td>0.0</td>\n",
       "      <td>1.0</td>\n",
       "      <td>0.0</td>\n",
       "      <td>No Activity</td>\n",
       "    </tr>\n",
       "    <tr>\n",
       "      <th>2000-02-06</th>\n",
       "      <td>Australia</td>\n",
       "      <td>Western Pacific Region of WHO</td>\n",
       "      <td>Oceania Melanesia Polynesia</td>\n",
       "      <td>2000</td>\n",
       "      <td>5</td>\n",
       "      <td>2000-01-31</td>\n",
       "      <td>0.0</td>\n",
       "      <td>0.0</td>\n",
       "      <td>0.0</td>\n",
       "      <td>0.0</td>\n",
       "      <td>1.0</td>\n",
       "      <td>1.0</td>\n",
       "      <td>0.0</td>\n",
       "      <td>0.0</td>\n",
       "      <td>0.0</td>\n",
       "      <td>0.0</td>\n",
       "      <td>1.0</td>\n",
       "      <td>0.0</td>\n",
       "      <td>Sporadic</td>\n",
       "    </tr>\n",
       "  </tbody>\n",
       "</table>\n",
       "</div>"
      ],
      "text/plain": [
       "              Country                      WHOREGION  \\\n",
       "EDATE                                                  \n",
       "2000-01-09  Australia  Western Pacific Region of WHO   \n",
       "2000-01-16  Australia  Western Pacific Region of WHO   \n",
       "2000-01-23  Australia  Western Pacific Region of WHO   \n",
       "2000-01-30  Australia  Western Pacific Region of WHO   \n",
       "2000-02-06  Australia  Western Pacific Region of WHO   \n",
       "\n",
       "                              FLUREGION  Year  Week      SDATE  AH1  \\\n",
       "EDATE                                                                 \n",
       "2000-01-09  Oceania Melanesia Polynesia  2000     1 2000-01-03  0.0   \n",
       "2000-01-16  Oceania Melanesia Polynesia  2000     2 2000-01-10  0.0   \n",
       "2000-01-23  Oceania Melanesia Polynesia  2000     3 2000-01-17  0.0   \n",
       "2000-01-30  Oceania Melanesia Polynesia  2000     4 2000-01-24  0.0   \n",
       "2000-02-06  Oceania Melanesia Polynesia  2000     5 2000-01-31  0.0   \n",
       "\n",
       "            AH1N12009  AH3  AH5  ANOTSUBTYPED  INF_A  BYAMAGATA  BVICTORIA  \\\n",
       "EDATE                                                                        \n",
       "2000-01-09        0.0  1.0  0.0           0.0    1.0        0.0        0.0   \n",
       "2000-01-16        0.0  0.0  0.0           1.0    1.0        0.0        0.0   \n",
       "2000-01-23        0.0  0.0  0.0           2.0    2.0        0.0        0.0   \n",
       "2000-01-30        0.0  0.0  0.0           1.0    1.0        0.0        0.0   \n",
       "2000-02-06        0.0  0.0  0.0           1.0    1.0        0.0        0.0   \n",
       "\n",
       "            BNOTDETERMINED  INF_B  ALL_INF  ALL_INF2        TITLE  \n",
       "EDATE                                                              \n",
       "2000-01-09             0.0    0.0      1.0       0.0     Sporadic  \n",
       "2000-01-16             0.0    0.0      1.0       0.0     Sporadic  \n",
       "2000-01-23             0.0    0.0      2.0       0.0     Sporadic  \n",
       "2000-01-30             0.0    0.0      1.0       0.0  No Activity  \n",
       "2000-02-06             0.0    0.0      1.0       0.0     Sporadic  "
      ]
     },
     "execution_count": 25,
     "metadata": {},
     "output_type": "execute_result"
    }
   ],
   "source": [
    "data = data.fillna(0) #fill any remaining gaps with 0\n",
    "_=data.pop('SPEC_RECEIVED_NB') #remove the number of specimen received\n",
    "_=data.pop('SPEC_PROCESSED_NB') #remove the number of specimen processed\n",
    "data['SDATE'] = pd.to_datetime(data['SDATE']) #from object to datetime\n",
    "data.head()"
   ]
  },
  {
   "cell_type": "code",
   "execution_count": 26,
   "id": "f519edcf",
   "metadata": {
    "execution": {
     "iopub.execute_input": "2022-05-01T18:41:35.025599Z",
     "iopub.status.busy": "2022-05-01T18:41:35.025106Z",
     "iopub.status.idle": "2022-05-01T18:41:35.028630Z",
     "shell.execute_reply": "2022-05-01T18:41:35.028071Z"
    },
    "papermill": {
     "duration": 0.087871,
     "end_time": "2022-05-01T18:41:35.030600",
     "exception": false,
     "start_time": "2022-05-01T18:41:34.942729",
     "status": "completed"
    },
    "tags": []
   },
   "outputs": [],
   "source": [
    "# data = data.fillna(0)\n",
    "# nan_values= data.isna()\n",
    "# nan_columns = nan_values.any()\n",
    "# #columns_with_nan = df.columns[nan_columns].tolist()\n",
    "# print(nan_columns)"
   ]
  },
  {
   "cell_type": "code",
   "execution_count": 27,
   "id": "0e5c326c",
   "metadata": {
    "execution": {
     "iopub.execute_input": "2022-05-01T18:41:35.194837Z",
     "iopub.status.busy": "2022-05-01T18:41:35.194183Z",
     "iopub.status.idle": "2022-05-01T18:41:35.233610Z",
     "shell.execute_reply": "2022-05-01T18:41:35.232980Z"
    },
    "papermill": {
     "duration": 0.122604,
     "end_time": "2022-05-01T18:41:35.235472",
     "exception": false,
     "start_time": "2022-05-01T18:41:35.112868",
     "status": "completed"
    },
    "tags": []
   },
   "outputs": [
    {
     "data": {
      "text/html": [
       "<div>\n",
       "<style scoped>\n",
       "    .dataframe tbody tr th:only-of-type {\n",
       "        vertical-align: middle;\n",
       "    }\n",
       "\n",
       "    .dataframe tbody tr th {\n",
       "        vertical-align: top;\n",
       "    }\n",
       "\n",
       "    .dataframe thead th {\n",
       "        text-align: right;\n",
       "    }\n",
       "</style>\n",
       "<table border=\"1\" class=\"dataframe\">\n",
       "  <thead>\n",
       "    <tr style=\"text-align: right;\">\n",
       "      <th></th>\n",
       "      <th>Year</th>\n",
       "      <th>Week</th>\n",
       "      <th>SDATE</th>\n",
       "      <th>AH1</th>\n",
       "      <th>AH1N12009</th>\n",
       "      <th>AH3</th>\n",
       "      <th>AH5</th>\n",
       "      <th>ANOTSUBTYPED</th>\n",
       "      <th>INF_A</th>\n",
       "      <th>BYAMAGATA</th>\n",
       "      <th>...</th>\n",
       "      <th>Country_New Zealand</th>\n",
       "      <th>Country_Papua New Guinea</th>\n",
       "      <th>Country_Philippines</th>\n",
       "      <th>Country_Republic of Korea</th>\n",
       "      <th>Country_Singapore</th>\n",
       "      <th>Country_Viet Nam</th>\n",
       "      <th>WHOREGION_Western Pacific Region of WHO</th>\n",
       "      <th>FLUREGION_Eastern Asia</th>\n",
       "      <th>FLUREGION_Oceania Melanesia Polynesia</th>\n",
       "      <th>FLUREGION_South-East Asia</th>\n",
       "    </tr>\n",
       "    <tr>\n",
       "      <th>EDATE</th>\n",
       "      <th></th>\n",
       "      <th></th>\n",
       "      <th></th>\n",
       "      <th></th>\n",
       "      <th></th>\n",
       "      <th></th>\n",
       "      <th></th>\n",
       "      <th></th>\n",
       "      <th></th>\n",
       "      <th></th>\n",
       "      <th></th>\n",
       "      <th></th>\n",
       "      <th></th>\n",
       "      <th></th>\n",
       "      <th></th>\n",
       "      <th></th>\n",
       "      <th></th>\n",
       "      <th></th>\n",
       "      <th></th>\n",
       "      <th></th>\n",
       "      <th></th>\n",
       "    </tr>\n",
       "  </thead>\n",
       "  <tbody>\n",
       "    <tr>\n",
       "      <th>2022-02-27</th>\n",
       "      <td>2022</td>\n",
       "      <td>8</td>\n",
       "      <td>2022-02-21</td>\n",
       "      <td>0.0</td>\n",
       "      <td>0.0</td>\n",
       "      <td>0.0</td>\n",
       "      <td>0.0</td>\n",
       "      <td>0.0</td>\n",
       "      <td>0.0</td>\n",
       "      <td>0.0</td>\n",
       "      <td>...</td>\n",
       "      <td>0</td>\n",
       "      <td>0</td>\n",
       "      <td>0</td>\n",
       "      <td>0</td>\n",
       "      <td>0</td>\n",
       "      <td>1</td>\n",
       "      <td>1</td>\n",
       "      <td>0</td>\n",
       "      <td>0</td>\n",
       "      <td>1</td>\n",
       "    </tr>\n",
       "    <tr>\n",
       "      <th>2022-03-06</th>\n",
       "      <td>2022</td>\n",
       "      <td>9</td>\n",
       "      <td>2022-02-28</td>\n",
       "      <td>0.0</td>\n",
       "      <td>0.0</td>\n",
       "      <td>0.0</td>\n",
       "      <td>0.0</td>\n",
       "      <td>0.0</td>\n",
       "      <td>0.0</td>\n",
       "      <td>0.0</td>\n",
       "      <td>...</td>\n",
       "      <td>0</td>\n",
       "      <td>0</td>\n",
       "      <td>0</td>\n",
       "      <td>0</td>\n",
       "      <td>0</td>\n",
       "      <td>1</td>\n",
       "      <td>1</td>\n",
       "      <td>0</td>\n",
       "      <td>0</td>\n",
       "      <td>1</td>\n",
       "    </tr>\n",
       "    <tr>\n",
       "      <th>2022-03-13</th>\n",
       "      <td>2022</td>\n",
       "      <td>10</td>\n",
       "      <td>2022-03-07</td>\n",
       "      <td>0.0</td>\n",
       "      <td>0.0</td>\n",
       "      <td>0.0</td>\n",
       "      <td>0.0</td>\n",
       "      <td>0.0</td>\n",
       "      <td>0.0</td>\n",
       "      <td>0.0</td>\n",
       "      <td>...</td>\n",
       "      <td>0</td>\n",
       "      <td>0</td>\n",
       "      <td>0</td>\n",
       "      <td>0</td>\n",
       "      <td>0</td>\n",
       "      <td>1</td>\n",
       "      <td>1</td>\n",
       "      <td>0</td>\n",
       "      <td>0</td>\n",
       "      <td>1</td>\n",
       "    </tr>\n",
       "    <tr>\n",
       "      <th>2022-03-20</th>\n",
       "      <td>2022</td>\n",
       "      <td>11</td>\n",
       "      <td>2022-03-14</td>\n",
       "      <td>0.0</td>\n",
       "      <td>0.0</td>\n",
       "      <td>0.0</td>\n",
       "      <td>0.0</td>\n",
       "      <td>0.0</td>\n",
       "      <td>0.0</td>\n",
       "      <td>0.0</td>\n",
       "      <td>...</td>\n",
       "      <td>0</td>\n",
       "      <td>0</td>\n",
       "      <td>0</td>\n",
       "      <td>0</td>\n",
       "      <td>0</td>\n",
       "      <td>1</td>\n",
       "      <td>1</td>\n",
       "      <td>0</td>\n",
       "      <td>0</td>\n",
       "      <td>1</td>\n",
       "    </tr>\n",
       "    <tr>\n",
       "      <th>2022-03-27</th>\n",
       "      <td>2022</td>\n",
       "      <td>12</td>\n",
       "      <td>2022-03-21</td>\n",
       "      <td>0.0</td>\n",
       "      <td>0.0</td>\n",
       "      <td>0.0</td>\n",
       "      <td>0.0</td>\n",
       "      <td>0.0</td>\n",
       "      <td>0.0</td>\n",
       "      <td>0.0</td>\n",
       "      <td>...</td>\n",
       "      <td>0</td>\n",
       "      <td>0</td>\n",
       "      <td>0</td>\n",
       "      <td>0</td>\n",
       "      <td>0</td>\n",
       "      <td>1</td>\n",
       "      <td>1</td>\n",
       "      <td>0</td>\n",
       "      <td>0</td>\n",
       "      <td>1</td>\n",
       "    </tr>\n",
       "  </tbody>\n",
       "</table>\n",
       "<p>5 rows × 34 columns</p>\n",
       "</div>"
      ],
      "text/plain": [
       "            Year  Week      SDATE  AH1  AH1N12009  AH3  AH5  ANOTSUBTYPED  \\\n",
       "EDATE                                                                       \n",
       "2022-02-27  2022     8 2022-02-21  0.0        0.0  0.0  0.0           0.0   \n",
       "2022-03-06  2022     9 2022-02-28  0.0        0.0  0.0  0.0           0.0   \n",
       "2022-03-13  2022    10 2022-03-07  0.0        0.0  0.0  0.0           0.0   \n",
       "2022-03-20  2022    11 2022-03-14  0.0        0.0  0.0  0.0           0.0   \n",
       "2022-03-27  2022    12 2022-03-21  0.0        0.0  0.0  0.0           0.0   \n",
       "\n",
       "            INF_A  BYAMAGATA  ...  Country_New Zealand  \\\n",
       "EDATE                         ...                        \n",
       "2022-02-27    0.0        0.0  ...                    0   \n",
       "2022-03-06    0.0        0.0  ...                    0   \n",
       "2022-03-13    0.0        0.0  ...                    0   \n",
       "2022-03-20    0.0        0.0  ...                    0   \n",
       "2022-03-27    0.0        0.0  ...                    0   \n",
       "\n",
       "            Country_Papua New Guinea  Country_Philippines  \\\n",
       "EDATE                                                       \n",
       "2022-02-27                         0                    0   \n",
       "2022-03-06                         0                    0   \n",
       "2022-03-13                         0                    0   \n",
       "2022-03-20                         0                    0   \n",
       "2022-03-27                         0                    0   \n",
       "\n",
       "            Country_Republic of Korea  Country_Singapore  Country_Viet Nam  \\\n",
       "EDATE                                                                        \n",
       "2022-02-27                          0                  0                 1   \n",
       "2022-03-06                          0                  0                 1   \n",
       "2022-03-13                          0                  0                 1   \n",
       "2022-03-20                          0                  0                 1   \n",
       "2022-03-27                          0                  0                 1   \n",
       "\n",
       "            WHOREGION_Western Pacific Region of WHO  FLUREGION_Eastern Asia  \\\n",
       "EDATE                                                                         \n",
       "2022-02-27                                        1                       0   \n",
       "2022-03-06                                        1                       0   \n",
       "2022-03-13                                        1                       0   \n",
       "2022-03-20                                        1                       0   \n",
       "2022-03-27                                        1                       0   \n",
       "\n",
       "            FLUREGION_Oceania Melanesia Polynesia  FLUREGION_South-East Asia  \n",
       "EDATE                                                                         \n",
       "2022-02-27                                      0                          1  \n",
       "2022-03-06                                      0                          1  \n",
       "2022-03-13                                      0                          1  \n",
       "2022-03-20                                      0                          1  \n",
       "2022-03-27                                      0                          1  \n",
       "\n",
       "[5 rows x 34 columns]"
      ]
     },
     "execution_count": 27,
     "metadata": {},
     "output_type": "execute_result"
    }
   ],
   "source": [
    "target=data.pop('TITLE')\n",
    "one_hot_encoded_data = pd.get_dummies(data)\n",
    "one_hot_encoded_data.tail()"
   ]
  },
  {
   "cell_type": "code",
   "execution_count": 28,
   "id": "2cd5819a",
   "metadata": {
    "execution": {
     "iopub.execute_input": "2022-05-01T18:41:35.402440Z",
     "iopub.status.busy": "2022-05-01T18:41:35.401930Z",
     "iopub.status.idle": "2022-05-01T18:41:37.767341Z",
     "shell.execute_reply": "2022-05-01T18:41:37.766486Z"
    },
    "papermill": {
     "duration": 2.451992,
     "end_time": "2022-05-01T18:41:37.769738",
     "exception": false,
     "start_time": "2022-05-01T18:41:35.317746",
     "status": "completed"
    },
    "tags": []
   },
   "outputs": [
    {
     "data": {
      "text/plain": [
       "<AxesSubplot:title={'center':'Influenza trend'}, xlabel='EDATE'>"
      ]
     },
     "execution_count": 28,
     "metadata": {},
     "output_type": "execute_result"
    },
    {
     "data": {
      "image/png": "[encoded data removed]",
      "text/plain": [
       "<Figure size 2000x400 with 3 Axes>"
      ]
     },
     "metadata": {
      "needs_background": "light"
     },
     "output_type": "display_data"
    }
   ],
   "source": [
    "cat_data=one_hot_encoded_data\n",
    "df_inf=cat_data.resample('1m').mean()\n",
    "df2_inf=cat_data.resample('1y').mean()\n",
    "#check for seasonality, trend, \n",
    "fig, axes = plt.subplots(1,3, figsize=(20,4), dpi=100)\n",
    "cat_data.plot(title='All influenza', legend=False, ax=axes[0])\n",
    "df_inf.plot(title='Influenza seasonality', legend=False, ax=axes[1])\n",
    "df2_inf.plot(title='Influenza trend', legend=False, ax=axes[2])\n",
    "#data['AH5'].pl"
   ]
  },
  {
   "cell_type": "code",
   "execution_count": 29,
   "id": "d3ace6f8",
   "metadata": {
    "execution": {
     "iopub.execute_input": "2022-05-01T18:41:37.943399Z",
     "iopub.status.busy": "2022-05-01T18:41:37.942918Z",
     "iopub.status.idle": "2022-05-01T18:42:29.958813Z",
     "shell.execute_reply": "2022-05-01T18:42:29.957901Z"
    },
    "papermill": {
     "duration": 52.107876,
     "end_time": "2022-05-01T18:42:29.962953",
     "exception": false,
     "start_time": "2022-05-01T18:41:37.855077",
     "status": "completed"
    },
    "tags": []
   },
   "outputs": [
    {
     "name": "stdout",
     "output_type": "stream",
     "text": [
      "Observations of Dickey-fuller test\n",
      "The Country_Cambodia data in not stationary with 99% confidence\n",
      "The Country_Cambodia data in not stationary with 95% confidence\n",
      "The Country_China data in not stationary with 99% confidence\n",
      "The Country_China data in not stationary with 95% confidence\n",
      "The Country_Fiji data in not stationary with 99% confidence\n",
      "The Country_Fiji data in not stationary with 95% confidence\n",
      "The Country_Japan data in not stationary with 99% confidence\n",
      "The Country_Japan data in not stationary with 95% confidence\n",
      "The Country_Lao People's Democratic Republic data in not stationary with 99% confidence\n",
      "The Country_Lao People's Democratic Republic data in not stationary with 95% confidence\n",
      "The Country_Malaysia data in not stationary with 99% confidence\n",
      "The Country_Malaysia data in not stationary with 95% confidence\n",
      "The Country_Mongolia data in not stationary with 99% confidence\n",
      "The Country_Mongolia data in not stationary with 95% confidence\n",
      "The Country_New Caledonia data in not stationary with 99% confidence\n",
      "The Country_New Caledonia data in not stationary with 95% confidence\n",
      "The Country_New Zealand data in not stationary with 99% confidence\n",
      "The Country_New Zealand data in not stationary with 95% confidence\n",
      "The Country_Papua New Guinea data in not stationary with 99% confidence\n",
      "The Country_Papua New Guinea data in not stationary with 95% confidence\n",
      "The Country_Philippines data in not stationary with 99% confidence\n",
      "The Country_Philippines data in not stationary with 95% confidence\n",
      "The Country_Republic of Korea data in not stationary with 99% confidence\n",
      "The Country_Republic of Korea data in not stationary with 95% confidence\n",
      "The Country_Singapore data in not stationary with 99% confidence\n",
      "The Country_Singapore data in not stationary with 95% confidence\n",
      "The Country_Viet Nam data in not stationary with 99% confidence\n",
      "The Country_Viet Nam data in not stationary with 95% confidence\n",
      "The Country_Viet Nam data in not stationary with 90% confidence\n",
      "The FLUREGION_Eastern Asia data in not stationary with 99% confidence\n",
      "The FLUREGION_Oceania Melanesia Polynesia data in not stationary with 99% confidence\n",
      "The FLUREGION_Oceania Melanesia Polynesia data in not stationary with 95% confidence\n",
      "The FLUREGION_Oceania Melanesia Polynesia data in not stationary with 90% confidence\n",
      "The FLUREGION_South-East Asia data in not stationary with 99% confidence\n",
      "The FLUREGION_South-East Asia data in not stationary with 95% confidence\n"
     ]
    }
   ],
   "source": [
    "#Check if data is non-stationary using ADF\n",
    "cols= cat_data.columns[3:]\n",
    "from statsmodels.tsa.stattools import adfuller\n",
    "print(\"Observations of Dickey-fuller test\")\n",
    "for col in cols:\n",
    "    dftest = adfuller(cat_data[col], autolag='AIC')\n",
    "    #print(f'Results for the predictor values in {col}')\n",
    "    #print(\"Test statistic = {:.3f}\".format(dftest[0]))\n",
    "    #print(\"P-value = {:.3f}\".format(dftest[1]))\n",
    "    #print(\"Critical values :\")\n",
    "    for k, v in dftest[4].items():\n",
    "        if v<dftest[0]:\n",
    "            print(f'The {col} data in not stationary with {100-int(k[:-1])}% confidence')\n",
    "        #print(\"\\t{}: {} - The data is {} stationary with {}% confidence\".format(k, v, \"not\" if v<dftest[0] else \"\", 100-int(k[:-1])))\n",
    "\n",
    "    #dfoutput=pd.Series(dftest[0:4],index=['Test Statistic','p-value','#lags used','number of observations used'])\n",
    "    #for key,value in dftest[4].items():\n",
    "     #   dfoutput['critical value (%s)'%key]= value\n",
    "    #print(dfoutput)\n"
   ]
  },
  {
   "cell_type": "markdown",
   "id": "0aff9edd",
   "metadata": {
    "papermill": {
     "duration": 0.091663,
     "end_time": "2022-05-01T18:42:30.201786",
     "exception": false,
     "start_time": "2022-05-01T18:42:30.110123",
     "status": "completed"
    },
    "tags": []
   },
   "source": [
    " "
   ]
  },
  {
   "cell_type": "markdown",
   "id": "d35b22e9",
   "metadata": {
    "papermill": {
     "duration": 0.093659,
     "end_time": "2022-05-01T18:42:30.388221",
     "exception": false,
     "start_time": "2022-05-01T18:42:30.294562",
     "status": "completed"
    },
    "tags": []
   },
   "source": [
    "### Except for the one-hot encoded data, the rest of the relevant features are stationary"
   ]
  },
  {
   "cell_type": "markdown",
   "id": "7f2e389d",
   "metadata": {
    "papermill": {
     "duration": 0.090428,
     "end_time": "2022-05-01T18:42:30.569655",
     "exception": false,
     "start_time": "2022-05-01T18:42:30.479227",
     "status": "completed"
    },
    "tags": []
   },
   "source": [
    "## Transfrom text target to numerical"
   ]
  },
  {
   "cell_type": "markdown",
   "id": "aa89f480",
   "metadata": {
    "papermill": {
     "duration": 0.090394,
     "end_time": "2022-05-01T18:42:30.750955",
     "exception": false,
     "start_time": "2022-05-01T18:42:30.660561",
     "status": "completed"
    },
    "tags": []
   },
   "source": [
    "## Time series prediction with prophet"
   ]
  },
  {
   "cell_type": "code",
   "execution_count": 30,
   "id": "c1c7bc8a",
   "metadata": {
    "execution": {
     "iopub.execute_input": "2022-05-01T18:42:30.937192Z",
     "iopub.status.busy": "2022-05-01T18:42:30.936915Z",
     "iopub.status.idle": "2022-05-01T18:42:30.940172Z",
     "shell.execute_reply": "2022-05-01T18:42:30.939598Z"
    },
    "papermill": {
     "duration": 0.098699,
     "end_time": "2022-05-01T18:42:30.942022",
     "exception": false,
     "start_time": "2022-05-01T18:42:30.843323",
     "status": "completed"
    },
    "tags": []
   },
   "outputs": [],
   "source": [
    "#!sudo pip install fbprophet"
   ]
  },
  {
   "cell_type": "code",
   "execution_count": 31,
   "id": "ea610237",
   "metadata": {
    "execution": {
     "iopub.execute_input": "2022-05-01T18:42:31.128072Z",
     "iopub.status.busy": "2022-05-01T18:42:31.127514Z",
     "iopub.status.idle": "2022-05-01T18:42:31.357294Z",
     "shell.execute_reply": "2022-05-01T18:42:31.355241Z"
    },
    "papermill": {
     "duration": 0.325547,
     "end_time": "2022-05-01T18:42:31.359418",
     "exception": false,
     "start_time": "2022-05-01T18:42:31.033871",
     "status": "completed"
    },
    "tags": []
   },
   "outputs": [
    {
     "name": "stdout",
     "output_type": "stream",
     "text": [
      "Prophet 0.7.1\n"
     ]
    }
   ],
   "source": [
    "# check prophet version\n",
    "import fbprophet\n",
    "# print version number\n",
    "print('Prophet %s' % fbprophet.__version__)"
   ]
  },
  {
   "cell_type": "code",
   "execution_count": 32,
   "id": "7006510f",
   "metadata": {
    "execution": {
     "iopub.execute_input": "2022-05-01T18:42:31.545685Z",
     "iopub.status.busy": "2022-05-01T18:42:31.545129Z",
     "iopub.status.idle": "2022-05-01T18:42:38.019388Z",
     "shell.execute_reply": "2022-05-01T18:42:38.016986Z"
    },
    "papermill": {
     "duration": 6.569751,
     "end_time": "2022-05-01T18:42:38.021542",
     "exception": false,
     "start_time": "2022-05-01T18:42:31.451791",
     "status": "completed"
    },
    "tags": []
   },
   "outputs": [
    {
     "name": "stdout",
     "output_type": "stream",
     "text": [
      "Initial log joint probability = -42.7095\n"
     ]
    },
    {
     "data": {
      "text/plain": [
       "<fbprophet.forecaster.Prophet at 0x7fc0f43f9a10>"
      ]
     },
     "execution_count": 32,
     "metadata": {},
     "output_type": "execute_result"
    },
    {
     "name": "stdout",
     "output_type": "stream",
     "text": [
      "    Iter      log prob        ||dx||      ||grad||       alpha      alpha0  # evals  Notes \n",
      "      99       30825.3    0.00348518       312.364      0.8456      0.8456      134   \n",
      "    Iter      log prob        ||dx||      ||grad||       alpha      alpha0  # evals  Notes \n",
      "     199       30830.7   0.000172776       311.245           1           1      254   \n",
      "    Iter      log prob        ||dx||      ||grad||       alpha      alpha0  # evals  Notes \n",
      "     299       30832.5   0.000555282       540.049           1           1      373   \n",
      "    Iter      log prob        ||dx||      ||grad||       alpha      alpha0  # evals  Notes \n",
      "     383       30833.2   1.92248e-05       122.413     6.6e-08       0.001      518  LS failed, Hessian reset \n",
      "     399       30833.5   0.000737564        148.86           1           1      539   \n",
      "    Iter      log prob        ||dx||      ||grad||       alpha      alpha0  # evals  Notes \n",
      "     465       30833.7   6.50519e-07       79.0968     0.04436      0.5866      624   \n",
      "Optimization terminated normally: \n",
      "  Convergence detected: relative gradient magnitude is below tolerance\n"
     ]
    }
   ],
   "source": [
    "from pandas import read_csv\n",
    "from pandas import to_datetime\n",
    "from fbprophet import Prophet\n",
    "\n",
    "# load data\n",
    "#path = 'https://raw.githubusercontent.com/jbrownlee/Datasets/master/monthly-car-sales.csv'\n",
    "#prophet_df = read_csv('../input/flureports/WPOFluNetInteractiveReport.csv', skiprows=3)\n",
    "prophet_df=cat_data.reset_index()\n",
    "prophet_df.rename(columns = {'EDATE':'ds', 'ALL_INF':'y'}, inplace = True)\n",
    "\n",
    "\n",
    "# prepare expected column names\n",
    "df= prophet_df[['ds', 'y']]\n",
    "\n",
    "#df= [ds, y]\n",
    "df.columns = ['ds', 'y']\n",
    "df['ds']= to_datetime(df['ds'])\n",
    "\n",
    "#split data\n",
    "from sklearn.model_selection import train_test_split\n",
    "\n",
    "x_train, x_test= train_test_split(df, test_size=0.3)\n",
    "x_train.sort_values(by='ds', axis=0, ascending=True, inplace=True)\n",
    "x_test.sort_values(by='ds', axis=0, ascending=True, inplace=True)\n",
    "# define the model\n",
    "model = Prophet()\n",
    "# fit the model\n",
    "model.fit(x_train)"
   ]
  },
  {
   "cell_type": "code",
   "execution_count": 33,
   "id": "eb225f4c",
   "metadata": {
    "execution": {
     "iopub.execute_input": "2022-05-01T18:42:38.210221Z",
     "iopub.status.busy": "2022-05-01T18:42:38.209635Z",
     "iopub.status.idle": "2022-05-01T18:42:41.875817Z",
     "shell.execute_reply": "2022-05-01T18:42:41.875161Z"
    },
    "papermill": {
     "duration": 3.762606,
     "end_time": "2022-05-01T18:42:41.878101",
     "exception": false,
     "start_time": "2022-05-01T18:42:38.115495",
     "status": "completed"
    },
    "tags": []
   },
   "outputs": [],
   "source": [
    "future= model.make_future_dataframe(periods=14)\n",
    "forecast=model.predict(future)"
   ]
  },
  {
   "cell_type": "code",
   "execution_count": 34,
   "id": "150c28fe",
   "metadata": {
    "execution": {
     "iopub.execute_input": "2022-05-01T18:42:42.067490Z",
     "iopub.status.busy": "2022-05-01T18:42:42.066950Z",
     "iopub.status.idle": "2022-05-01T18:42:42.460656Z",
     "shell.execute_reply": "2022-05-01T18:42:42.459825Z"
    },
    "papermill": {
     "duration": 0.491367,
     "end_time": "2022-05-01T18:42:42.462765",
     "exception": false,
     "start_time": "2022-05-01T18:42:41.971398",
     "status": "completed"
    },
    "tags": []
   },
   "outputs": [
    {
     "data": {
      "image/png": "[encoded data removed]",
      "text/plain": [
       "<Figure size 720x432 with 1 Axes>"
      ]
     },
     "metadata": {},
     "output_type": "display_data"
    }
   ],
   "source": [
    "fig1 =model.plot(forecast)"
   ]
  },
  {
   "cell_type": "code",
   "execution_count": 35,
   "id": "a93b15da",
   "metadata": {
    "execution": {
     "iopub.execute_input": "2022-05-01T18:42:42.655472Z",
     "iopub.status.busy": "2022-05-01T18:42:42.654927Z",
     "iopub.status.idle": "2022-05-01T18:42:42.660668Z",
     "shell.execute_reply": "2022-05-01T18:42:42.660104Z"
    },
    "papermill": {
     "duration": 0.104582,
     "end_time": "2022-05-01T18:42:42.662632",
     "exception": false,
     "start_time": "2022-05-01T18:42:42.558050",
     "status": "completed"
    },
    "tags": []
   },
   "outputs": [],
   "source": [
    "regs=['Year', 'Week', 'SDATE', 'AH1', 'AH1N12009', 'AH3', 'AH5',\n",
    "       'ANOTSUBTYPED', 'INF_A', 'BYAMAGATA', 'BVICTORIA', 'BNOTDETERMINED',\n",
    "       'INF_B', 'ALL_INF2', 'Country_Australia', 'Country_Cambodia',\n",
    "       'Country_China', 'Country_Fiji', 'Country_Japan',\n",
    "       \"Country_Lao People's Democratic Republic\", 'Country_Malaysia',\n",
    "       'Country_Mongolia', 'Country_New Caledonia', 'Country_New Zealand',\n",
    "       'Country_Papua New Guinea', 'Country_Philippines',\n",
    "       'Country_Republic of Korea', 'Country_Singapore', 'Country_Viet Nam',\n",
    "       'WHOREGION_Western Pacific Region of WHO', 'FLUREGION_Eastern Asia',\n",
    "       'FLUREGION_Oceania Melanesia Polynesia', 'FLUREGION_South-East Asia']"
   ]
  },
  {
   "cell_type": "code",
   "execution_count": 36,
   "id": "4c8ef67c",
   "metadata": {
    "execution": {
     "iopub.execute_input": "2022-05-01T18:42:42.856108Z",
     "iopub.status.busy": "2022-05-01T18:42:42.855518Z",
     "iopub.status.idle": "2022-05-01T18:42:42.876684Z",
     "shell.execute_reply": "2022-05-01T18:42:42.875860Z"
    },
    "papermill": {
     "duration": 0.120185,
     "end_time": "2022-05-01T18:42:42.878832",
     "exception": false,
     "start_time": "2022-05-01T18:42:42.758647",
     "status": "completed"
    },
    "tags": []
   },
   "outputs": [
    {
     "data": {
      "text/html": [
       "<div>\n",
       "<style scoped>\n",
       "    .dataframe tbody tr th:only-of-type {\n",
       "        vertical-align: middle;\n",
       "    }\n",
       "\n",
       "    .dataframe tbody tr th {\n",
       "        vertical-align: top;\n",
       "    }\n",
       "\n",
       "    .dataframe thead th {\n",
       "        text-align: right;\n",
       "    }\n",
       "</style>\n",
       "<table border=\"1\" class=\"dataframe\">\n",
       "  <thead>\n",
       "    <tr style=\"text-align: right;\">\n",
       "      <th></th>\n",
       "      <th>ds</th>\n",
       "      <th>Year</th>\n",
       "      <th>Week</th>\n",
       "      <th>SDATE</th>\n",
       "      <th>AH1</th>\n",
       "      <th>AH1N12009</th>\n",
       "      <th>AH3</th>\n",
       "      <th>AH5</th>\n",
       "      <th>ANOTSUBTYPED</th>\n",
       "      <th>INF_A</th>\n",
       "      <th>...</th>\n",
       "      <th>Country_New Zealand</th>\n",
       "      <th>Country_Papua New Guinea</th>\n",
       "      <th>Country_Philippines</th>\n",
       "      <th>Country_Republic of Korea</th>\n",
       "      <th>Country_Singapore</th>\n",
       "      <th>Country_Viet Nam</th>\n",
       "      <th>WHOREGION_Western Pacific Region of WHO</th>\n",
       "      <th>FLUREGION_Eastern Asia</th>\n",
       "      <th>FLUREGION_Oceania Melanesia Polynesia</th>\n",
       "      <th>FLUREGION_South-East Asia</th>\n",
       "    </tr>\n",
       "  </thead>\n",
       "  <tbody>\n",
       "    <tr>\n",
       "      <th>0</th>\n",
       "      <td>2000-01-09</td>\n",
       "      <td>2000</td>\n",
       "      <td>1</td>\n",
       "      <td>2000-01-03</td>\n",
       "      <td>0.0</td>\n",
       "      <td>0.0</td>\n",
       "      <td>1.0</td>\n",
       "      <td>0.0</td>\n",
       "      <td>0.0</td>\n",
       "      <td>1.0</td>\n",
       "      <td>...</td>\n",
       "      <td>0</td>\n",
       "      <td>0</td>\n",
       "      <td>0</td>\n",
       "      <td>0</td>\n",
       "      <td>0</td>\n",
       "      <td>0</td>\n",
       "      <td>1</td>\n",
       "      <td>0</td>\n",
       "      <td>1</td>\n",
       "      <td>0</td>\n",
       "    </tr>\n",
       "  </tbody>\n",
       "</table>\n",
       "<p>1 rows × 35 columns</p>\n",
       "</div>"
      ],
      "text/plain": [
       "          ds  Year  Week      SDATE  AH1  AH1N12009  AH3  AH5  ANOTSUBTYPED  \\\n",
       "0 2000-01-09  2000     1 2000-01-03  0.0        0.0  1.0  0.0           0.0   \n",
       "\n",
       "   INF_A  ...  Country_New Zealand  Country_Papua New Guinea  \\\n",
       "0    1.0  ...                    0                         0   \n",
       "\n",
       "   Country_Philippines  Country_Republic of Korea  Country_Singapore  \\\n",
       "0                    0                          0                  0   \n",
       "\n",
       "   Country_Viet Nam  WHOREGION_Western Pacific Region of WHO  \\\n",
       "0                 0                                        1   \n",
       "\n",
       "   FLUREGION_Eastern Asia  FLUREGION_Oceania Melanesia Polynesia  \\\n",
       "0                       0                                      1   \n",
       "\n",
       "   FLUREGION_South-East Asia  \n",
       "0                          0  \n",
       "\n",
       "[1 rows x 35 columns]"
      ]
     },
     "execution_count": 36,
     "metadata": {},
     "output_type": "execute_result"
    }
   ],
   "source": [
    "prophet_df.head(1)"
   ]
  },
  {
   "cell_type": "code",
   "execution_count": 37,
   "id": "5c73de47",
   "metadata": {
    "execution": {
     "iopub.execute_input": "2022-05-01T18:42:43.071289Z",
     "iopub.status.busy": "2022-05-01T18:42:43.070654Z",
     "iopub.status.idle": "2022-05-01T18:44:43.902308Z",
     "shell.execute_reply": "2022-05-01T18:44:43.901370Z"
    },
    "papermill": {
     "duration": 121.032737,
     "end_time": "2022-05-01T18:44:44.006488",
     "exception": false,
     "start_time": "2022-05-01T18:42:42.973751",
     "status": "completed"
    },
    "tags": []
   },
   "outputs": [
    {
     "name": "stdout",
     "output_type": "stream",
     "text": [
      "Initial log joint probability = -16.6582\n",
      "    Iter      log prob        ||dx||      ||grad||       alpha      alpha0  # evals  Notes \n",
      "      99        114541   1.97731e-05   4.40014e+06      0.3718      0.3718      134   \n",
      "    Iter      log prob        ||dx||      ||grad||       alpha      alpha0  # evals  Notes \n",
      "     199        114614   4.52409e-06        423072           1           1      241   \n",
      "    Iter      log prob        ||dx||      ||grad||       alpha      alpha0  # evals  Notes \n",
      "     299        114634   1.61156e-06        414096           1           1      346   \n",
      "    Iter      log prob        ||dx||      ||grad||       alpha      alpha0  # evals  Notes \n",
      "     399        114642   9.11714e-07        613663      0.4514      0.4514      449   \n",
      "    Iter      log prob        ||dx||      ||grad||       alpha      alpha0  # evals  Notes \n",
      "     499        114665   2.22633e-05   1.79205e+06      0.7027      0.7027      556   \n",
      "    Iter      log prob        ||dx||      ||grad||       alpha      alpha0  # evals  Notes \n",
      "     599        114908    0.00020133   4.00214e+06      0.3998           1      664   \n",
      "    Iter      log prob        ||dx||      ||grad||       alpha      alpha0  # evals  Notes \n",
      "     699        115095   0.000155101   2.65587e+06           1           1      770   \n",
      "    Iter      log prob        ||dx||      ||grad||       alpha      alpha0  # evals  Notes \n",
      "     799        115185   9.75164e-05   2.47373e+06           1           1      881   \n",
      "    Iter      log prob        ||dx||      ||grad||       alpha      alpha0  # evals  Notes \n",
      "     899        115247   2.50577e-06        360069           1           1      990   \n",
      "    Iter      log prob        ||dx||      ||grad||       alpha      alpha0  # evals  Notes \n",
      "     999        115288   1.63652e-06        999800      0.5665      0.5665     1101   \n",
      "    Iter      log prob        ||dx||      ||grad||       alpha      alpha0  # evals  Notes \n",
      "    1099        115322   2.88721e-07        235855           1           1     1212   \n",
      "    Iter      log prob        ||dx||      ||grad||       alpha      alpha0  # evals  Notes \n",
      "    1199        115333    5.6135e-07        387725      0.2381           1     1325   \n",
      "    Iter      log prob        ||dx||      ||grad||       alpha      alpha0  # evals  Notes \n",
      "    1299        115343   9.59582e-07        271990           1           1     1438   \n",
      "    Iter      log prob        ||dx||      ||grad||       alpha      alpha0  # evals  Notes \n",
      "    1399        115347   1.33757e-06        212411        4.72       0.472     1548   \n",
      "    Iter      log prob        ||dx||      ||grad||       alpha      alpha0  # evals  Notes \n",
      "    1499        115348   2.68127e-06        414972      0.8905      0.8905     1653   \n",
      "    Iter      log prob        ||dx||      ||grad||       alpha      alpha0  # evals  Notes \n",
      "    1599        115351   1.07533e-06        322871           1           1     1760   \n",
      "    Iter      log prob        ||dx||      ||grad||       alpha      alpha0  # evals  Notes \n",
      "    1699        115353   5.88685e-07       89348.4           1           1     1864   \n",
      "    Iter      log prob        ||dx||      ||grad||       alpha      alpha0  # evals  Notes \n",
      "    1799        115355   1.50381e-06        356200           1           1     1974   \n",
      "    Iter      log prob        ||dx||      ||grad||       alpha      alpha0  # evals  Notes \n",
      "    1899        115359   1.16446e-06        400989           1           1     2080   \n",
      "    Iter      log prob        ||dx||      ||grad||       alpha      alpha0  # evals  Notes \n",
      "    1999        115365   1.17684e-05        951541           1           1     2190   \n",
      "    Iter      log prob        ||dx||      ||grad||       alpha      alpha0  # evals  Notes \n",
      "    2099        115407   9.68004e-07        528872           1           1     2300   \n",
      "    Iter      log prob        ||dx||      ||grad||       alpha      alpha0  # evals  Notes \n",
      "    2199        115420   3.38598e-07        143192           1           1     2409   \n",
      "    Iter      log prob        ||dx||      ||grad||       alpha      alpha0  # evals  Notes \n",
      "    2299        115438   1.47449e-06        243439           1           1     2517   \n",
      "    Iter      log prob        ||dx||      ||grad||       alpha      alpha0  # evals  Notes \n",
      "    2399        115445   9.87927e-07        266094           1           1     2621   \n",
      "    Iter      log prob        ||dx||      ||grad||       alpha      alpha0  # evals  Notes \n",
      "    2499        115447   1.24335e-07        177694      0.4336      0.4336     2727   \n",
      "    Iter      log prob        ||dx||      ||grad||       alpha      alpha0  # evals  Notes \n",
      "    2599        115452   4.26991e-06        159553           1           1     2839   \n",
      "    Iter      log prob        ||dx||      ||grad||       alpha      alpha0  # evals  Notes \n",
      "    2699        115459   3.80628e-05        843636           1           1     2943   \n",
      "    Iter      log prob        ||dx||      ||grad||       alpha      alpha0  # evals  Notes \n",
      "    2799        115465    5.8576e-06        980376           1           1     3050   \n",
      "    Iter      log prob        ||dx||      ||grad||       alpha      alpha0  # evals  Notes \n",
      "    2899        115474   1.77291e-06        807220           1           1     3159   \n",
      "    Iter      log prob        ||dx||      ||grad||       alpha      alpha0  # evals  Notes \n",
      "    2999        115478   5.16526e-07        207208           1           1     3268   \n",
      "    Iter      log prob        ||dx||      ||grad||       alpha      alpha0  # evals  Notes \n",
      "    3099        115485   1.06924e-06        249718           1           1     3373   \n",
      "    Iter      log prob        ||dx||      ||grad||       alpha      alpha0  # evals  Notes \n",
      "    3199        115487   5.03279e-06        485899           1           1     3478   \n",
      "    Iter      log prob        ||dx||      ||grad||       alpha      alpha0  # evals  Notes \n",
      "    3299        115489   3.82843e-07        144726      0.8755      0.8755     3583   \n",
      "    Iter      log prob        ||dx||      ||grad||       alpha      alpha0  # evals  Notes \n",
      "    3399        115499    1.5777e-06   1.31659e+06      0.6428      0.6428     3687   \n",
      "    Iter      log prob        ||dx||      ||grad||       alpha      alpha0  # evals  Notes \n",
      "    3499        115506   2.08722e-07        337054       0.693       0.693     3796   \n",
      "    Iter      log prob        ||dx||      ||grad||       alpha      alpha0  # evals  Notes \n",
      "    3599        115507   2.34597e-07        177512           1           1     3903   \n",
      "    Iter      log prob        ||dx||      ||grad||       alpha      alpha0  # evals  Notes \n",
      "    3699        115507   1.64488e-07         76307           1           1     4008   \n",
      "    Iter      log prob        ||dx||      ||grad||       alpha      alpha0  # evals  Notes \n",
      "    3799        115510   1.22562e-06        392709       0.428       0.428     4115   \n",
      "    Iter      log prob        ||dx||      ||grad||       alpha      alpha0  # evals  Notes \n",
      "    3899        115513   9.85286e-07        163985           1           1     4225   \n",
      "    Iter      log prob        ||dx||      ||grad||       alpha      alpha0  # evals  Notes \n",
      "    3999        115515   1.43233e-07        133887           1           1     4330   \n",
      "    Iter      log prob        ||dx||      ||grad||       alpha      alpha0  # evals  Notes \n",
      "    4099        115517    5.7069e-06        269247           1           1     4441   \n",
      "    Iter      log prob        ||dx||      ||grad||       alpha      alpha0  # evals  Notes \n",
      "    4199        115520   4.32514e-07       98301.3           1           1     4544   \n",
      "    Iter      log prob        ||dx||      ||grad||       alpha      alpha0  # evals  Notes \n",
      "    4299        115521   2.88629e-06        487631           1           1     4656   \n",
      "    Iter      log prob        ||dx||      ||grad||       alpha      alpha0  # evals  Notes \n",
      "    4399        115524   1.56602e-06        173786           1           1     4764   \n",
      "    Iter      log prob        ||dx||      ||grad||       alpha      alpha0  # evals  Notes \n",
      "    4499        115529   1.02281e-06        713171      0.4809      0.4809     4873   \n",
      "    Iter      log prob        ||dx||      ||grad||       alpha      alpha0  # evals  Notes \n",
      "    4599        115530   1.05497e-06        290427           1           1     4983   \n",
      "    Iter      log prob        ||dx||      ||grad||       alpha      alpha0  # evals  Notes \n",
      "    4699        115531   9.53749e-07        265847           1           1     5090   \n",
      "    Iter      log prob        ||dx||      ||grad||       alpha      alpha0  # evals  Notes \n",
      "    4799        115536   5.25985e-06        640941      0.7403      0.7403     5202   \n",
      "    Iter      log prob        ||dx||      ||grad||       alpha      alpha0  # evals  Notes \n",
      "    4899        115544   4.65237e-07        492726      0.2881      0.2881     5308   \n",
      "    Iter      log prob        ||dx||      ||grad||       alpha      alpha0  # evals  Notes \n",
      "    4999        115549   4.20897e-05        644747           1           1     5416   \n",
      "    Iter      log prob        ||dx||      ||grad||       alpha      alpha0  # evals  Notes \n",
      "    5099        115553   3.03209e-07       66930.1           1           1     5520   \n",
      "    Iter      log prob        ||dx||      ||grad||       alpha      alpha0  # evals  Notes \n",
      "    5199        115555   7.41498e-06        187633      0.9996     0.09996     5630   \n",
      "    Iter      log prob        ||dx||      ||grad||       alpha      alpha0  # evals  Notes \n",
      "    5299        115557   1.96957e-06        871791       0.602       0.602     5738   \n",
      "    Iter      log prob        ||dx||      ||grad||       alpha      alpha0  # evals  Notes \n",
      "    5399        115563   8.40893e-06        642444      0.3252           1     5848   \n",
      "    Iter      log prob        ||dx||      ||grad||       alpha      alpha0  # evals  Notes \n",
      "    5499        115573   7.25306e-07        115128           1           1     5957   \n",
      "    Iter      log prob        ||dx||      ||grad||       alpha      alpha0  # evals  Notes \n",
      "    5599        115574   3.90497e-07       59217.4           1           1     6065   \n",
      "    Iter      log prob        ||dx||      ||grad||       alpha      alpha0  # evals  Notes \n",
      "    5699        115575   7.57085e-07        306663           1           1     6175   \n",
      "    Iter      log prob        ||dx||      ||grad||       alpha      alpha0  # evals  Notes \n",
      "    5799        115587   4.74821e-05   1.20795e+06      0.4939      0.4939     6288   \n",
      "    Iter      log prob        ||dx||      ||grad||       alpha      alpha0  # evals  Notes \n",
      "    5899        115608   2.67739e-06   1.29357e+06      0.4911      0.4911     6398   \n",
      "    Iter      log prob        ||dx||      ||grad||       alpha      alpha0  # evals  Notes \n",
      "    5999        115618   2.05296e-05   1.17113e+06           1           1     6503   \n",
      "    Iter      log prob        ||dx||      ||grad||       alpha      alpha0  # evals  Notes \n",
      "    6099        115621   7.37111e-07        241043           1           1     6611   \n",
      "    Iter      log prob        ||dx||      ||grad||       alpha      alpha0  # evals  Notes \n",
      "    6199        115622   5.06138e-07        267628      0.3744      0.3744     6718   \n",
      "    Iter      log prob        ||dx||      ||grad||       alpha      alpha0  # evals  Notes \n",
      "    6299        115624   1.48501e-07       86191.6           1           1     6823   \n",
      "    Iter      log prob        ||dx||      ||grad||       alpha      alpha0  # evals  Notes \n",
      "    6399        115625   2.60073e-08       69659.5      0.7015      0.7015     6933   \n",
      "    Iter      log prob        ||dx||      ||grad||       alpha      alpha0  # evals  Notes \n",
      "    6499        115626   5.78315e-07        173831           1           1     7039   \n",
      "    Iter      log prob        ||dx||      ||grad||       alpha      alpha0  # evals  Notes \n",
      "    6599        115627   1.44902e-07        108557           1           1     7146   \n",
      "    Iter      log prob        ||dx||      ||grad||       alpha      alpha0  # evals  Notes \n",
      "    6699        115635   3.26213e-07        469129           1           1     7253   \n",
      "    Iter      log prob        ||dx||      ||grad||       alpha      alpha0  # evals  Notes \n",
      "    6799        115641   1.51614e-06        385999           1           1     7359   \n",
      "    Iter      log prob        ||dx||      ||grad||       alpha      alpha0  # evals  Notes \n",
      "    6899        115643   1.80674e-06        202927           1           1     7469   \n",
      "    Iter      log prob        ||dx||      ||grad||       alpha      alpha0  # evals  Notes \n",
      "    6999        115644   1.03366e-07       80312.8           1           1     7576   \n",
      "    Iter      log prob        ||dx||      ||grad||       alpha      alpha0  # evals  Notes \n",
      "    7099        115645   3.50807e-06        367518           1           1     7681   \n",
      "    Iter      log prob        ||dx||      ||grad||       alpha      alpha0  # evals  Notes \n",
      "    7199        115654   2.11541e-05    1.6635e+06      0.3109      0.3109     7788   \n",
      "    Iter      log prob        ||dx||      ||grad||       alpha      alpha0  # evals  Notes \n",
      "    7299        115692   3.79694e-05   2.04199e+06           1           1     7891   \n",
      "    Iter      log prob        ||dx||      ||grad||       alpha      alpha0  # evals  Notes \n",
      "    7399        115743   7.05738e-05   1.01542e+06           1           1     7995   \n",
      "    Iter      log prob        ||dx||      ||grad||       alpha      alpha0  # evals  Notes \n",
      "    7499        115868   3.78124e-05   1.35778e+06           1           1     8106   \n",
      "    Iter      log prob        ||dx||      ||grad||       alpha      alpha0  # evals  Notes \n",
      "    7599        115901   1.61138e-05        758055           1           1     8211   \n",
      "    Iter      log prob        ||dx||      ||grad||       alpha      alpha0  # evals  Notes \n",
      "    7699        115912   1.16526e-06        226040           1           1     8321   \n",
      "    Iter      log prob        ||dx||      ||grad||       alpha      alpha0  # evals  Notes \n",
      "    7799        115913   5.55856e-07        184404       0.441           1     8431   \n",
      "    Iter      log prob        ||dx||      ||grad||       alpha      alpha0  # evals  Notes \n",
      "    7899        115914    5.8926e-07       81357.6           1           1     8540   \n",
      "    Iter      log prob        ||dx||      ||grad||       alpha      alpha0  # evals  Notes \n",
      "    7999        115917   5.65721e-06   1.86612e+06           1           1     8651   \n",
      "    Iter      log prob        ||dx||      ||grad||       alpha      alpha0  # evals  Notes \n",
      "    8099        115920   4.54735e-06        629787           1           1     8762   \n",
      "    Iter      log prob        ||dx||      ||grad||       alpha      alpha0  # evals  Notes \n",
      "    8199        115921   2.84433e-07        143289           1           1     8872   \n",
      "    Iter      log prob        ||dx||      ||grad||       alpha      alpha0  # evals  Notes \n",
      "    8299        115922   2.34485e-05        297562           1           1     8980   \n",
      "    Iter      log prob        ||dx||      ||grad||       alpha      alpha0  # evals  Notes \n",
      "    8399        115924   6.62434e-06        281491           1           1     9090   \n",
      "    Iter      log prob        ||dx||      ||grad||       alpha      alpha0  # evals  Notes \n",
      "    8499        115926   8.39625e-08        158342      0.9914      0.9914     9198   \n",
      "    Iter      log prob        ||dx||      ||grad||       alpha      alpha0  # evals  Notes \n",
      "    8559        115927    7.6529e-09       96434.1      0.2259      0.2259     9265   \n",
      "Optimization terminated normally: \n",
      "  Convergence detected: absolute parameter change was below tolerance\n"
     ]
    }
   ],
   "source": [
    "#split data\n",
    "from sklearn.model_selection import train_test_split\n",
    "\n",
    "x_train, x_test= train_test_split(prophet_df, test_size=0.3)\n",
    "x_train.sort_values(by='ds', axis=0, ascending=True, inplace=True)\n",
    "x_test.sort_values(by='ds', axis=0, ascending=True, inplace=True)\n",
    "#Additional Regressor\n",
    "pro_regressor= Prophet()\n",
    "for r in regs:\n",
    "    pro_regressor.add_regressor(r)\n",
    "#Fitting the data\n",
    "pro_regressor.fit(x_train)\n",
    "#serialise prophet regressor\n",
    "filename = 'prophet.sav'\n",
    "pickle. dump(pro_regressor, open(filename, 'wb'))"
   ]
  },
  {
   "cell_type": "code",
   "execution_count": 38,
   "id": "acf3d855",
   "metadata": {
    "execution": {
     "iopub.execute_input": "2022-05-01T18:44:44.206864Z",
     "iopub.status.busy": "2022-05-01T18:44:44.206434Z",
     "iopub.status.idle": "2022-05-01T18:44:51.032516Z",
     "shell.execute_reply": "2022-05-01T18:44:51.031620Z"
    },
    "papermill": {
     "duration": 6.929268,
     "end_time": "2022-05-01T18:44:51.035096",
     "exception": false,
     "start_time": "2022-05-01T18:44:44.105828",
     "status": "completed"
    },
    "tags": []
   },
   "outputs": [
    {
     "data": {
      "image/png": "[encoded data removed]",
      "text/plain": [
       "<Figure size 720x432 with 1 Axes>"
      ]
     },
     "execution_count": 38,
     "metadata": {},
     "output_type": "execute_result"
    },
    {
     "data": {
      "image/png": "[encoded data removed]",
      "text/plain": [
       "<Figure size 720x432 with 1 Axes>"
      ]
     },
     "metadata": {},
     "output_type": "display_data"
    }
   ],
   "source": [
    "future_data = pro_regressor.make_future_dataframe(periods=14)\n",
    "#forecast the data for Test  data\n",
    "forecast_data = pro_regressor.predict(x_test)\n",
    "pro_regressor.plot(forecast_data)"
   ]
  },
  {
   "cell_type": "code",
   "execution_count": 39,
   "id": "a1fef1f6",
   "metadata": {
    "execution": {
     "iopub.execute_input": "2022-05-01T18:44:51.238153Z",
     "iopub.status.busy": "2022-05-01T18:44:51.237555Z",
     "iopub.status.idle": "2022-05-01T18:44:51.457874Z",
     "shell.execute_reply": "2022-05-01T18:44:51.456969Z"
    },
    "papermill": {
     "duration": 0.324468,
     "end_time": "2022-05-01T18:44:51.460124",
     "exception": false,
     "start_time": "2022-05-01T18:44:51.135656",
     "status": "completed"
    },
    "tags": []
   },
   "outputs": [
    {
     "data": {
      "text/plain": [
       "<matplotlib.collections.PathCollection at 0x7fc110f186d0>"
      ]
     },
     "execution_count": 39,
     "metadata": {},
     "output_type": "execute_result"
    },
    {
     "data": {
      "image/png": "[encoded data removed]",
      "text/plain": [
       "<Figure size 432x288 with 1 Axes>"
      ]
     },
     "metadata": {
      "needs_background": "light"
     },
     "output_type": "display_data"
    }
   ],
   "source": [
    "plt.scatter(x=x_test.Year, y=x_test.y, s=5)"
   ]
  },
  {
   "cell_type": "code",
   "execution_count": 40,
   "id": "daafda0e",
   "metadata": {
    "execution": {
     "iopub.execute_input": "2022-05-01T18:44:51.665960Z",
     "iopub.status.busy": "2022-05-01T18:44:51.665645Z",
     "iopub.status.idle": "2022-05-01T18:44:52.055742Z",
     "shell.execute_reply": "2022-05-01T18:44:52.054926Z"
    },
    "papermill": {
     "duration": 0.495086,
     "end_time": "2022-05-01T18:44:52.058078",
     "exception": false,
     "start_time": "2022-05-01T18:44:51.562992",
     "status": "completed"
    },
    "tags": []
   },
   "outputs": [
    {
     "data": {
      "text/plain": [
       "<matplotlib.collections.PathCollection at 0x7fc1117272d0>"
      ]
     },
     "execution_count": 40,
     "metadata": {},
     "output_type": "execute_result"
    },
    {
     "data": {
      "image/png": "[encoded data removed]",
      "text/plain": [
       "<Figure size 432x288 with 1 Axes>"
      ]
     },
     "metadata": {
      "needs_background": "light"
     },
     "output_type": "display_data"
    }
   ],
   "source": [
    "#compare 14day forecast with test data\n",
    "x=x_test.iloc[-15:,:]\n",
    "plt.scatter(x=x.ds, y=x.y, s=50)\n",
    "forecast=forecast_data.iloc[-15:,:]\n",
    "plt.scatter(x=forecast.ds, y=forecast.yhat, s=5)"
   ]
  },
  {
   "cell_type": "code",
   "execution_count": 41,
   "id": "a6dde6f3",
   "metadata": {
    "execution": {
     "iopub.execute_input": "2022-05-01T18:44:52.263298Z",
     "iopub.status.busy": "2022-05-01T18:44:52.263038Z",
     "iopub.status.idle": "2022-05-01T18:44:57.897011Z",
     "shell.execute_reply": "2022-05-01T18:44:57.896100Z"
    },
    "papermill": {
     "duration": 5.739673,
     "end_time": "2022-05-01T18:44:57.899481",
     "exception": false,
     "start_time": "2022-05-01T18:44:52.159808",
     "status": "completed"
    },
    "tags": []
   },
   "outputs": [],
   "source": [
    "import os\n",
    "import pandas as pd\n",
    "import numpy as np\n",
    "import gc\n",
    "import matplotlib.pyplot as plt\n",
    "import tensorflow as tf\n",
    "from tensorflow.keras import layers\n",
    "from tensorflow import keras\n",
    "from scipy import stats\n",
    "import seaborn as sns"
   ]
  },
  {
   "cell_type": "code",
   "execution_count": 42,
   "id": "5f10c892",
   "metadata": {
    "execution": {
     "iopub.execute_input": "2022-05-01T18:44:58.107153Z",
     "iopub.status.busy": "2022-05-01T18:44:58.106873Z",
     "iopub.status.idle": "2022-05-01T18:44:58.426242Z",
     "shell.execute_reply": "2022-05-01T18:44:58.425387Z"
    },
    "papermill": {
     "duration": 0.426548,
     "end_time": "2022-05-01T18:44:58.428655",
     "exception": false,
     "start_time": "2022-05-01T18:44:58.002107",
     "status": "completed"
    },
    "tags": []
   },
   "outputs": [
    {
     "name": "stderr",
     "output_type": "stream",
     "text": [
      "2022-05-01 18:44:58.146854: I tensorflow/core/common_runtime/process_util.cc:146] Creating new thread pool with default inter op setting: 2. Tune using inter_op_parallelism_threads for best performance.\n",
      "2022-05-01 18:44:58.256351: I tensorflow/compiler/mlir/mlir_graph_optimization_pass.cc:185] None of the MLIR Optimization Passes are enabled (registered 2)\n"
     ]
    },
    {
     "name": "stdout",
     "output_type": "stream",
     "text": [
      "CPU times: user 173 ms, sys: 21.2 ms, total: 194 ms\n",
      "Wall time: 314 ms\n"
     ]
    }
   ],
   "source": [
    "%%time\n",
    "#Lookup layer layer for week\n",
    "week = data.Week\n",
    "weeks = list(week.unique())\n",
    "week_size = len(weeks) + 1\n",
    "week_lookup_layer = layers.IntegerLookup(max_tokens=week_size)\n",
    "week_lookup_layer.adapt(pd.DataFrame({\"weeks\":weeks}))"
   ]
  },
  {
   "cell_type": "code",
   "execution_count": 43,
   "id": "b2c90d9c",
   "metadata": {
    "execution": {
     "iopub.execute_input": "2022-05-01T18:44:58.652822Z",
     "iopub.status.busy": "2022-05-01T18:44:58.652372Z",
     "iopub.status.idle": "2022-05-01T18:44:58.658478Z",
     "shell.execute_reply": "2022-05-01T18:44:58.657778Z"
    },
    "papermill": {
     "duration": 0.121123,
     "end_time": "2022-05-01T18:44:58.660373",
     "exception": false,
     "start_time": "2022-05-01T18:44:58.539250",
     "status": "completed"
    },
    "tags": []
   },
   "outputs": [
    {
     "data": {
      "text/plain": [
       "Index(['Country', 'WHOREGION', 'FLUREGION', 'Year', 'Week', 'SDATE', 'AH1',\n",
       "       'AH1N12009', 'AH3', 'AH5', 'ANOTSUBTYPED', 'INF_A', 'BYAMAGATA',\n",
       "       'BVICTORIA', 'BNOTDETERMINED', 'INF_B', 'ALL_INF', 'ALL_INF2'],\n",
       "      dtype='object')"
      ]
     },
     "execution_count": 43,
     "metadata": {},
     "output_type": "execute_result"
    }
   ],
   "source": [
    "data.columns"
   ]
  },
  {
   "cell_type": "markdown",
   "id": "32d1f715",
   "metadata": {
    "papermill": {
     "duration": 0.104344,
     "end_time": "2022-05-01T18:44:58.868809",
     "exception": false,
     "start_time": "2022-05-01T18:44:58.764465",
     "status": "completed"
    },
    "tags": []
   },
   "source": [
    "# Epidemic Classifier \n",
    "> Now that can predict future trends, we need to know if we are predicting an epidemic or not. We build a classification model for that"
   ]
  },
  {
   "cell_type": "code",
   "execution_count": 44,
   "id": "907fc65b",
   "metadata": {
    "execution": {
     "iopub.execute_input": "2022-05-01T18:44:59.123209Z",
     "iopub.status.busy": "2022-05-01T18:44:59.122063Z",
     "iopub.status.idle": "2022-05-01T18:44:59.132647Z",
     "shell.execute_reply": "2022-05-01T18:44:59.131774Z"
    },
    "papermill": {
     "duration": 0.154064,
     "end_time": "2022-05-01T18:44:59.135000",
     "exception": false,
     "start_time": "2022-05-01T18:44:58.980936",
     "status": "completed"
    },
    "tags": []
   },
   "outputs": [
    {
     "data": {
      "text/plain": [
       "Year                                                 int64\n",
       "Week                                                 int64\n",
       "SDATE                                       datetime64[ns]\n",
       "AH1                                                float64\n",
       "AH1N12009                                          float64\n",
       "AH3                                                float64\n",
       "AH5                                                float64\n",
       "ANOTSUBTYPED                                       float64\n",
       "INF_A                                              float64\n",
       "BYAMAGATA                                          float64\n",
       "BVICTORIA                                          float64\n",
       "BNOTDETERMINED                                     float64\n",
       "INF_B                                              float64\n",
       "ALL_INF                                            float64\n",
       "ALL_INF2                                           float64\n",
       "Country_Australia                                    uint8\n",
       "Country_Cambodia                                     uint8\n",
       "Country_China                                        uint8\n",
       "Country_Fiji                                         uint8\n",
       "Country_Japan                                        uint8\n",
       "Country_Lao People's Democratic Republic             uint8\n",
       "Country_Malaysia                                     uint8\n",
       "Country_Mongolia                                     uint8\n",
       "Country_New Caledonia                                uint8\n",
       "Country_New Zealand                                  uint8\n",
       "Country_Papua New Guinea                             uint8\n",
       "Country_Philippines                                  uint8\n",
       "Country_Republic of Korea                            uint8\n",
       "Country_Singapore                                    uint8\n",
       "Country_Viet Nam                                     uint8\n",
       "WHOREGION_Western Pacific Region of WHO              uint8\n",
       "FLUREGION_Eastern Asia                               uint8\n",
       "FLUREGION_Oceania Melanesia Polynesia                uint8\n",
       "FLUREGION_South-East Asia                            uint8\n",
       "dtype: object"
      ]
     },
     "execution_count": 44,
     "metadata": {},
     "output_type": "execute_result"
    }
   ],
   "source": [
    "cat_data.dtypes"
   ]
  },
  {
   "cell_type": "markdown",
   "id": "d7c095a2",
   "metadata": {
    "papermill": {
     "duration": 0.129707,
     "end_time": "2022-05-01T18:44:59.376778",
     "exception": false,
     "start_time": "2022-05-01T18:44:59.247071",
     "status": "completed"
    },
    "tags": []
   },
   "source": [
    "### Transform categorical columns"
   ]
  },
  {
   "cell_type": "code",
   "execution_count": 45,
   "id": "9ff709e2",
   "metadata": {
    "execution": {
     "iopub.execute_input": "2022-05-01T18:44:59.591306Z",
     "iopub.status.busy": "2022-05-01T18:44:59.590565Z",
     "iopub.status.idle": "2022-05-01T18:44:59.607875Z",
     "shell.execute_reply": "2022-05-01T18:44:59.606826Z"
    },
    "papermill": {
     "duration": 0.127122,
     "end_time": "2022-05-01T18:44:59.610191",
     "exception": false,
     "start_time": "2022-05-01T18:44:59.483069",
     "status": "completed"
    },
    "tags": []
   },
   "outputs": [
    {
     "data": {
      "text/plain": [
       "array([4, 4, 4, ..., 4, 4, 4])"
      ]
     },
     "execution_count": 45,
     "metadata": {},
     "output_type": "execute_result"
    }
   ],
   "source": [
    "## Label encode the text\n",
    "from sklearn.preprocessing import LabelEncoder\n",
    "# creating instance of labelencoder\n",
    "labelencoder = LabelEncoder()#one hot encode the categores from label encoder\n",
    "# using the encoder to encode the categorical columns\n",
    "Y= labelencoder.fit_transform(target)\n",
    "Y\n",
    "#y=y.reshape(-1, 1) \n"
   ]
  },
  {
   "cell_type": "code",
   "execution_count": 46,
   "id": "6c5305ec",
   "metadata": {
    "execution": {
     "iopub.execute_input": "2022-05-01T18:44:59.826079Z",
     "iopub.status.busy": "2022-05-01T18:44:59.825632Z",
     "iopub.status.idle": "2022-05-01T18:44:59.849558Z",
     "shell.execute_reply": "2022-05-01T18:44:59.848719Z"
    },
    "papermill": {
     "duration": 0.134858,
     "end_time": "2022-05-01T18:44:59.851563",
     "exception": false,
     "start_time": "2022-05-01T18:44:59.716705",
     "status": "completed"
    },
    "tags": []
   },
   "outputs": [
    {
     "data": {
      "text/html": [
       "<div>\n",
       "<style scoped>\n",
       "    .dataframe tbody tr th:only-of-type {\n",
       "        vertical-align: middle;\n",
       "    }\n",
       "\n",
       "    .dataframe tbody tr th {\n",
       "        vertical-align: top;\n",
       "    }\n",
       "\n",
       "    .dataframe thead th {\n",
       "        text-align: right;\n",
       "    }\n",
       "</style>\n",
       "<table border=\"1\" class=\"dataframe\">\n",
       "  <thead>\n",
       "    <tr style=\"text-align: right;\">\n",
       "      <th></th>\n",
       "      <th>Year</th>\n",
       "      <th>Week</th>\n",
       "      <th>AH1</th>\n",
       "      <th>AH1N12009</th>\n",
       "      <th>AH3</th>\n",
       "      <th>AH5</th>\n",
       "      <th>ANOTSUBTYPED</th>\n",
       "      <th>INF_A</th>\n",
       "      <th>BYAMAGATA</th>\n",
       "      <th>BVICTORIA</th>\n",
       "      <th>...</th>\n",
       "      <th>Country_New Zealand</th>\n",
       "      <th>Country_Papua New Guinea</th>\n",
       "      <th>Country_Philippines</th>\n",
       "      <th>Country_Republic of Korea</th>\n",
       "      <th>Country_Singapore</th>\n",
       "      <th>Country_Viet Nam</th>\n",
       "      <th>WHOREGION_Western Pacific Region of WHO</th>\n",
       "      <th>FLUREGION_Eastern Asia</th>\n",
       "      <th>FLUREGION_Oceania Melanesia Polynesia</th>\n",
       "      <th>FLUREGION_South-East Asia</th>\n",
       "    </tr>\n",
       "    <tr>\n",
       "      <th>EDATE</th>\n",
       "      <th></th>\n",
       "      <th></th>\n",
       "      <th></th>\n",
       "      <th></th>\n",
       "      <th></th>\n",
       "      <th></th>\n",
       "      <th></th>\n",
       "      <th></th>\n",
       "      <th></th>\n",
       "      <th></th>\n",
       "      <th></th>\n",
       "      <th></th>\n",
       "      <th></th>\n",
       "      <th></th>\n",
       "      <th></th>\n",
       "      <th></th>\n",
       "      <th></th>\n",
       "      <th></th>\n",
       "      <th></th>\n",
       "      <th></th>\n",
       "      <th></th>\n",
       "    </tr>\n",
       "  </thead>\n",
       "  <tbody>\n",
       "    <tr>\n",
       "      <th>2000-01-09</th>\n",
       "      <td>2000</td>\n",
       "      <td>1</td>\n",
       "      <td>0.0</td>\n",
       "      <td>0.0</td>\n",
       "      <td>1.0</td>\n",
       "      <td>0.0</td>\n",
       "      <td>0.0</td>\n",
       "      <td>1.0</td>\n",
       "      <td>0.0</td>\n",
       "      <td>0.0</td>\n",
       "      <td>...</td>\n",
       "      <td>0</td>\n",
       "      <td>0</td>\n",
       "      <td>0</td>\n",
       "      <td>0</td>\n",
       "      <td>0</td>\n",
       "      <td>0</td>\n",
       "      <td>1</td>\n",
       "      <td>0</td>\n",
       "      <td>1</td>\n",
       "      <td>0</td>\n",
       "    </tr>\n",
       "  </tbody>\n",
       "</table>\n",
       "<p>1 rows × 33 columns</p>\n",
       "</div>"
      ],
      "text/plain": [
       "            Year  Week  AH1  AH1N12009  AH3  AH5  ANOTSUBTYPED  INF_A  \\\n",
       "EDATE                                                                   \n",
       "2000-01-09  2000     1  0.0        0.0  1.0  0.0           0.0    1.0   \n",
       "\n",
       "            BYAMAGATA  BVICTORIA  ...  Country_New Zealand  \\\n",
       "EDATE                             ...                        \n",
       "2000-01-09        0.0        0.0  ...                    0   \n",
       "\n",
       "            Country_Papua New Guinea  Country_Philippines  \\\n",
       "EDATE                                                       \n",
       "2000-01-09                         0                    0   \n",
       "\n",
       "            Country_Republic of Korea  Country_Singapore  Country_Viet Nam  \\\n",
       "EDATE                                                                        \n",
       "2000-01-09                          0                  0                 0   \n",
       "\n",
       "            WHOREGION_Western Pacific Region of WHO  FLUREGION_Eastern Asia  \\\n",
       "EDATE                                                                         \n",
       "2000-01-09                                        1                       0   \n",
       "\n",
       "            FLUREGION_Oceania Melanesia Polynesia  FLUREGION_South-East Asia  \n",
       "EDATE                                                                         \n",
       "2000-01-09                                      1                          0  \n",
       "\n",
       "[1 rows x 33 columns]"
      ]
     },
     "execution_count": 46,
     "metadata": {},
     "output_type": "execute_result"
    }
   ],
   "source": [
    "data2=cat_data\n",
    "_=data2.pop('SDATE')\n",
    "data2.head(1)"
   ]
  },
  {
   "cell_type": "code",
   "execution_count": 47,
   "id": "52643bb8",
   "metadata": {
    "execution": {
     "iopub.execute_input": "2022-05-01T18:45:00.065840Z",
     "iopub.status.busy": "2022-05-01T18:45:00.064845Z",
     "iopub.status.idle": "2022-05-01T18:45:00.077767Z",
     "shell.execute_reply": "2022-05-01T18:45:00.076839Z"
    },
    "papermill": {
     "duration": 0.122901,
     "end_time": "2022-05-01T18:45:00.080154",
     "exception": false,
     "start_time": "2022-05-01T18:44:59.957253",
     "status": "completed"
    },
    "tags": []
   },
   "outputs": [],
   "source": [
    "from sklearn.model_selection import train_test_split\n",
    "\n",
    "X_train, X_test, Y_train, Y_test = train_test_split(data2.iloc[:,3:], Y, test_size=0.3)"
   ]
  },
  {
   "cell_type": "code",
   "execution_count": 48,
   "id": "1180af59",
   "metadata": {
    "execution": {
     "iopub.execute_input": "2022-05-01T18:45:00.294941Z",
     "iopub.status.busy": "2022-05-01T18:45:00.294544Z",
     "iopub.status.idle": "2022-05-01T18:45:01.485261Z",
     "shell.execute_reply": "2022-05-01T18:45:01.484235Z"
    },
    "papermill": {
     "duration": 1.30162,
     "end_time": "2022-05-01T18:45:01.488540",
     "exception": false,
     "start_time": "2022-05-01T18:45:00.186920",
     "status": "completed"
    },
    "tags": []
   },
   "outputs": [],
   "source": [
    "# Model Training\n",
    "\n",
    "from sklearn.linear_model import LogisticRegression\n",
    "# instantiate the model as clf(classifier) and train it\n",
    "\n",
    "outbreak= LogisticRegression()\n",
    "outbreak.fit(X_train.ALL_INF.array.reshape(-1, 1), Y_train)\n",
    "\n",
    "#serialise outbreak regressor\n",
    "filename = 'outbreak.sav'\n",
    "pickle. dump(outbreak, open(filename, 'wb'))"
   ]
  },
  {
   "cell_type": "code",
   "execution_count": 49,
   "id": "c4dbf4d7",
   "metadata": {
    "execution": {
     "iopub.execute_input": "2022-05-01T18:45:01.754408Z",
     "iopub.status.busy": "2022-05-01T18:45:01.754128Z",
     "iopub.status.idle": "2022-05-01T18:45:02.028766Z",
     "shell.execute_reply": "2022-05-01T18:45:02.028080Z"
    },
    "papermill": {
     "duration": 0.385488,
     "end_time": "2022-05-01T18:45:02.031652",
     "exception": false,
     "start_time": "2022-05-01T18:45:01.646164",
     "status": "completed"
    },
    "tags": []
   },
   "outputs": [
    {
     "data": {
      "image/png": "[encoded data removed]",
      "text/plain": [
       "<Figure size 720x432 with 2 Axes>"
      ]
     },
     "metadata": {
      "needs_background": "light"
     },
     "output_type": "display_data"
    }
   ],
   "source": [
    "pred=outbreak.predict(X_test.ALL_INF.array.reshape(-1, 1))\n",
    "# confusiong matrix\n",
    "\n",
    "# Creating  a confusion matrix,which compares the y_test and y_pred\n",
    "from sklearn.metrics import confusion_matrix\n",
    "cmr = confusion_matrix(Y_test, pred)\n",
    "\n",
    "\n",
    "# Creating a dataframe for a array-formatted Confusion matrix,so it will be easy for plotting.\n",
    "cm_dfr = pd.DataFrame(cmr)\n",
    "\n",
    "import seaborn as sns\n",
    "import numpy as np\n",
    "#Plotting the confusion matrix\n",
    "plt.figure(figsize=(10,6))\n",
    "sns.heatmap(cm_dfr/np.sum(cm_dfr), annot=True, cmap='Blues', fmt='.2%')\n",
    "plt.title('Confusion Matrix')\n",
    "plt.ylabel('Actual Values')\n",
    "plt.xlabel('Predicted Values')\n",
    "plt.show()"
   ]
  },
  {
   "cell_type": "markdown",
   "id": "76b842de",
   "metadata": {
    "papermill": {
     "duration": 0.106065,
     "end_time": "2022-05-01T18:45:02.251727",
     "exception": false,
     "start_time": "2022-05-01T18:45:02.145662",
     "status": "completed"
    },
    "tags": []
   },
   "source": [
    "## Classifying the outbreak category of our forecasted data\n",
    "> Now that we have a model that classifies outbreaks, we run it on the forecasts from prophet to classify them"
   ]
  },
  {
   "cell_type": "code",
   "execution_count": 50,
   "id": "e2831935",
   "metadata": {
    "execution": {
     "iopub.execute_input": "2022-05-01T18:45:02.465688Z",
     "iopub.status.busy": "2022-05-01T18:45:02.465279Z",
     "iopub.status.idle": "2022-05-01T18:45:02.473983Z",
     "shell.execute_reply": "2022-05-01T18:45:02.473095Z"
    },
    "papermill": {
     "duration": 0.11777,
     "end_time": "2022-05-01T18:45:02.475990",
     "exception": false,
     "start_time": "2022-05-01T18:45:02.358220",
     "status": "completed"
    },
    "tags": []
   },
   "outputs": [
    {
     "data": {
      "text/plain": [
       "array(['No Report', 'No Report', 'No Report', ..., 'No Report',\n",
       "       'No Report', 'No Report'], dtype=object)"
      ]
     },
     "execution_count": 50,
     "metadata": {},
     "output_type": "execute_result"
    }
   ],
   "source": [
    "preds = outbreak.predict(forecast_data.yhat.array.reshape(-1, 1))\n",
    "y2=labelencoder.inverse_transform(preds)\n",
    "y2"
   ]
  },
  {
   "cell_type": "markdown",
   "id": "7908dd5b",
   "metadata": {
    "papermill": {
     "duration": 0.107419,
     "end_time": "2022-05-01T18:45:02.691265",
     "exception": false,
     "start_time": "2022-05-01T18:45:02.583846",
     "status": "completed"
    },
    "tags": []
   },
   "source": [
    "### Let's check how the outbreak classes of the prophet forecat compares against the test data by plotting a confusion matrix"
   ]
  },
  {
   "cell_type": "code",
   "execution_count": 51,
   "id": "25c1ebe4",
   "metadata": {
    "execution": {
     "iopub.execute_input": "2022-05-01T18:45:02.907385Z",
     "iopub.status.busy": "2022-05-01T18:45:02.907101Z",
     "iopub.status.idle": "2022-05-01T18:45:03.181613Z",
     "shell.execute_reply": "2022-05-01T18:45:03.180973Z"
    },
    "papermill": {
     "duration": 0.385308,
     "end_time": "2022-05-01T18:45:03.183555",
     "exception": false,
     "start_time": "2022-05-01T18:45:02.798247",
     "status": "completed"
    },
    "tags": []
   },
   "outputs": [
    {
     "data": {
      "image/png": "[encoded data removed]",
      "text/plain": [
       "<Figure size 720x432 with 2 Axes>"
      ]
     },
     "metadata": {
      "needs_background": "light"
     },
     "output_type": "display_data"
    }
   ],
   "source": [
    "from sklearn.metrics import confusion_matrix\n",
    "mr = confusion_matrix(pred, preds)\n",
    "# Creating a dataframe for a array-formatted Confusion matrix,so it will be easy for plotting.\n",
    "cm_dr = pd.DataFrame(mr)\n",
    "import seaborn as sns\n",
    "import numpy as np\n",
    "#Plotting the confusion matrix\n",
    "plt.figure(figsize=(10,6))\n",
    "sns.heatmap(cm_dr/np.sum(cm_dr), annot=True, cmap='Greens', fmt='.2%')\n",
    "plt.title('Confusion Matrix')\n",
    "plt.ylabel('Actual Values')\n",
    "plt.xlabel('Predicted Values')\n",
    "plt.show()"
   ]
  },
  {
   "cell_type": "code",
   "execution_count": 52,
   "id": "cf492384",
   "metadata": {
    "execution": {
     "iopub.execute_input": "2022-05-01T18:45:03.402122Z",
     "iopub.status.busy": "2022-05-01T18:45:03.401361Z",
     "iopub.status.idle": "2022-05-01T18:45:03.404525Z",
     "shell.execute_reply": "2022-05-01T18:45:03.403962Z"
    },
    "papermill": {
     "duration": 0.114093,
     "end_time": "2022-05-01T18:45:03.406228",
     "exception": false,
     "start_time": "2022-05-01T18:45:03.292135",
     "status": "completed"
    },
    "tags": []
   },
   "outputs": [],
   "source": [
    "#cat_data=cat_data.reset_index()\n",
    "#cat_data_=cat_data.pop('EDATE')"
   ]
  },
  {
   "cell_type": "code",
   "execution_count": 53,
   "id": "b3ebc759",
   "metadata": {
    "execution": {
     "iopub.execute_input": "2022-05-01T18:45:03.625102Z",
     "iopub.status.busy": "2022-05-01T18:45:03.624790Z",
     "iopub.status.idle": "2022-05-01T18:45:03.646108Z",
     "shell.execute_reply": "2022-05-01T18:45:03.645271Z"
    },
    "papermill": {
     "duration": 0.13366,
     "end_time": "2022-05-01T18:45:03.648071",
     "exception": false,
     "start_time": "2022-05-01T18:45:03.514411",
     "status": "completed"
    },
    "tags": []
   },
   "outputs": [
    {
     "data": {
      "text/html": [
       "<div>\n",
       "<style scoped>\n",
       "    .dataframe tbody tr th:only-of-type {\n",
       "        vertical-align: middle;\n",
       "    }\n",
       "\n",
       "    .dataframe tbody tr th {\n",
       "        vertical-align: top;\n",
       "    }\n",
       "\n",
       "    .dataframe thead th {\n",
       "        text-align: right;\n",
       "    }\n",
       "</style>\n",
       "<table border=\"1\" class=\"dataframe\">\n",
       "  <thead>\n",
       "    <tr style=\"text-align: right;\">\n",
       "      <th></th>\n",
       "      <th>AH1</th>\n",
       "      <th>AH1N12009</th>\n",
       "      <th>AH3</th>\n",
       "      <th>AH5</th>\n",
       "      <th>ANOTSUBTYPED</th>\n",
       "      <th>INF_A</th>\n",
       "      <th>BYAMAGATA</th>\n",
       "      <th>BVICTORIA</th>\n",
       "      <th>BNOTDETERMINED</th>\n",
       "      <th>INF_B</th>\n",
       "    </tr>\n",
       "    <tr>\n",
       "      <th>EDATE</th>\n",
       "      <th></th>\n",
       "      <th></th>\n",
       "      <th></th>\n",
       "      <th></th>\n",
       "      <th></th>\n",
       "      <th></th>\n",
       "      <th></th>\n",
       "      <th></th>\n",
       "      <th></th>\n",
       "      <th></th>\n",
       "    </tr>\n",
       "  </thead>\n",
       "  <tbody>\n",
       "    <tr>\n",
       "      <th>2000-01-09</th>\n",
       "      <td>0.0</td>\n",
       "      <td>0.0</td>\n",
       "      <td>1.0</td>\n",
       "      <td>0.0</td>\n",
       "      <td>0.0</td>\n",
       "      <td>1.0</td>\n",
       "      <td>0.0</td>\n",
       "      <td>0.0</td>\n",
       "      <td>0.0</td>\n",
       "      <td>0.0</td>\n",
       "    </tr>\n",
       "    <tr>\n",
       "      <th>2000-01-16</th>\n",
       "      <td>0.0</td>\n",
       "      <td>0.0</td>\n",
       "      <td>0.0</td>\n",
       "      <td>0.0</td>\n",
       "      <td>1.0</td>\n",
       "      <td>1.0</td>\n",
       "      <td>0.0</td>\n",
       "      <td>0.0</td>\n",
       "      <td>0.0</td>\n",
       "      <td>0.0</td>\n",
       "    </tr>\n",
       "    <tr>\n",
       "      <th>2000-01-23</th>\n",
       "      <td>0.0</td>\n",
       "      <td>0.0</td>\n",
       "      <td>0.0</td>\n",
       "      <td>0.0</td>\n",
       "      <td>2.0</td>\n",
       "      <td>2.0</td>\n",
       "      <td>0.0</td>\n",
       "      <td>0.0</td>\n",
       "      <td>0.0</td>\n",
       "      <td>0.0</td>\n",
       "    </tr>\n",
       "    <tr>\n",
       "      <th>2000-01-30</th>\n",
       "      <td>0.0</td>\n",
       "      <td>0.0</td>\n",
       "      <td>0.0</td>\n",
       "      <td>0.0</td>\n",
       "      <td>1.0</td>\n",
       "      <td>1.0</td>\n",
       "      <td>0.0</td>\n",
       "      <td>0.0</td>\n",
       "      <td>0.0</td>\n",
       "      <td>0.0</td>\n",
       "    </tr>\n",
       "    <tr>\n",
       "      <th>2000-02-06</th>\n",
       "      <td>0.0</td>\n",
       "      <td>0.0</td>\n",
       "      <td>0.0</td>\n",
       "      <td>0.0</td>\n",
       "      <td>1.0</td>\n",
       "      <td>1.0</td>\n",
       "      <td>0.0</td>\n",
       "      <td>0.0</td>\n",
       "      <td>0.0</td>\n",
       "      <td>0.0</td>\n",
       "    </tr>\n",
       "  </tbody>\n",
       "</table>\n",
       "</div>"
      ],
      "text/plain": [
       "            AH1  AH1N12009  AH3  AH5  ANOTSUBTYPED  INF_A  BYAMAGATA  \\\n",
       "EDATE                                                                  \n",
       "2000-01-09  0.0        0.0  1.0  0.0           0.0    1.0        0.0   \n",
       "2000-01-16  0.0        0.0  0.0  0.0           1.0    1.0        0.0   \n",
       "2000-01-23  0.0        0.0  0.0  0.0           2.0    2.0        0.0   \n",
       "2000-01-30  0.0        0.0  0.0  0.0           1.0    1.0        0.0   \n",
       "2000-02-06  0.0        0.0  0.0  0.0           1.0    1.0        0.0   \n",
       "\n",
       "            BVICTORIA  BNOTDETERMINED  INF_B  \n",
       "EDATE                                         \n",
       "2000-01-09        0.0             0.0    0.0  \n",
       "2000-01-16        0.0             0.0    0.0  \n",
       "2000-01-23        0.0             0.0    0.0  \n",
       "2000-01-30        0.0             0.0    0.0  \n",
       "2000-02-06        0.0             0.0    0.0  "
      ]
     },
     "execution_count": 53,
     "metadata": {},
     "output_type": "execute_result"
    }
   ],
   "source": [
    "flus=cat_data.iloc[:,2:12]\n",
    "#flus=flus.reset_index()\n",
    "flus.head()\n",
    "#ndf = pd.DataFrame(flus.values / cat_data.ALL_INF.values, columns=flus.columns)\n",
    "#ndf = ndf.assign(Total=ndf.sum(1)).fillna(0)\n"
   ]
  },
  {
   "cell_type": "code",
   "execution_count": 54,
   "id": "dfa4b3ce",
   "metadata": {
    "execution": {
     "iopub.execute_input": "2022-05-01T18:45:03.866538Z",
     "iopub.status.busy": "2022-05-01T18:45:03.865984Z",
     "iopub.status.idle": "2022-05-01T18:45:03.869472Z",
     "shell.execute_reply": "2022-05-01T18:45:03.868803Z"
    },
    "papermill": {
     "duration": 0.114859,
     "end_time": "2022-05-01T18:45:03.871335",
     "exception": false,
     "start_time": "2022-05-01T18:45:03.756476",
     "status": "completed"
    },
    "tags": []
   },
   "outputs": [],
   "source": [
    "\n",
    "# for f in flus.index:\n",
    "#         if cat_data['ALL_INF'][f] !=0:\n",
    "#             d=cat_data['ALL_INF'][f]\n",
    "#             #print(flus.loc[f])\n",
    "#             flus.loc[f] = flus.loc[f] > 0.7\n",
    "# #\n",
    "# flus['type'] = flus.INF_A == True"
   ]
  },
  {
   "cell_type": "code",
   "execution_count": 55,
   "id": "102992cc",
   "metadata": {
    "execution": {
     "iopub.execute_input": "2022-05-01T18:45:04.091327Z",
     "iopub.status.busy": "2022-05-01T18:45:04.090777Z",
     "iopub.status.idle": "2022-05-01T18:45:04.093861Z",
     "shell.execute_reply": "2022-05-01T18:45:04.093309Z"
    },
    "papermill": {
     "duration": 0.1147,
     "end_time": "2022-05-01T18:45:04.095730",
     "exception": false,
     "start_time": "2022-05-01T18:45:03.981030",
     "status": "completed"
    },
    "tags": []
   },
   "outputs": [],
   "source": [
    "#flus.head()"
   ]
  },
  {
   "cell_type": "code",
   "execution_count": 56,
   "id": "15736a1c",
   "metadata": {
    "execution": {
     "iopub.execute_input": "2022-05-01T18:45:04.314548Z",
     "iopub.status.busy": "2022-05-01T18:45:04.313999Z",
     "iopub.status.idle": "2022-05-01T18:45:04.317122Z",
     "shell.execute_reply": "2022-05-01T18:45:04.316514Z"
    },
    "papermill": {
     "duration": 0.114719,
     "end_time": "2022-05-01T18:45:04.318857",
     "exception": false,
     "start_time": "2022-05-01T18:45:04.204138",
     "status": "completed"
    },
    "tags": []
   },
   "outputs": [],
   "source": [
    "#flus[\"type\"]=flus.apply(lambda x: np.where(x, x.name, 0)) #maps trues to values\n",
    "#flus['type']=flus.type.apply(lambda x: np.where(x, 'pandemic', 0)) "
   ]
  },
  {
   "cell_type": "code",
   "execution_count": 57,
   "id": "f924f03d",
   "metadata": {
    "execution": {
     "iopub.execute_input": "2022-05-01T18:45:04.541801Z",
     "iopub.status.busy": "2022-05-01T18:45:04.541258Z",
     "iopub.status.idle": "2022-05-01T18:45:04.544798Z",
     "shell.execute_reply": "2022-05-01T18:45:04.544255Z"
    },
    "papermill": {
     "duration": 0.116773,
     "end_time": "2022-05-01T18:45:04.546944",
     "exception": false,
     "start_time": "2022-05-01T18:45:04.430171",
     "status": "completed"
    },
    "tags": []
   },
   "outputs": [],
   "source": [
    "#flus.head"
   ]
  },
  {
   "cell_type": "code",
   "execution_count": null,
   "id": "977ee1ea",
   "metadata": {
    "papermill": {
     "duration": 0.108382,
     "end_time": "2022-05-01T18:45:04.765607",
     "exception": false,
     "start_time": "2022-05-01T18:45:04.657225",
     "status": "completed"
    },
    "tags": []
   },
   "outputs": [],
   "source": []
  },
  {
   "cell_type": "code",
   "execution_count": null,
   "id": "e1a57e78",
   "metadata": {
    "papermill": {
     "duration": 0.108233,
     "end_time": "2022-05-01T18:45:04.982500",
     "exception": false,
     "start_time": "2022-05-01T18:45:04.874267",
     "status": "completed"
    },
    "tags": []
   },
   "outputs": [],
   "source": []
  },
  {
   "cell_type": "code",
   "execution_count": 58,
   "id": "2646176f",
   "metadata": {
    "execution": {
     "iopub.execute_input": "2022-05-01T18:45:05.201637Z",
     "iopub.status.busy": "2022-05-01T18:45:05.201365Z",
     "iopub.status.idle": "2022-05-01T18:45:05.205126Z",
     "shell.execute_reply": "2022-05-01T18:45:05.204187Z"
    },
    "papermill": {
     "duration": 0.115384,
     "end_time": "2022-05-01T18:45:05.207040",
     "exception": false,
     "start_time": "2022-05-01T18:45:05.091656",
     "status": "completed"
    },
    "tags": []
   },
   "outputs": [],
   "source": [
    "# from sklearn.feature_extraction.text import CountVectorizer\n",
    "\n",
    "# # Initialize and fit CountVectorizer with given text documents\n",
    "# vectorizer = CountVectorizer(analyzer='char').fit(flu['Type/Subtype'])\n",
    "\n",
    "# # use the vectorizer to transform the document into word count vectors (Sparse)\n",
    "# words = vectorizer.transform(trial)"
   ]
  },
  {
   "cell_type": "code",
   "execution_count": 59,
   "id": "a4beb9d5",
   "metadata": {
    "execution": {
     "iopub.execute_input": "2022-05-01T18:45:05.427863Z",
     "iopub.status.busy": "2022-05-01T18:45:05.427582Z",
     "iopub.status.idle": "2022-05-01T18:45:05.431458Z",
     "shell.execute_reply": "2022-05-01T18:45:05.430414Z"
    },
    "papermill": {
     "duration": 0.116397,
     "end_time": "2022-05-01T18:45:05.433493",
     "exception": false,
     "start_time": "2022-05-01T18:45:05.317096",
     "status": "completed"
    },
    "tags": []
   },
   "outputs": [],
   "source": [
    "# ps=mod.predict(words)\n",
    "\n",
    "# #transform labels back to text\n",
    "# preS= labelencoderF.inverse_transform(ps)\n",
    "# # preS"
   ]
  },
  {
   "cell_type": "code",
   "execution_count": 60,
   "id": "6e037fd1",
   "metadata": {
    "execution": {
     "iopub.execute_input": "2022-05-01T18:45:05.654298Z",
     "iopub.status.busy": "2022-05-01T18:45:05.654000Z",
     "iopub.status.idle": "2022-05-01T18:45:05.657751Z",
     "shell.execute_reply": "2022-05-01T18:45:05.657072Z"
    },
    "papermill": {
     "duration": 0.115796,
     "end_time": "2022-05-01T18:45:05.659662",
     "exception": false,
     "start_time": "2022-05-01T18:45:05.543866",
     "status": "completed"
    },
    "tags": []
   },
   "outputs": [],
   "source": [
    "# from sklearn.metrics import confusion_matrix\n",
    "# mrS = confusion_matrix(words, ps)\n",
    "# # Creating a dataframe for a array-formatted Confusion matrix,so it will be easy for plotting.\n",
    "# cmS = pd.DataFrame(mrS)\n",
    "# import seaborn as sns\n",
    "# import numpy as np\n",
    "# #Plotting the confusion matrix\n",
    "# plt.figure(figsize=(10,6))\n",
    "# sns.heatmap(cmS/np.sum(cmS), annot=True, cmap='Greens', fmt='.2%')\n",
    "# plt.title('Confusion Matrix')\n",
    "# plt.ylabel('Actual Values')\n",
    "# plt.xlabel('Predicted Values')\n",
    "# plt.show()"
   ]
  },
  {
   "cell_type": "markdown",
   "id": "dab160c3",
   "metadata": {
    "papermill": {
     "duration": 0.108392,
     "end_time": "2022-05-01T18:45:05.878274",
     "exception": false,
     "start_time": "2022-05-01T18:45:05.769882",
     "status": "completed"
    },
    "tags": []
   },
   "source": [
    "#make class predictions\n",
    "predm = mod.predict(x_test)### Resources/ References\n",
    "* Data: [Australian Government](https://www1.health.gov.au/internet/main/publishing.nsf/Content/ohp-pub-datasets.htm)"
   ]
  }
 ],
 "metadata": {
  "kernelspec": {
   "display_name": "Python 3",
   "language": "python",
   "name": "python3"
  },
  "language_info": {
   "codemirror_mode": {
    "name": "ipython",
    "version": 3
   },
   "file_extension": ".py",
   "mimetype": "text/x-python",
   "name": "python",
   "nbconvert_exporter": "python",
   "pygments_lexer": "ipython3",
   "version": "3.7.12"
  },
  "papermill": {
   "default_parameters": {},
   "duration": 307.923373,
   "end_time": "2022-05-01T18:45:09.544760",
   "environment_variables": {},
   "exception": null,
   "input_path": "__notebook__.ipynb",
   "output_path": "__notebook__.ipynb",
   "parameters": {},
   "start_time": "2022-05-01T18:40:01.621387",
   "version": "2.3.4"
  }
 },
 "nbformat": 4,
 "nbformat_minor": 5
}
